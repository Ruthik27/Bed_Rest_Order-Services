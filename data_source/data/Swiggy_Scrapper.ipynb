{
 "cells": [
  {
   "cell_type": "markdown",
   "metadata": {},
   "source": [
    "#### Demo urls to use and apply changes"
   ]
  },
  {
   "cell_type": "markdown",
   "metadata": {},
   "source": [
    "https://www.swiggy.com/pune/baner-restaurants\n",
    "\n",
    "https://www.swiggy.com/pune/wakad-restaurants\n",
    "\n",
    "https://www.swiggy.com/pune/hinjewadi-restaurants\n",
    "\n",
    "https://www.swiggy.com/pune/hinjewadi-phase-3-restaurants\n",
    "\n",
    "https://www.swiggy.com/pune/pcmc-restaurants\n",
    "\n",
    "https://www.swiggy.com/pune/baner-restaurants?page=2\n",
    "https://www.swiggy.com/pune/baner-restaurants?page=3\n",
    "\n",
    "\n",
    "https://www.swiggy.com/pune/{}"
   ]
  },
  {
   "cell_type": "markdown",
   "metadata": {},
   "source": [
    "## MUMBAI LINKS"
   ]
  },
  {
   "cell_type": "code",
   "execution_count": 93,
   "metadata": {},
   "outputs": [],
   "source": [
    "import pandas as pd"
   ]
  },
  {
   "cell_type": "code",
   "execution_count": 94,
   "metadata": {},
   "outputs": [],
   "source": [
    "data ={'https://www.swiggy.com/mumbai/Thane%20panchpakhadi-restaurants',\n",
    "'https://www.swiggy.com/mumbai/vile-parle-restaurants',\n",
    "'https://www.swiggy.com/mumbai/nerul-restaurants',\n",
    "'https://www.swiggy.com/mumbai/lower-parel-worli-restaurants',\n",
    "'https://www.swiggy.com/mumbai/juhu-restaurants',\n",
    "'https://www.swiggy.com/mumbai/Vashi-restaurants',\n",
    "'https://www.swiggy.com/mumbai/panvel-restaurants',\n",
    "'https://www.swiggy.com/mumbai/Marol%20Sakinaka-restaurants',\n",
    "'https://www.swiggy.com/mumbai/santacruz-east-bandra-east-restaurants',\n",
    "'https://www.swiggy.com/mumbai/bhayandar-restaurants',\n",
    "'https://www.swiggy.com/mumbai/mahim-dadar-west-restaurants',\n",
    "'https://www.swiggy.com/mumbai/chowpatty-fort-restaurants',\n",
    "'https://www.swiggy.com/mumbai/matunga-restaurants',\n",
    "'https://www.swiggy.com/mumbai/kurla-restaurants',\n",
    "'https://www.swiggy.com/mumbai/virar-restaurants',\n",
    "'https://www.swiggy.com/mumbai/jog,%20gor%20west-restaurants',\n",
    "'https://www.swiggy.com/mumbai/chembur-restaurants',\n",
    "'https://www.swiggy.com/mumbai/kamothe-restaurants',\n",
    "'https://www.swiggy.com/mumbai/jog-gor%20east-restaurants',\n",
    "'https://www.swiggy.com/mumbai/sion-bhakti-park-restaurants',\n",
    "'https://www.swiggy.com/mumbai/ghatkopar-vikhroli-restaurants',\n",
    "'https://www.swiggy.com/mumbai/fort-colaba-restaurants',\n",
    "'https://www.swiggy.com/mumbai/andheri-west-restaurants',\n",
    "'https://www.swiggy.com/mumbai/bhandup-restaurants',\n",
    "'https://www.swiggy.com/mumbai/byculla-restaurants',\n",
    "'https://www.swiggy.com/mumbai/dombivli-restaurants',\n",
    "'https://www.swiggy.com/mumbai/thane-hiranandani-estate-restaurants',\n",
    "'https://www.swiggy.com/mumbai/mal%20kan%20east-restaurants',\n",
    "'https://www.swiggy.com/mumbai/airoli-restaurants',\n",
    "'https://www.swiggy.com/mumbai/dahisar-east-restaurants',\n",
    "'https://www.swiggy.com/mumbai/powai-restaurants',\n",
    "'https://www.swiggy.com/mumbai/CBD-belapur-restaurants',\n",
    "'https://www.swiggy.com/mumbai/andheri-east-restaurants',\n",
    "'https://www.swiggy.com/mumbai/mahalaxmi-malabar-hill-restaurants',\n",
    "'https://www.swiggy.com/mumbai/parel-restaurants',\n",
    "'https://www.swiggy.com/mumbai/bandra-west-restaurants',\n",
    "'https://www.swiggy.com/mumbai/Kharghar-restaurants',\n",
    "'https://www.swiggy.com/mumbai/thane-restaurants',\n",
    "'https://www.swiggy.com/mumbai/malad-kandivali%20west-restaurants',\n",
    "'https://www.swiggy.com/mumbai/borivali-restaurants',\n",
    "'https://www.swiggy.com/mumbai/mira-road-restaurants',\n",
    "'https://www.swiggy.com/mumbai/vasai-restaurants'}\n"
   ]
  },
  {
   "cell_type": "code",
   "execution_count": 95,
   "metadata": {},
   "outputs": [],
   "source": [
    "df = pd.DataFrame(data,columns = ['links'],dtype=str)"
   ]
  },
  {
   "cell_type": "code",
   "execution_count": 102,
   "metadata": {},
   "outputs": [
    {
     "data": {
      "text/plain": [
       "links    sion-bhakti-park-restaurants\n",
       "Name: 0, dtype: object"
      ]
     },
     "execution_count": 102,
     "metadata": {},
     "output_type": "execute_result"
    }
   ],
   "source": [
    "df.iloc[0]"
   ]
  },
  {
   "cell_type": "code",
   "execution_count": 97,
   "metadata": {},
   "outputs": [],
   "source": [
    "df['links'] = df['links'].str.replace('https://www.swiggy.com/mumbai/','')"
   ]
  },
  {
   "cell_type": "code",
   "execution_count": 98,
   "metadata": {
    "scrolled": true
   },
   "outputs": [],
   "source": [
    "df['links'] = df['links'].str.strip()"
   ]
  },
  {
   "cell_type": "code",
   "execution_count": 99,
   "metadata": {
    "scrolled": false
   },
   "outputs": [
    {
     "name": "stdout",
     "output_type": "stream",
     "text": [
      "<class 'pandas.core.frame.DataFrame'>\n",
      "RangeIndex: 42 entries, 0 to 41\n",
      "Data columns (total 1 columns):\n",
      " #   Column  Non-Null Count  Dtype \n",
      "---  ------  --------------  ----- \n",
      " 0   links   42 non-null     object\n",
      "dtypes: object(1)\n",
      "memory usage: 464.0+ bytes\n"
     ]
    }
   ],
   "source": [
    "df.info()"
   ]
  },
  {
   "cell_type": "markdown",
   "metadata": {},
   "source": [
    "### Required modules and Lib."
   ]
  },
  {
   "cell_type": "code",
   "execution_count": 79,
   "metadata": {},
   "outputs": [
    {
     "data": {
      "text/plain": [
       "<Response [200]>"
      ]
     },
     "execution_count": 79,
     "metadata": {},
     "output_type": "execute_result"
    }
   ],
   "source": [
    "import csv\n",
    "from bs4 import BeautifulSoup\n",
    "from selenium import webdriver\n",
    "from urllib.request import Request, urlopen\n",
    "import requests\n",
    "url ='https://www.swiggy.com/pune/baner-restaurants'\n",
    "headers = {'User-Agent': 'Mozilla/5.0 (X11; Linux x86_64; rv:78.0) Gecko/20100101 Firefox/78.0'}\n",
    "response = requests.get(url,headers=headers)\n",
    "response\n",
    "\n",
    "#webpage = urlopen(req).read()\n",
    "#res\n",
    "#response = requests.get(url)\n",
    "#response"
   ]
  },
  {
   "cell_type": "markdown",
   "metadata": {},
   "source": [
    "### Creating the url and response"
   ]
  },
  {
   "cell_type": "code",
   "execution_count": 80,
   "metadata": {},
   "outputs": [
    {
     "data": {
      "text/plain": [
       "'https://www.swiggy.com/pune/baner-restaurants?page={}'"
      ]
     },
     "execution_count": 80,
     "metadata": {},
     "output_type": "execute_result"
    }
   ],
   "source": [
    "def get_url(search_term):\n",
    "    template = 'https://www.swiggy.com/pune/{}'    \n",
    "    url = template.format(search_term)\n",
    "    \n",
    "    url += '?page={}'\n",
    "    \n",
    "    return url\n",
    "url = get_url('baner-restaurants' ) \n",
    "url"
   ]
  },
  {
   "cell_type": "code",
   "execution_count": 81,
   "metadata": {},
   "outputs": [
    {
     "data": {
      "text/plain": [
       "<Response [200]>"
      ]
     },
     "execution_count": 81,
     "metadata": {},
     "output_type": "execute_result"
    }
   ],
   "source": [
    "response = requests.get(url)\n",
    "response"
   ]
  },
  {
   "cell_type": "markdown",
   "metadata": {},
   "source": [
    "### Starting Beautiful Soup"
   ]
  },
  {
   "cell_type": "code",
   "execution_count": 82,
   "metadata": {},
   "outputs": [],
   "source": [
    "soup  = BeautifulSoup( response.text,'html.parser')"
   ]
  },
  {
   "cell_type": "code",
   "execution_count": 84,
   "metadata": {},
   "outputs": [
    {
     "data": {
      "text/plain": [
       "32"
      ]
     },
     "execution_count": 84,
     "metadata": {},
     "output_type": "execute_result"
    }
   ],
   "source": [
    "cards = soup.find_all('div', {'class':'_3XX_A'})\n",
    "len(cards)"
   ]
  },
  {
   "cell_type": "code",
   "execution_count": 85,
   "metadata": {},
   "outputs": [],
   "source": [
    "card = cards[0]"
   ]
  },
  {
   "cell_type": "code",
   "execution_count": 86,
   "metadata": {},
   "outputs": [],
   "source": [
    "atag = card.a"
   ]
  },
  {
   "cell_type": "code",
   "execution_count": 87,
   "metadata": {},
   "outputs": [
    {
     "data": {
      "text/plain": [
       "'https://www.swiggy.com/restaurants/lkd-la-kheer-deli-baner-pune-180012'"
      ]
     },
     "execution_count": 87,
     "metadata": {},
     "output_type": "execute_result"
    }
   ],
   "source": [
    "details = 'https://www.swiggy.com' + atag.get('href')\n",
    "details"
   ]
  },
  {
   "cell_type": "code",
   "execution_count": 88,
   "metadata": {},
   "outputs": [
    {
     "data": {
      "text/plain": [
       "'LKD | La Kheer Deli'"
      ]
     },
     "execution_count": 88,
     "metadata": {},
     "output_type": "execute_result"
    }
   ],
   "source": [
    "title = card.find('div', {'class':'nA6kb'})\n",
    "title.get_text()"
   ]
  },
  {
   "cell_type": "code",
   "execution_count": 89,
   "metadata": {},
   "outputs": [
    {
     "data": {
      "text/plain": [
       "'Desserts'"
      ]
     },
     "execution_count": 89,
     "metadata": {},
     "output_type": "execute_result"
    }
   ],
   "source": [
    "spec = card.find('div', {'class':'_1gURR'})\n",
    "spec.get_text()"
   ]
  },
  {
   "cell_type": "code",
   "execution_count": 90,
   "metadata": {},
   "outputs": [
    {
     "data": {
      "text/plain": [
       "'4.5•-- MINS•₹200 FOR TWO'"
      ]
     },
     "execution_count": 90,
     "metadata": {},
     "output_type": "execute_result"
    }
   ],
   "source": [
    "ratt = card.find('div', {'class':'_3Mn31'})\n",
    "ratt.get_text()"
   ]
  },
  {
   "cell_type": "code",
   "execution_count": 91,
   "metadata": {},
   "outputs": [
    {
     "data": {
      "text/plain": [
       "'₹200 FOR TWO'"
      ]
     },
     "execution_count": 91,
     "metadata": {},
     "output_type": "execute_result"
    }
   ],
   "source": [
    "price = card.find('div', {'class':'nVWSi'}).get_text()\n",
    "price"
   ]
  },
  {
   "cell_type": "markdown",
   "metadata": {},
   "source": [
    "### Defining Function"
   ]
  },
  {
   "cell_type": "code",
   "execution_count": 189,
   "metadata": {},
   "outputs": [],
   "source": [
    "import csv\n",
    "from datetime import datetime\n",
    "import requests\n",
    "from bs4 import BeautifulSoup\n",
    "#from selenium import webdriver\n",
    "\n",
    "def get_url(search_term):\n",
    "    template = 'https://www.swiggy.com/pune/{}'    \n",
    "    url = template.format(search_term)\n",
    "    \n",
    "    url += '?page={}'\n",
    "    \n",
    "    return url\n",
    "def get_record(item):\n",
    "    atag = item.a    \n",
    "    try:\n",
    "        details = 'https://www.swiggy.com' + atag.get('href')\n",
    "    except:\n",
    "        details = \" \"\n",
    "        \n",
    "    try:\n",
    "        title = item.find('div', {'class':'nA6kb'}).get_text()\n",
    "    except:\n",
    "        title = \" \"\n",
    "    \n",
    "    try:\n",
    "        spec = item.find('div', {'class':'_1gURR'}).get_text()\n",
    "    except:\n",
    "        spec = \" \"\n",
    "        \n",
    "    try:\n",
    "        ratt = item.find('div', {'class':'_3Mn31'}).get_text()\n",
    "    except:\n",
    "        ratt = \" \"\n",
    "    \n",
    "\n",
    "    result = (details, title, spec, ratt)\n",
    "    \n",
    "    return result\n",
    "\n",
    "def main(stream):\n",
    "    \n",
    "    records = []\n",
    "    url = get_url(stream)\n",
    "    \n",
    "    for page in range(1,16):\n",
    "        response =  requests.get(url.format(page))\n",
    "        #response = requests.get(url.format(page))\n",
    "        #url = get_url(stream).format(page)\n",
    "        soup  = BeautifulSoup(response.text,'html.parser')\n",
    "        cards = soup.find_all('div', {'class':'_3XX_A'})\n",
    "        \n",
    "        for item in cards:\n",
    "            record = get_record(item)\n",
    "            if record:\n",
    "                records.append(record)\n",
    "           \n",
    "        \n",
    "    with open('Swiggy_kurla-restaurants.csv','w', newline='', encoding='utf-8') as f:\n",
    "        writer = csv.writer(f)\n",
    "        writer.writerow(['details', 'title', 'spec', 'ratt'])\n",
    "        writer.writerows(records)\n",
    "        "
   ]
  },
  {
   "cell_type": "code",
   "execution_count": 190,
   "metadata": {},
   "outputs": [],
   "source": [
    "main('kurla-restaurants')"
   ]
  },
  {
   "cell_type": "code",
   "execution_count": 191,
   "metadata": {},
   "outputs": [
    {
     "name": "stdout",
     "output_type": "stream",
     "text": [
      "<class 'pandas.core.frame.DataFrame'>\n",
      "RangeIndex: 42 entries, 0 to 41\n",
      "Data columns (total 1 columns):\n",
      " #   Column  Non-Null Count  Dtype \n",
      "---  ------  --------------  ----- \n",
      " 0   links   42 non-null     object\n",
      "dtypes: object(1)\n",
      "memory usage: 464.0+ bytes\n"
     ]
    }
   ],
   "source": [
    "df.info()"
   ]
  },
  {
   "cell_type": "code",
   "execution_count": null,
   "metadata": {},
   "outputs": [],
   "source": []
  }
 ],
 "metadata": {
  "kernelspec": {
   "display_name": "Python 3",
   "language": "python",
   "name": "python3"
  },
  "language_info": {
   "codemirror_mode": {
    "name": "ipython",
    "version": 3
   },
   "file_extension": ".py",
   "mimetype": "text/x-python",
   "name": "python",
   "nbconvert_exporter": "python",
   "pygments_lexer": "ipython3",
   "version": "3.8.5"
  }
 },
 "nbformat": 4,
 "nbformat_minor": 4
}
