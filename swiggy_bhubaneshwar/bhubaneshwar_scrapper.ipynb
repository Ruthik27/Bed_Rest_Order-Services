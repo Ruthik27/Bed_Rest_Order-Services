{
 "cells": [
  {
   "cell_type": "markdown",
   "metadata": {},
   "source": [
    "https://www.swiggy.com/bhubaneswar\n",
    "\n"
   ]
  },
  {
   "cell_type": "code",
   "execution_count": 3,
   "metadata": {},
   "outputs": [],
   "source": [
    "import pandas as pd\n",
    "import csv\n",
    "from bs4 import BeautifulSoup\n",
    "from selenium import webdriver\n",
    "from urllib.request import Request, urlopen\n",
    "import requests"
   ]
  },
  {
   "cell_type": "code",
   "execution_count": 4,
   "metadata": {},
   "outputs": [
    {
     "data": {
      "text/plain": [
       "'https://www.swiggy.com/bhubaneswar?page={}'"
      ]
     },
     "execution_count": 4,
     "metadata": {},
     "output_type": "execute_result"
    }
   ],
   "source": [
    "def get_url(search_term):\n",
    "    template = 'https://www.swiggy.com/{}'    \n",
    "    url = template.format(search_term)\n",
    "    \n",
    "    url += '?page={}'\n",
    "    \n",
    "    return url\n",
    "url = get_url('bhubaneswar' ) \n",
    "url"
   ]
  },
  {
   "cell_type": "code",
   "execution_count": 5,
   "metadata": {},
   "outputs": [
    {
     "data": {
      "text/plain": [
       "<Response [200]>"
      ]
     },
     "execution_count": 5,
     "metadata": {},
     "output_type": "execute_result"
    }
   ],
   "source": [
    "response = requests.get(url)\n",
    "response"
   ]
  },
  {
   "cell_type": "code",
   "execution_count": 6,
   "metadata": {},
   "outputs": [],
   "source": [
    "soup  = BeautifulSoup( response.text,'html.parser')"
   ]
  },
  {
   "cell_type": "code",
   "execution_count": 7,
   "metadata": {},
   "outputs": [
    {
     "data": {
      "text/plain": [
       "16"
      ]
     },
     "execution_count": 7,
     "metadata": {},
     "output_type": "execute_result"
    }
   ],
   "source": [
    "cards = soup.find_all('div', {'class':'_3XX_A'})\n",
    "len(cards)"
   ]
  },
  {
   "cell_type": "code",
   "execution_count": 8,
   "metadata": {},
   "outputs": [],
   "source": [
    "import csv\n",
    "from datetime import datetime\n",
    "import requests\n",
    "from bs4 import BeautifulSoup\n",
    "#from selenium import webdriver\n",
    "\n",
    "def get_url(search_term):\n",
    "    template = 'https://www.swiggy.com/{}'    \n",
    "    url = template.format(search_term)\n",
    "    \n",
    "    url += '?page={}'\n",
    "    \n",
    "    return url\n",
    "def get_record(item):\n",
    "    atag = item.a    \n",
    "    try:\n",
    "        details = 'https://www.swiggy.com' + atag.get('href')\n",
    "    except:\n",
    "        details = \" \"\n",
    "        \n",
    "    try:\n",
    "        title = item.find('div', {'class':'nA6kb'}).get_text()\n",
    "    except:\n",
    "        title = \" \"\n",
    "    \n",
    "    try:\n",
    "        spec = item.find('div', {'class':'_1gURR'}).get_text()\n",
    "    except:\n",
    "        spec = \" \"\n",
    "        \n",
    "    try:\n",
    "        ratt = item.find('div', {'class':'_3Mn31'}).get_text()\n",
    "    except:\n",
    "        ratt = \" \"\n",
    "    \n",
    "\n",
    "    result = (details, title, spec, ratt)\n",
    "    \n",
    "    return result\n",
    "\n",
    "def main(stream):\n",
    "    \n",
    "    records = []\n",
    "    url = get_url(stream)\n",
    "    \n",
    "    for page in range(1,16):\n",
    "        response =  requests.get(url.format(page))\n",
    "        #response = requests.get(url.format(page))\n",
    "        #url = get_url(stream).format(page)\n",
    "        soup  = BeautifulSoup(response.text,'html.parser')\n",
    "        cards = soup.find_all('div', {'class':'_3XX_A'})\n",
    "        \n",
    "        for item in cards:\n",
    "            record = get_record(item)\n",
    "            if record:\n",
    "                records.append(record)\n",
    "           \n",
    "        \n",
    "    with open('Swiggy_Bhubaneshwar-restaurants.csv','w', newline='', encoding='utf-8') as f:\n",
    "        writer = csv.writer(f)\n",
    "        writer.writerow(['details', 'title', 'spec', 'ratt'])\n",
    "        writer.writerows(records)\n",
    "        "
   ]
  },
  {
   "cell_type": "code",
   "execution_count": 9,
   "metadata": {},
   "outputs": [],
   "source": [
    "main('bhubaneswar')"
   ]
  },
  {
   "cell_type": "code",
   "execution_count": null,
   "metadata": {},
   "outputs": [],
   "source": []
  },
  {
   "cell_type": "code",
   "execution_count": null,
   "metadata": {},
   "outputs": [],
   "source": []
  },
  {
   "cell_type": "code",
   "execution_count": null,
   "metadata": {},
   "outputs": [],
   "source": []
  },
  {
   "cell_type": "code",
   "execution_count": null,
   "metadata": {},
   "outputs": [],
   "source": []
  },
  {
   "cell_type": "code",
   "execution_count": null,
   "metadata": {},
   "outputs": [],
   "source": []
  },
  {
   "cell_type": "code",
   "execution_count": null,
   "metadata": {},
   "outputs": [],
   "source": []
  },
  {
   "cell_type": "code",
   "execution_count": null,
   "metadata": {},
   "outputs": [],
   "source": []
  },
  {
   "cell_type": "code",
   "execution_count": null,
   "metadata": {},
   "outputs": [],
   "source": []
  },
  {
   "cell_type": "code",
   "execution_count": null,
   "metadata": {},
   "outputs": [],
   "source": []
  },
  {
   "cell_type": "code",
   "execution_count": null,
   "metadata": {},
   "outputs": [],
   "source": []
  },
  {
   "cell_type": "code",
   "execution_count": null,
   "metadata": {},
   "outputs": [],
   "source": []
  },
  {
   "cell_type": "code",
   "execution_count": null,
   "metadata": {},
   "outputs": [],
   "source": []
  },
  {
   "cell_type": "code",
   "execution_count": null,
   "metadata": {},
   "outputs": [],
   "source": []
  }
 ],
 "metadata": {
  "kernelspec": {
   "display_name": "Python [conda env:root] *",
   "language": "python",
   "name": "conda-root-py"
  },
  "language_info": {
   "codemirror_mode": {
    "name": "ipython",
    "version": 3
   },
   "file_extension": ".py",
   "mimetype": "text/x-python",
   "name": "python",
   "nbconvert_exporter": "python",
   "pygments_lexer": "ipython3",
   "version": "3.8.5"
  }
 },
 "nbformat": 4,
 "nbformat_minor": 4
}
