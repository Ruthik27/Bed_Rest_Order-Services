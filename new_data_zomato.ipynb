{
 "cells": [
  {
   "cell_type": "code",
   "execution_count": 44,
   "metadata": {},
   "outputs": [],
   "source": [
    "import pandas as pd\n",
    "import matplotlib.pyplot as plt\n",
    "import numpy as np"
   ]
  },
  {
   "cell_type": "code",
   "execution_count": 45,
   "metadata": {},
   "outputs": [],
   "source": [
    "baner = pd.read_excel('data_source/Baner_cleaned.xlsx')\n",
    "bavdhan = pd.read_excel('data_source/Bavdhan_cleaned.xlsx')\n",
    "hinjewadi = pd.read_excel('data_source/Hinjawadi_cleaned.xlsx')\n",
    "wakad = pd.read_excel('data_source/Wakad_cleaned.xlsx')"
   ]
  },
  {
   "cell_type": "code",
   "execution_count": 46,
   "metadata": {},
   "outputs": [],
   "source": [
    "baner['locality'] = 'Baner'\n",
    "bavdhan['locality'] = 'Bavdhan'\n",
    "hinjewadi['locality'] = 'Hinjewadi'\n",
    "wakad['locality'] = 'Wakad'"
   ]
  },
  {
   "cell_type": "code",
   "execution_count": 47,
   "metadata": {},
   "outputs": [],
   "source": [
    "baner_copy = baner.copy()\n",
    "baner_copy =baner_copy.reindex(columns = ['Name', 'locality', 'ratings','off','delivery_reviews','cuisine'])\n",
    "\n",
    "bavdhan_copy = bavdhan.copy()\n",
    "bavdhan_copy =bavdhan_copy.reindex(columns = ['Name', 'locality', 'ratings','off','delivery_reviews','cuisine'])\n",
    "\n",
    "hinjewadi_copy = hinjewadi.copy()\n",
    "hinjewadi_copy =hinjewadi_copy.reindex(columns = ['Name', 'locality', 'ratings','off','delivery_reviews','cuisine'])\n",
    "\n",
    "wakad_copy = wakad.copy()\n",
    "wakad_copy =wakad_copy.reindex(columns = ['Name', 'locality', 'ratings','off','delivery_reviews','cuisine'])"
   ]
  },
  {
   "cell_type": "markdown",
   "metadata": {},
   "source": [
    "### Cleaning the delilvery revies column"
   ]
  },
  {
   "cell_type": "code",
   "execution_count": 48,
   "metadata": {},
   "outputs": [],
   "source": [
    "baner_copy.delivery_reviews=baner_copy.delivery_reviews.str.replace('[(,),Delivery,Reviews]','')\n",
    "bavdhan_copy.delivery_reviews=bavdhan_copy.delivery_reviews.str.replace('[(,),Delivery,Reviews]','')\n",
    "hinjewadi_copy.delivery_reviews=hinjewadi_copy.delivery_reviews.str.replace('[(,),Delivery,Reviews]','')\n",
    "wakad_copy.delivery_reviews=wakad_copy.delivery_reviews.str.replace('[(,),Delivery,Reviews]','')"
   ]
  },
  {
   "cell_type": "code",
   "execution_count": 69,
   "metadata": {},
   "outputs": [
    {
     "name": "stdout",
     "output_type": "stream",
     "text": [
      "<class 'pandas.core.frame.DataFrame'>\n",
      "RangeIndex: 1137 entries, 0 to 1136\n",
      "Data columns (total 6 columns):\n",
      " #   Column            Non-Null Count  Dtype  \n",
      "---  ------            --------------  -----  \n",
      " 0   Name              1137 non-null   object \n",
      " 1   locality          1137 non-null   object \n",
      " 2   ratings           851 non-null    float64\n",
      " 3   off               968 non-null    object \n",
      " 4   delivery_reviews  1010 non-null   object \n",
      " 5   cuisine           1137 non-null   object \n",
      "dtypes: float64(1), object(5)\n",
      "memory usage: 53.4+ KB\n"
     ]
    }
   ],
   "source": [
    "baner_copy.info()"
   ]
  },
  {
   "cell_type": "code",
   "execution_count": 70,
   "metadata": {
    "scrolled": true
   },
   "outputs": [
    {
     "data": {
      "text/html": [
       "<div>\n",
       "<style scoped>\n",
       "    .dataframe tbody tr th:only-of-type {\n",
       "        vertical-align: middle;\n",
       "    }\n",
       "\n",
       "    .dataframe tbody tr th {\n",
       "        vertical-align: top;\n",
       "    }\n",
       "\n",
       "    .dataframe thead th {\n",
       "        text-align: right;\n",
       "    }\n",
       "</style>\n",
       "<table border=\"1\" class=\"dataframe\">\n",
       "  <thead>\n",
       "    <tr style=\"text-align: right;\">\n",
       "      <th></th>\n",
       "      <th>Name</th>\n",
       "      <th>locality</th>\n",
       "      <th>ratings</th>\n",
       "      <th>off</th>\n",
       "      <th>delivery_reviews</th>\n",
       "      <th>cuisine</th>\n",
       "    </tr>\n",
       "  </thead>\n",
       "  <tbody>\n",
       "    <tr>\n",
       "      <th>0</th>\n",
       "      <td>McDonald's</td>\n",
       "      <td>Baner</td>\n",
       "      <td>4.1</td>\n",
       "      <td>₹50 OFF</td>\n",
       "      <td>9810</td>\n",
       "      <td>Burger, Fast Food, Beverages</td>\n",
       "    </tr>\n",
       "    <tr>\n",
       "      <th>1</th>\n",
       "      <td>Nawab Asia</td>\n",
       "      <td>Baner</td>\n",
       "      <td>4.1</td>\n",
       "      <td>₹50 OFF</td>\n",
       "      <td>3054</td>\n",
       "      <td>North Indian, Chinese, Mughlai, Biryani, Desse...</td>\n",
       "    </tr>\n",
       "    <tr>\n",
       "      <th>2</th>\n",
       "      <td>Mithas</td>\n",
       "      <td>Baner</td>\n",
       "      <td>4.3</td>\n",
       "      <td>₹50 OFF</td>\n",
       "      <td>2262</td>\n",
       "      <td>Mithai, Street Food</td>\n",
       "    </tr>\n",
       "    <tr>\n",
       "      <th>3</th>\n",
       "      <td>Anna Idli</td>\n",
       "      <td>Baner</td>\n",
       "      <td>4.2</td>\n",
       "      <td>₹50 OFF</td>\n",
       "      <td>21800</td>\n",
       "      <td>South Indian, Beverages</td>\n",
       "    </tr>\n",
       "    <tr>\n",
       "      <th>4</th>\n",
       "      <td>Dadu's Sweet Emporio</td>\n",
       "      <td>Baner</td>\n",
       "      <td>4.3</td>\n",
       "      <td>₹50 OFF</td>\n",
       "      <td>4504</td>\n",
       "      <td>Mithai, Street Food, Ice Cream</td>\n",
       "    </tr>\n",
       "    <tr>\n",
       "      <th>...</th>\n",
       "      <td>...</td>\n",
       "      <td>...</td>\n",
       "      <td>...</td>\n",
       "      <td>...</td>\n",
       "      <td>...</td>\n",
       "      <td>...</td>\n",
       "    </tr>\n",
       "    <tr>\n",
       "      <th>1132</th>\n",
       "      <td>WYNKK</td>\n",
       "      <td>Baner</td>\n",
       "      <td>NaN</td>\n",
       "      <td>50% OFF</td>\n",
       "      <td>Not nough</td>\n",
       "      <td>Bar Food, North Indian, Mughlai, Asian</td>\n",
       "    </tr>\n",
       "    <tr>\n",
       "      <th>1133</th>\n",
       "      <td>Ai Shiwu</td>\n",
       "      <td>Baner</td>\n",
       "      <td>3.6</td>\n",
       "      <td>50% OFF</td>\n",
       "      <td>1146</td>\n",
       "      <td>Chinese, Asian, Thai</td>\n",
       "    </tr>\n",
       "    <tr>\n",
       "      <th>1134</th>\n",
       "      <td>Mumbaian Pav Bhaji</td>\n",
       "      <td>Baner</td>\n",
       "      <td>3.2</td>\n",
       "      <td>50% OFF</td>\n",
       "      <td>46</td>\n",
       "      <td>Street Food</td>\n",
       "    </tr>\n",
       "    <tr>\n",
       "      <th>1135</th>\n",
       "      <td>Shree Datta Bhel</td>\n",
       "      <td>Baner</td>\n",
       "      <td>3.9</td>\n",
       "      <td>50% OFF</td>\n",
       "      <td>15</td>\n",
       "      <td>Street Food</td>\n",
       "    </tr>\n",
       "    <tr>\n",
       "      <th>1136</th>\n",
       "      <td>Eggie's</td>\n",
       "      <td>Baner</td>\n",
       "      <td>3.8</td>\n",
       "      <td>Pro extra 25% OFF</td>\n",
       "      <td>87</td>\n",
       "      <td>North Indian, Fast Food</td>\n",
       "    </tr>\n",
       "  </tbody>\n",
       "</table>\n",
       "<p>1137 rows × 6 columns</p>\n",
       "</div>"
      ],
      "text/plain": [
       "                      Name locality  ratings                off  \\\n",
       "0               McDonald's    Baner      4.1            ₹50 OFF   \n",
       "1               Nawab Asia    Baner      4.1            ₹50 OFF   \n",
       "2                   Mithas    Baner      4.3            ₹50 OFF   \n",
       "3                Anna Idli    Baner      4.2            ₹50 OFF   \n",
       "4     Dadu's Sweet Emporio    Baner      4.3            ₹50 OFF   \n",
       "...                    ...      ...      ...                ...   \n",
       "1132                 WYNKK    Baner      NaN            50% OFF   \n",
       "1133              Ai Shiwu    Baner      3.6            50% OFF   \n",
       "1134    Mumbaian Pav Bhaji    Baner      3.2            50% OFF   \n",
       "1135      Shree Datta Bhel    Baner      3.9            50% OFF   \n",
       "1136               Eggie's    Baner      3.8  Pro extra 25% OFF   \n",
       "\n",
       "     delivery_reviews                                            cuisine  \n",
       "0              9810                         Burger, Fast Food, Beverages  \n",
       "1              3054    North Indian, Chinese, Mughlai, Biryani, Desse...  \n",
       "2              2262                                  Mithai, Street Food  \n",
       "3               21800                            South Indian, Beverages  \n",
       "4              4504                       Mithai, Street Food, Ice Cream  \n",
       "...               ...                                                ...  \n",
       "1132      Not nough               Bar Food, North Indian, Mughlai, Asian  \n",
       "1133           1146                                 Chinese, Asian, Thai  \n",
       "1134             46                                          Street Food  \n",
       "1135             15                                          Street Food  \n",
       "1136             87                              North Indian, Fast Food  \n",
       "\n",
       "[1137 rows x 6 columns]"
      ]
     },
     "execution_count": 70,
     "metadata": {},
     "output_type": "execute_result"
    }
   ],
   "source": [
    "baner_copy"
   ]
  },
  {
   "cell_type": "code",
   "execution_count": 71,
   "metadata": {},
   "outputs": [],
   "source": [
    "def value_to_float(x):\n",
    "    if type(x) == float or type(x) == int:\n",
    "        return x\n",
    "    if 'K' in x:\n",
    "        if len(x) > 1:\n",
    "            return float(x.replace('K', '')) * 1000\n",
    "        return 1000.0\n",
    "    return x\n",
    "baner_copy['delivery_reviews'] = baner_copy['delivery_reviews'].apply(value_to_float)\n",
    "bavdhan_copy['delivery_reviews'] = bavdhan_copy['delivery_reviews'].apply(value_to_float)\n",
    "hinjewadi_copy['delivery_reviews'] = hinjewadi_copy['delivery_reviews'].apply(value_to_float)\n",
    "wakad_copy['delivery_reviews'] = wakad_copy['delivery_reviews'].apply(value_to_float)"
   ]
  },
  {
   "cell_type": "code",
   "execution_count": 72,
   "metadata": {},
   "outputs": [
    {
     "data": {
      "text/html": [
       "<div>\n",
       "<style scoped>\n",
       "    .dataframe tbody tr th:only-of-type {\n",
       "        vertical-align: middle;\n",
       "    }\n",
       "\n",
       "    .dataframe tbody tr th {\n",
       "        vertical-align: top;\n",
       "    }\n",
       "\n",
       "    .dataframe thead th {\n",
       "        text-align: right;\n",
       "    }\n",
       "</style>\n",
       "<table border=\"1\" class=\"dataframe\">\n",
       "  <thead>\n",
       "    <tr style=\"text-align: right;\">\n",
       "      <th></th>\n",
       "      <th>Name</th>\n",
       "      <th>locality</th>\n",
       "      <th>ratings</th>\n",
       "      <th>off</th>\n",
       "      <th>delivery_reviews</th>\n",
       "      <th>cuisine</th>\n",
       "    </tr>\n",
       "  </thead>\n",
       "  <tbody>\n",
       "    <tr>\n",
       "      <th>0</th>\n",
       "      <td>McDonald's</td>\n",
       "      <td>Baner</td>\n",
       "      <td>4.1</td>\n",
       "      <td>₹50 OFF</td>\n",
       "      <td>9810</td>\n",
       "      <td>Burger, Fast Food, Beverages</td>\n",
       "    </tr>\n",
       "    <tr>\n",
       "      <th>1</th>\n",
       "      <td>Nawab Asia</td>\n",
       "      <td>Baner</td>\n",
       "      <td>4.1</td>\n",
       "      <td>₹50 OFF</td>\n",
       "      <td>3054</td>\n",
       "      <td>North Indian, Chinese, Mughlai, Biryani, Desse...</td>\n",
       "    </tr>\n",
       "    <tr>\n",
       "      <th>2</th>\n",
       "      <td>Mithas</td>\n",
       "      <td>Baner</td>\n",
       "      <td>4.3</td>\n",
       "      <td>₹50 OFF</td>\n",
       "      <td>2262</td>\n",
       "      <td>Mithai, Street Food</td>\n",
       "    </tr>\n",
       "    <tr>\n",
       "      <th>3</th>\n",
       "      <td>Anna Idli</td>\n",
       "      <td>Baner</td>\n",
       "      <td>4.2</td>\n",
       "      <td>₹50 OFF</td>\n",
       "      <td>21800</td>\n",
       "      <td>South Indian, Beverages</td>\n",
       "    </tr>\n",
       "    <tr>\n",
       "      <th>4</th>\n",
       "      <td>Dadu's Sweet Emporio</td>\n",
       "      <td>Baner</td>\n",
       "      <td>4.3</td>\n",
       "      <td>₹50 OFF</td>\n",
       "      <td>4504</td>\n",
       "      <td>Mithai, Street Food, Ice Cream</td>\n",
       "    </tr>\n",
       "    <tr>\n",
       "      <th>...</th>\n",
       "      <td>...</td>\n",
       "      <td>...</td>\n",
       "      <td>...</td>\n",
       "      <td>...</td>\n",
       "      <td>...</td>\n",
       "      <td>...</td>\n",
       "    </tr>\n",
       "    <tr>\n",
       "      <th>1132</th>\n",
       "      <td>WYNKK</td>\n",
       "      <td>Baner</td>\n",
       "      <td>NaN</td>\n",
       "      <td>50% OFF</td>\n",
       "      <td>Not nough</td>\n",
       "      <td>Bar Food, North Indian, Mughlai, Asian</td>\n",
       "    </tr>\n",
       "    <tr>\n",
       "      <th>1133</th>\n",
       "      <td>Ai Shiwu</td>\n",
       "      <td>Baner</td>\n",
       "      <td>3.6</td>\n",
       "      <td>50% OFF</td>\n",
       "      <td>1146</td>\n",
       "      <td>Chinese, Asian, Thai</td>\n",
       "    </tr>\n",
       "    <tr>\n",
       "      <th>1134</th>\n",
       "      <td>Mumbaian Pav Bhaji</td>\n",
       "      <td>Baner</td>\n",
       "      <td>3.2</td>\n",
       "      <td>50% OFF</td>\n",
       "      <td>46</td>\n",
       "      <td>Street Food</td>\n",
       "    </tr>\n",
       "    <tr>\n",
       "      <th>1135</th>\n",
       "      <td>Shree Datta Bhel</td>\n",
       "      <td>Baner</td>\n",
       "      <td>3.9</td>\n",
       "      <td>50% OFF</td>\n",
       "      <td>15</td>\n",
       "      <td>Street Food</td>\n",
       "    </tr>\n",
       "    <tr>\n",
       "      <th>1136</th>\n",
       "      <td>Eggie's</td>\n",
       "      <td>Baner</td>\n",
       "      <td>3.8</td>\n",
       "      <td>Pro extra 25% OFF</td>\n",
       "      <td>87</td>\n",
       "      <td>North Indian, Fast Food</td>\n",
       "    </tr>\n",
       "  </tbody>\n",
       "</table>\n",
       "<p>1137 rows × 6 columns</p>\n",
       "</div>"
      ],
      "text/plain": [
       "                      Name locality  ratings                off  \\\n",
       "0               McDonald's    Baner      4.1            ₹50 OFF   \n",
       "1               Nawab Asia    Baner      4.1            ₹50 OFF   \n",
       "2                   Mithas    Baner      4.3            ₹50 OFF   \n",
       "3                Anna Idli    Baner      4.2            ₹50 OFF   \n",
       "4     Dadu's Sweet Emporio    Baner      4.3            ₹50 OFF   \n",
       "...                    ...      ...      ...                ...   \n",
       "1132                 WYNKK    Baner      NaN            50% OFF   \n",
       "1133              Ai Shiwu    Baner      3.6            50% OFF   \n",
       "1134    Mumbaian Pav Bhaji    Baner      3.2            50% OFF   \n",
       "1135      Shree Datta Bhel    Baner      3.9            50% OFF   \n",
       "1136               Eggie's    Baner      3.8  Pro extra 25% OFF   \n",
       "\n",
       "     delivery_reviews                                            cuisine  \n",
       "0              9810                         Burger, Fast Food, Beverages  \n",
       "1              3054    North Indian, Chinese, Mughlai, Biryani, Desse...  \n",
       "2              2262                                  Mithai, Street Food  \n",
       "3               21800                            South Indian, Beverages  \n",
       "4              4504                       Mithai, Street Food, Ice Cream  \n",
       "...               ...                                                ...  \n",
       "1132      Not nough               Bar Food, North Indian, Mughlai, Asian  \n",
       "1133           1146                                 Chinese, Asian, Thai  \n",
       "1134             46                                          Street Food  \n",
       "1135             15                                          Street Food  \n",
       "1136             87                              North Indian, Fast Food  \n",
       "\n",
       "[1137 rows x 6 columns]"
      ]
     },
     "execution_count": 72,
     "metadata": {},
     "output_type": "execute_result"
    }
   ],
   "source": [
    "baner_copy"
   ]
  },
  {
   "cell_type": "code",
   "execution_count": null,
   "metadata": {},
   "outputs": [],
   "source": []
  },
  {
   "cell_type": "code",
   "execution_count": null,
   "metadata": {},
   "outputs": [],
   "source": []
  },
  {
   "cell_type": "code",
   "execution_count": null,
   "metadata": {},
   "outputs": [],
   "source": []
  },
  {
   "cell_type": "code",
   "execution_count": 73,
   "metadata": {},
   "outputs": [
    {
     "data": {
      "text/html": [
       "<div>\n",
       "<style scoped>\n",
       "    .dataframe tbody tr th:only-of-type {\n",
       "        vertical-align: middle;\n",
       "    }\n",
       "\n",
       "    .dataframe tbody tr th {\n",
       "        vertical-align: top;\n",
       "    }\n",
       "\n",
       "    .dataframe thead th {\n",
       "        text-align: right;\n",
       "    }\n",
       "</style>\n",
       "<table border=\"1\" class=\"dataframe\">\n",
       "  <thead>\n",
       "    <tr style=\"text-align: right;\">\n",
       "      <th></th>\n",
       "      <th>Name</th>\n",
       "      <th>locality</th>\n",
       "      <th>ratings</th>\n",
       "      <th>off</th>\n",
       "      <th>delivery_reviews</th>\n",
       "      <th>cuisine</th>\n",
       "    </tr>\n",
       "  </thead>\n",
       "  <tbody>\n",
       "    <tr>\n",
       "      <th>0</th>\n",
       "      <td>Domino's Pizza</td>\n",
       "      <td>Bavdhan</td>\n",
       "      <td>4.2</td>\n",
       "      <td>Pro extra 15% OFF</td>\n",
       "      <td>6291</td>\n",
       "      <td>Pizza, Fast Food, Desserts, Beverages</td>\n",
       "    </tr>\n",
       "    <tr>\n",
       "      <th>1</th>\n",
       "      <td>Kinara's Maratha Darbar</td>\n",
       "      <td>Bavdhan</td>\n",
       "      <td>3.9</td>\n",
       "      <td>50% OFF</td>\n",
       "      <td>1507</td>\n",
       "      <td>Maharashtrian, Chinese, North Indian, Biryani</td>\n",
       "    </tr>\n",
       "    <tr>\n",
       "      <th>2</th>\n",
       "      <td>Palavi</td>\n",
       "      <td>Bavdhan</td>\n",
       "      <td>4.1</td>\n",
       "      <td>Pro extra 15% OFF</td>\n",
       "      <td>8144</td>\n",
       "      <td>Chinese, Fast Food, North Indian, South Indian...</td>\n",
       "    </tr>\n",
       "    <tr>\n",
       "      <th>3</th>\n",
       "      <td>Giridhar</td>\n",
       "      <td>Bavdhan</td>\n",
       "      <td>4.1</td>\n",
       "      <td>Pro extra 15% OFF</td>\n",
       "      <td>11100</td>\n",
       "      <td>North Indian, South Indian, Maharashtrian</td>\n",
       "    </tr>\n",
       "    <tr>\n",
       "      <th>4</th>\n",
       "      <td>Sujata Mastani</td>\n",
       "      <td>Bavdhan</td>\n",
       "      <td>4.2</td>\n",
       "      <td>Pro extra 10% OFF</td>\n",
       "      <td>132</td>\n",
       "      <td>Beverages, Desserts, Ice Cream</td>\n",
       "    </tr>\n",
       "    <tr>\n",
       "      <th>...</th>\n",
       "      <td>...</td>\n",
       "      <td>...</td>\n",
       "      <td>...</td>\n",
       "      <td>...</td>\n",
       "      <td>...</td>\n",
       "      <td>...</td>\n",
       "    </tr>\n",
       "    <tr>\n",
       "      <th>829</th>\n",
       "      <td>Rolling Bistro</td>\n",
       "      <td>Bavdhan</td>\n",
       "      <td>4.2</td>\n",
       "      <td>50% OFF</td>\n",
       "      <td>168</td>\n",
       "      <td>Fast Food, Burger</td>\n",
       "    </tr>\n",
       "    <tr>\n",
       "      <th>830</th>\n",
       "      <td>Peter's Momo Center</td>\n",
       "      <td>Bavdhan</td>\n",
       "      <td>4.4</td>\n",
       "      <td>50% OFF</td>\n",
       "      <td>497</td>\n",
       "      <td>Momos</td>\n",
       "    </tr>\n",
       "    <tr>\n",
       "      <th>831</th>\n",
       "      <td>Hotel Marathwada</td>\n",
       "      <td>Bavdhan</td>\n",
       "      <td>3.3</td>\n",
       "      <td>50% OFF</td>\n",
       "      <td>175</td>\n",
       "      <td>North Indian, Maharashtrian</td>\n",
       "    </tr>\n",
       "    <tr>\n",
       "      <th>832</th>\n",
       "      <td>D Palace</td>\n",
       "      <td>Bavdhan</td>\n",
       "      <td>3.8</td>\n",
       "      <td>50% OFF</td>\n",
       "      <td>1067</td>\n",
       "      <td>North Indian, Chinese, Seafood, Mughlai, Desserts</td>\n",
       "    </tr>\n",
       "    <tr>\n",
       "      <th>833</th>\n",
       "      <td>Indore Poha And Diet Poha</td>\n",
       "      <td>Bavdhan</td>\n",
       "      <td>3.3</td>\n",
       "      <td>50% OFF</td>\n",
       "      <td>23</td>\n",
       "      <td>Street Food</td>\n",
       "    </tr>\n",
       "  </tbody>\n",
       "</table>\n",
       "<p>834 rows × 6 columns</p>\n",
       "</div>"
      ],
      "text/plain": [
       "                          Name locality  ratings                off  \\\n",
       "0               Domino's Pizza  Bavdhan      4.2  Pro extra 15% OFF   \n",
       "1      Kinara's Maratha Darbar  Bavdhan      3.9            50% OFF   \n",
       "2                       Palavi  Bavdhan      4.1  Pro extra 15% OFF   \n",
       "3                     Giridhar  Bavdhan      4.1  Pro extra 15% OFF   \n",
       "4               Sujata Mastani  Bavdhan      4.2  Pro extra 10% OFF   \n",
       "..                         ...      ...      ...                ...   \n",
       "829             Rolling Bistro  Bavdhan      4.2            50% OFF   \n",
       "830        Peter's Momo Center  Bavdhan      4.4            50% OFF   \n",
       "831           Hotel Marathwada  Bavdhan      3.3            50% OFF   \n",
       "832                   D Palace  Bavdhan      3.8            50% OFF   \n",
       "833  Indore Poha And Diet Poha  Bavdhan      3.3            50% OFF   \n",
       "\n",
       "    delivery_reviews                                            cuisine  \n",
       "0             6291                Pizza, Fast Food, Desserts, Beverages  \n",
       "1             1507        Maharashtrian, Chinese, North Indian, Biryani  \n",
       "2             8144    Chinese, Fast Food, North Indian, South Indian...  \n",
       "3              11100          North Indian, South Indian, Maharashtrian  \n",
       "4              132                       Beverages, Desserts, Ice Cream  \n",
       "..               ...                                                ...  \n",
       "829            168                                    Fast Food, Burger  \n",
       "830            497                                                Momos  \n",
       "831            175                          North Indian, Maharashtrian  \n",
       "832           1067    North Indian, Chinese, Seafood, Mughlai, Desserts  \n",
       "833             23                                          Street Food  \n",
       "\n",
       "[834 rows x 6 columns]"
      ]
     },
     "execution_count": 73,
     "metadata": {},
     "output_type": "execute_result"
    }
   ],
   "source": [
    "bavdhan_copy"
   ]
  },
  {
   "cell_type": "code",
   "execution_count": 74,
   "metadata": {},
   "outputs": [
    {
     "data": {
      "text/html": [
       "<div>\n",
       "<style scoped>\n",
       "    .dataframe tbody tr th:only-of-type {\n",
       "        vertical-align: middle;\n",
       "    }\n",
       "\n",
       "    .dataframe tbody tr th {\n",
       "        vertical-align: top;\n",
       "    }\n",
       "\n",
       "    .dataframe thead th {\n",
       "        text-align: right;\n",
       "    }\n",
       "</style>\n",
       "<table border=\"1\" class=\"dataframe\">\n",
       "  <thead>\n",
       "    <tr style=\"text-align: right;\">\n",
       "      <th></th>\n",
       "      <th>Name</th>\n",
       "      <th>locality</th>\n",
       "      <th>ratings</th>\n",
       "      <th>off</th>\n",
       "      <th>delivery_reviews</th>\n",
       "      <th>cuisine</th>\n",
       "    </tr>\n",
       "  </thead>\n",
       "  <tbody>\n",
       "    <tr>\n",
       "      <th>0</th>\n",
       "      <td>Rohit Wadewale</td>\n",
       "      <td>Hinjewadi</td>\n",
       "      <td>3.8</td>\n",
       "      <td>Pro extra 15% OFF</td>\n",
       "      <td>8680</td>\n",
       "      <td>Maharashtrian, Street Food, South Indian, Sand...</td>\n",
       "    </tr>\n",
       "    <tr>\n",
       "      <th>1</th>\n",
       "      <td>KFC</td>\n",
       "      <td>Hinjewadi</td>\n",
       "      <td>4.1</td>\n",
       "      <td>50% OFF</td>\n",
       "      <td>8463</td>\n",
       "      <td>Burger, Fast Food, Beverages</td>\n",
       "    </tr>\n",
       "    <tr>\n",
       "      <th>2</th>\n",
       "      <td>Biryani by KG</td>\n",
       "      <td>Hinjewadi</td>\n",
       "      <td>3.6</td>\n",
       "      <td>Pro extra 15% OFF</td>\n",
       "      <td>15800</td>\n",
       "      <td>Biryani, Chinese, North Indian</td>\n",
       "    </tr>\n",
       "    <tr>\n",
       "      <th>3</th>\n",
       "      <td>Reddy's Biryani Zone</td>\n",
       "      <td>Hinjewadi</td>\n",
       "      <td>4.0</td>\n",
       "      <td>50% OFF</td>\n",
       "      <td>8859</td>\n",
       "      <td>North Indian, Seafood, Mughlai, Kebab, Chinese...</td>\n",
       "    </tr>\n",
       "    <tr>\n",
       "      <th>4</th>\n",
       "      <td>Tamil Nadu Restaurant</td>\n",
       "      <td>Hinjewadi</td>\n",
       "      <td>3.9</td>\n",
       "      <td>50% OFF</td>\n",
       "      <td>3218</td>\n",
       "      <td>South Indian</td>\n",
       "    </tr>\n",
       "    <tr>\n",
       "      <th>...</th>\n",
       "      <td>...</td>\n",
       "      <td>...</td>\n",
       "      <td>...</td>\n",
       "      <td>...</td>\n",
       "      <td>...</td>\n",
       "      <td>...</td>\n",
       "    </tr>\n",
       "    <tr>\n",
       "      <th>955</th>\n",
       "      <td>Kolhapur Tadka</td>\n",
       "      <td>Hinjewadi</td>\n",
       "      <td>NaN</td>\n",
       "      <td>NaN</td>\n",
       "      <td>Not nough</td>\n",
       "      <td>Biryani, North Indian, Chinese, Maharashtrian,...</td>\n",
       "    </tr>\n",
       "    <tr>\n",
       "      <th>956</th>\n",
       "      <td>New Sugaran Bhojanalay</td>\n",
       "      <td>Hinjewadi</td>\n",
       "      <td>NaN</td>\n",
       "      <td>50% OFF</td>\n",
       "      <td>209</td>\n",
       "      <td>North Indian</td>\n",
       "    </tr>\n",
       "    <tr>\n",
       "      <th>957</th>\n",
       "      <td>Real Chinese</td>\n",
       "      <td>Hinjewadi</td>\n",
       "      <td>3.9</td>\n",
       "      <td>NaN</td>\n",
       "      <td>Not nough</td>\n",
       "      <td>Chinese</td>\n",
       "    </tr>\n",
       "    <tr>\n",
       "      <th>958</th>\n",
       "      <td>S P Foods</td>\n",
       "      <td>Hinjewadi</td>\n",
       "      <td>NaN</td>\n",
       "      <td>NaN</td>\n",
       "      <td>NaN</td>\n",
       "      <td>Maharashtrian</td>\n",
       "    </tr>\n",
       "    <tr>\n",
       "      <th>959</th>\n",
       "      <td>Blue Birds</td>\n",
       "      <td>Hinjewadi</td>\n",
       "      <td>NaN</td>\n",
       "      <td>NaN</td>\n",
       "      <td>Not nough</td>\n",
       "      <td>Chinese, North Indian</td>\n",
       "    </tr>\n",
       "  </tbody>\n",
       "</table>\n",
       "<p>960 rows × 6 columns</p>\n",
       "</div>"
      ],
      "text/plain": [
       "                       Name   locality  ratings                off  \\\n",
       "0            Rohit Wadewale  Hinjewadi      3.8  Pro extra 15% OFF   \n",
       "1                       KFC  Hinjewadi      4.1            50% OFF   \n",
       "2             Biryani by KG  Hinjewadi      3.6  Pro extra 15% OFF   \n",
       "3      Reddy's Biryani Zone  Hinjewadi      4.0            50% OFF   \n",
       "4     Tamil Nadu Restaurant  Hinjewadi      3.9            50% OFF   \n",
       "..                      ...        ...      ...                ...   \n",
       "955          Kolhapur Tadka  Hinjewadi      NaN                NaN   \n",
       "956  New Sugaran Bhojanalay  Hinjewadi      NaN            50% OFF   \n",
       "957            Real Chinese  Hinjewadi      3.9                NaN   \n",
       "958               S P Foods  Hinjewadi      NaN                NaN   \n",
       "959              Blue Birds  Hinjewadi      NaN                NaN   \n",
       "\n",
       "    delivery_reviews                                            cuisine  \n",
       "0             8680    Maharashtrian, Street Food, South Indian, Sand...  \n",
       "1             8463                         Burger, Fast Food, Beverages  \n",
       "2              15800                     Biryani, Chinese, North Indian  \n",
       "3             8859    North Indian, Seafood, Mughlai, Kebab, Chinese...  \n",
       "4             3218                                         South Indian  \n",
       "..               ...                                                ...  \n",
       "955      Not nough    Biryani, North Indian, Chinese, Maharashtrian,...  \n",
       "956            209                                         North Indian  \n",
       "957      Not nough                                              Chinese  \n",
       "958              NaN                                      Maharashtrian  \n",
       "959      Not nough                                Chinese, North Indian  \n",
       "\n",
       "[960 rows x 6 columns]"
      ]
     },
     "execution_count": 74,
     "metadata": {},
     "output_type": "execute_result"
    }
   ],
   "source": [
    "hinjewadi_copy"
   ]
  },
  {
   "cell_type": "code",
   "execution_count": 75,
   "metadata": {},
   "outputs": [
    {
     "data": {
      "text/html": [
       "<div>\n",
       "<style scoped>\n",
       "    .dataframe tbody tr th:only-of-type {\n",
       "        vertical-align: middle;\n",
       "    }\n",
       "\n",
       "    .dataframe tbody tr th {\n",
       "        vertical-align: top;\n",
       "    }\n",
       "\n",
       "    .dataframe thead th {\n",
       "        text-align: right;\n",
       "    }\n",
       "</style>\n",
       "<table border=\"1\" class=\"dataframe\">\n",
       "  <thead>\n",
       "    <tr style=\"text-align: right;\">\n",
       "      <th></th>\n",
       "      <th>Name</th>\n",
       "      <th>locality</th>\n",
       "      <th>ratings</th>\n",
       "      <th>off</th>\n",
       "      <th>delivery_reviews</th>\n",
       "      <th>cuisine</th>\n",
       "    </tr>\n",
       "  </thead>\n",
       "  <tbody>\n",
       "    <tr>\n",
       "      <th>0</th>\n",
       "      <td>Indori Sarafa</td>\n",
       "      <td>Wakad</td>\n",
       "      <td>4.0</td>\n",
       "      <td>50% OFF</td>\n",
       "      <td>6201</td>\n",
       "      <td>NaN</td>\n",
       "    </tr>\n",
       "    <tr>\n",
       "      <th>1</th>\n",
       "      <td>Rohit Wadewale</td>\n",
       "      <td>Wakad</td>\n",
       "      <td>3.6</td>\n",
       "      <td>50% OFF</td>\n",
       "      <td>601</td>\n",
       "      <td>NaN</td>\n",
       "    </tr>\n",
       "    <tr>\n",
       "      <th>2</th>\n",
       "      <td>Global Punjab</td>\n",
       "      <td>Wakad</td>\n",
       "      <td>3.9</td>\n",
       "      <td>50% OFF</td>\n",
       "      <td>1890</td>\n",
       "      <td>NaN</td>\n",
       "    </tr>\n",
       "    <tr>\n",
       "      <th>3</th>\n",
       "      <td>Tatva The Vegetarian Kitchen</td>\n",
       "      <td>Wakad</td>\n",
       "      <td>4.0</td>\n",
       "      <td>50% OFF</td>\n",
       "      <td>12900</td>\n",
       "      <td>NaN</td>\n",
       "    </tr>\n",
       "    <tr>\n",
       "      <th>4</th>\n",
       "      <td>Biryani By Kilo</td>\n",
       "      <td>Wakad</td>\n",
       "      <td>3.7</td>\n",
       "      <td>50% OFF</td>\n",
       "      <td>2728</td>\n",
       "      <td>NaN</td>\n",
       "    </tr>\n",
       "    <tr>\n",
       "      <th>...</th>\n",
       "      <td>...</td>\n",
       "      <td>...</td>\n",
       "      <td>...</td>\n",
       "      <td>...</td>\n",
       "      <td>...</td>\n",
       "      <td>...</td>\n",
       "    </tr>\n",
       "    <tr>\n",
       "      <th>1113</th>\n",
       "      <td>Spice Of India</td>\n",
       "      <td>Wakad</td>\n",
       "      <td>NaN</td>\n",
       "      <td>NaN</td>\n",
       "      <td>Not nough</td>\n",
       "      <td>NaN</td>\n",
       "    </tr>\n",
       "    <tr>\n",
       "      <th>1114</th>\n",
       "      <td>Special Bakery</td>\n",
       "      <td>Wakad</td>\n",
       "      <td>NaN</td>\n",
       "      <td>NaN</td>\n",
       "      <td>Not nough</td>\n",
       "      <td>NaN</td>\n",
       "    </tr>\n",
       "    <tr>\n",
       "      <th>1115</th>\n",
       "      <td>Dadaji Sweets</td>\n",
       "      <td>Wakad</td>\n",
       "      <td>NaN</td>\n",
       "      <td>15% OFF</td>\n",
       "      <td>Not nough</td>\n",
       "      <td>NaN</td>\n",
       "    </tr>\n",
       "    <tr>\n",
       "      <th>1116</th>\n",
       "      <td>Rudra Snacks And Chiken 65</td>\n",
       "      <td>Wakad</td>\n",
       "      <td>NaN</td>\n",
       "      <td>NaN</td>\n",
       "      <td>Not nough</td>\n",
       "      <td>NaN</td>\n",
       "    </tr>\n",
       "    <tr>\n",
       "      <th>1117</th>\n",
       "      <td>SG Foods</td>\n",
       "      <td>Wakad</td>\n",
       "      <td>NaN</td>\n",
       "      <td>NaN</td>\n",
       "      <td>Not nough</td>\n",
       "      <td>NaN</td>\n",
       "    </tr>\n",
       "  </tbody>\n",
       "</table>\n",
       "<p>1118 rows × 6 columns</p>\n",
       "</div>"
      ],
      "text/plain": [
       "                              Name locality  ratings      off  \\\n",
       "0                    Indori Sarafa    Wakad      4.0  50% OFF   \n",
       "1                   Rohit Wadewale    Wakad      3.6  50% OFF   \n",
       "2                    Global Punjab    Wakad      3.9  50% OFF   \n",
       "3     Tatva The Vegetarian Kitchen    Wakad      4.0  50% OFF   \n",
       "4                  Biryani By Kilo    Wakad      3.7  50% OFF   \n",
       "...                            ...      ...      ...      ...   \n",
       "1113                Spice Of India    Wakad      NaN      NaN   \n",
       "1114                Special Bakery    Wakad      NaN      NaN   \n",
       "1115                 Dadaji Sweets    Wakad      NaN  15% OFF   \n",
       "1116    Rudra Snacks And Chiken 65    Wakad      NaN      NaN   \n",
       "1117                      SG Foods    Wakad      NaN      NaN   \n",
       "\n",
       "     delivery_reviews  cuisine  \n",
       "0              6201        NaN  \n",
       "1               601        NaN  \n",
       "2              1890        NaN  \n",
       "3               12900      NaN  \n",
       "4              2728        NaN  \n",
       "...               ...      ...  \n",
       "1113      Not nough        NaN  \n",
       "1114      Not nough        NaN  \n",
       "1115      Not nough        NaN  \n",
       "1116      Not nough        NaN  \n",
       "1117      Not nough        NaN  \n",
       "\n",
       "[1118 rows x 6 columns]"
      ]
     },
     "execution_count": 75,
     "metadata": {},
     "output_type": "execute_result"
    }
   ],
   "source": [
    "wakad_copy"
   ]
  },
  {
   "cell_type": "markdown",
   "metadata": {},
   "source": [
    "## HANDLING BANER DATA SET"
   ]
  },
  {
   "cell_type": "code",
   "execution_count": 76,
   "metadata": {
    "scrolled": true
   },
   "outputs": [
    {
     "name": "stdout",
     "output_type": "stream",
     "text": [
      "<class 'pandas.core.frame.DataFrame'>\n",
      "RangeIndex: 1137 entries, 0 to 1136\n",
      "Data columns (total 6 columns):\n",
      " #   Column            Non-Null Count  Dtype  \n",
      "---  ------            --------------  -----  \n",
      " 0   Name              1137 non-null   object \n",
      " 1   locality          1137 non-null   object \n",
      " 2   ratings           851 non-null    float64\n",
      " 3   off               968 non-null    object \n",
      " 4   delivery_reviews  1010 non-null   object \n",
      " 5   cuisine           1137 non-null   object \n",
      "dtypes: float64(1), object(5)\n",
      "memory usage: 53.4+ KB\n"
     ]
    }
   ],
   "source": [
    "baner_copy.info()"
   ]
  },
  {
   "cell_type": "code",
   "execution_count": 79,
   "metadata": {},
   "outputs": [],
   "source": [
    "baner_ratings = baner_copy.dropna(subset=['ratings'])"
   ]
  },
  {
   "cell_type": "code",
   "execution_count": 80,
   "metadata": {},
   "outputs": [],
   "source": [
    "baner_ratings.reset_index(inplace = True, drop = True)"
   ]
  },
  {
   "cell_type": "code",
   "execution_count": null,
   "metadata": {},
   "outputs": [],
   "source": []
  },
  {
   "cell_type": "code",
   "execution_count": 81,
   "metadata": {},
   "outputs": [
    {
     "data": {
      "text/html": [
       "<div>\n",
       "<style scoped>\n",
       "    .dataframe tbody tr th:only-of-type {\n",
       "        vertical-align: middle;\n",
       "    }\n",
       "\n",
       "    .dataframe tbody tr th {\n",
       "        vertical-align: top;\n",
       "    }\n",
       "\n",
       "    .dataframe thead th {\n",
       "        text-align: right;\n",
       "    }\n",
       "</style>\n",
       "<table border=\"1\" class=\"dataframe\">\n",
       "  <thead>\n",
       "    <tr style=\"text-align: right;\">\n",
       "      <th></th>\n",
       "      <th>Name</th>\n",
       "      <th>locality</th>\n",
       "      <th>ratings</th>\n",
       "      <th>off</th>\n",
       "      <th>delivery_reviews</th>\n",
       "      <th>cuisine</th>\n",
       "    </tr>\n",
       "  </thead>\n",
       "  <tbody>\n",
       "    <tr>\n",
       "      <th>0</th>\n",
       "      <td>McDonald's</td>\n",
       "      <td>Baner</td>\n",
       "      <td>4.1</td>\n",
       "      <td>₹50 OFF</td>\n",
       "      <td>9810</td>\n",
       "      <td>Burger, Fast Food, Beverages</td>\n",
       "    </tr>\n",
       "    <tr>\n",
       "      <th>1</th>\n",
       "      <td>Nawab Asia</td>\n",
       "      <td>Baner</td>\n",
       "      <td>4.1</td>\n",
       "      <td>₹50 OFF</td>\n",
       "      <td>3054</td>\n",
       "      <td>North Indian, Chinese, Mughlai, Biryani, Desse...</td>\n",
       "    </tr>\n",
       "    <tr>\n",
       "      <th>2</th>\n",
       "      <td>Mithas</td>\n",
       "      <td>Baner</td>\n",
       "      <td>4.3</td>\n",
       "      <td>₹50 OFF</td>\n",
       "      <td>2262</td>\n",
       "      <td>Mithai, Street Food</td>\n",
       "    </tr>\n",
       "    <tr>\n",
       "      <th>3</th>\n",
       "      <td>Anna Idli</td>\n",
       "      <td>Baner</td>\n",
       "      <td>4.2</td>\n",
       "      <td>₹50 OFF</td>\n",
       "      <td>21800</td>\n",
       "      <td>South Indian, Beverages</td>\n",
       "    </tr>\n",
       "    <tr>\n",
       "      <th>4</th>\n",
       "      <td>Dadu's Sweet Emporio</td>\n",
       "      <td>Baner</td>\n",
       "      <td>4.3</td>\n",
       "      <td>₹50 OFF</td>\n",
       "      <td>4504</td>\n",
       "      <td>Mithai, Street Food, Ice Cream</td>\n",
       "    </tr>\n",
       "    <tr>\n",
       "      <th>...</th>\n",
       "      <td>...</td>\n",
       "      <td>...</td>\n",
       "      <td>...</td>\n",
       "      <td>...</td>\n",
       "      <td>...</td>\n",
       "      <td>...</td>\n",
       "    </tr>\n",
       "    <tr>\n",
       "      <th>846</th>\n",
       "      <td>Happy Da Punjab</td>\n",
       "      <td>Baner</td>\n",
       "      <td>3.7</td>\n",
       "      <td>50% OFF</td>\n",
       "      <td>69</td>\n",
       "      <td>North Indian, Chinese, Kebab, Malwani</td>\n",
       "    </tr>\n",
       "    <tr>\n",
       "      <th>847</th>\n",
       "      <td>Ai Shiwu</td>\n",
       "      <td>Baner</td>\n",
       "      <td>3.6</td>\n",
       "      <td>50% OFF</td>\n",
       "      <td>1146</td>\n",
       "      <td>Chinese, Asian, Thai</td>\n",
       "    </tr>\n",
       "    <tr>\n",
       "      <th>848</th>\n",
       "      <td>Mumbaian Pav Bhaji</td>\n",
       "      <td>Baner</td>\n",
       "      <td>3.2</td>\n",
       "      <td>50% OFF</td>\n",
       "      <td>46</td>\n",
       "      <td>Street Food</td>\n",
       "    </tr>\n",
       "    <tr>\n",
       "      <th>849</th>\n",
       "      <td>Shree Datta Bhel</td>\n",
       "      <td>Baner</td>\n",
       "      <td>3.9</td>\n",
       "      <td>50% OFF</td>\n",
       "      <td>15</td>\n",
       "      <td>Street Food</td>\n",
       "    </tr>\n",
       "    <tr>\n",
       "      <th>850</th>\n",
       "      <td>Eggie's</td>\n",
       "      <td>Baner</td>\n",
       "      <td>3.8</td>\n",
       "      <td>Pro extra 25% OFF</td>\n",
       "      <td>87</td>\n",
       "      <td>North Indian, Fast Food</td>\n",
       "    </tr>\n",
       "  </tbody>\n",
       "</table>\n",
       "<p>851 rows × 6 columns</p>\n",
       "</div>"
      ],
      "text/plain": [
       "                     Name locality  ratings                off  \\\n",
       "0              McDonald's    Baner      4.1            ₹50 OFF   \n",
       "1              Nawab Asia    Baner      4.1            ₹50 OFF   \n",
       "2                  Mithas    Baner      4.3            ₹50 OFF   \n",
       "3               Anna Idli    Baner      4.2            ₹50 OFF   \n",
       "4    Dadu's Sweet Emporio    Baner      4.3            ₹50 OFF   \n",
       "..                    ...      ...      ...                ...   \n",
       "846       Happy Da Punjab    Baner      3.7            50% OFF   \n",
       "847              Ai Shiwu    Baner      3.6            50% OFF   \n",
       "848    Mumbaian Pav Bhaji    Baner      3.2            50% OFF   \n",
       "849      Shree Datta Bhel    Baner      3.9            50% OFF   \n",
       "850               Eggie's    Baner      3.8  Pro extra 25% OFF   \n",
       "\n",
       "    delivery_reviews                                            cuisine  \n",
       "0             9810                         Burger, Fast Food, Beverages  \n",
       "1             3054    North Indian, Chinese, Mughlai, Biryani, Desse...  \n",
       "2             2262                                  Mithai, Street Food  \n",
       "3              21800                            South Indian, Beverages  \n",
       "4             4504                       Mithai, Street Food, Ice Cream  \n",
       "..               ...                                                ...  \n",
       "846             69                North Indian, Chinese, Kebab, Malwani  \n",
       "847           1146                                 Chinese, Asian, Thai  \n",
       "848             46                                          Street Food  \n",
       "849             15                                          Street Food  \n",
       "850             87                              North Indian, Fast Food  \n",
       "\n",
       "[851 rows x 6 columns]"
      ]
     },
     "execution_count": 81,
     "metadata": {},
     "output_type": "execute_result"
    }
   ],
   "source": [
    "baner_ratings"
   ]
  },
  {
   "cell_type": "code",
   "execution_count": 78,
   "metadata": {},
   "outputs": [],
   "source": [
    "above_four =  baner_ratings.loc[(baner_ratings.ratings > 4.0)]\n",
    "above_four.reset_index(inplace = True)\n",
    "above_three = baner_ratings.loc[(baner_ratings.ratings >3.0) & (baner_ratings.ratings < 4.0)]\n",
    "above_three.reset_index(inplace = True)\n",
    "above_two = baner_ratings.loc[(baner_ratings.ratings >2.0) & (baner_ratings.ratings < 3.0)]\n",
    "above_two.reset_index(inplace = True)\n",
    "above_one = baner_ratings.loc[(baner_ratings.ratings >1.0) & (baner_ratings.ratings < 2.0)]\n",
    "above_one.reset_index(inplace = True)"
   ]
  },
  {
   "cell_type": "code",
   "execution_count": null,
   "metadata": {},
   "outputs": [],
   "source": []
  },
  {
   "cell_type": "code",
   "execution_count": null,
   "metadata": {},
   "outputs": [],
   "source": []
  },
  {
   "cell_type": "code",
   "execution_count": null,
   "metadata": {},
   "outputs": [],
   "source": []
  },
  {
   "cell_type": "code",
   "execution_count": null,
   "metadata": {},
   "outputs": [],
   "source": [
    "baner_ratings.columns=baner_ratings.columns.str.replace('[(,)]','')"
   ]
  },
  {
   "cell_type": "code",
   "execution_count": null,
   "metadata": {},
   "outputs": [],
   "source": []
  },
  {
   "cell_type": "code",
   "execution_count": null,
   "metadata": {},
   "outputs": [],
   "source": [
    "baner_ratings"
   ]
  },
  {
   "cell_type": "code",
   "execution_count": 82,
   "metadata": {},
   "outputs": [
    {
     "data": {
      "text/plain": [
       "<AxesSubplot:ylabel='Density'>"
      ]
     },
     "execution_count": 82,
     "metadata": {},
     "output_type": "execute_result"
    },
    {
     "data": {
      "image/png": "[encoded data removed]",
      "text/plain": [
       "<Figure size 432x288 with 1 Axes>"
      ]
     },
     "metadata": {
      "needs_background": "light"
     },
     "output_type": "display_data"
    }
   ],
   "source": [
    "baner_ratings.plot(x=\"Name\", y=\"ratings\", kind=\"kde\")"
   ]
  },
  {
   "cell_type": "code",
   "execution_count": 83,
   "metadata": {},
   "outputs": [
    {
     "data": {
      "text/plain": [
       "<Figure size 72000x720 with 0 Axes>"
      ]
     },
     "metadata": {},
     "output_type": "display_data"
    },
    {
     "data": {
      "image/png": "[encoded data removed]",
      "text/plain": [
       "<Figure size 432x288 with 1 Axes>"
      ]
     },
     "metadata": {
      "needs_background": "light"
     },
     "output_type": "display_data"
    }
   ],
   "source": [
    "plt.figure(figsize = (1000,10))\n",
    "baner_ratings.plot(x=\"Name\", y=\"ratings\")\n",
    "plt.show()"
   ]
  },
  {
   "cell_type": "code",
   "execution_count": null,
   "metadata": {},
   "outputs": [],
   "source": []
  },
  {
   "cell_type": "markdown",
   "metadata": {},
   "source": [
    "## HANDLING BAVDHAN DATA SET"
   ]
  },
  {
   "cell_type": "code",
   "execution_count": null,
   "metadata": {},
   "outputs": [],
   "source": [
    "bavdhan_copy.info()"
   ]
  },
  {
   "cell_type": "markdown",
   "metadata": {},
   "source": [
    "## HANDLING HINJEWADI DATA SET"
   ]
  },
  {
   "cell_type": "code",
   "execution_count": null,
   "metadata": {},
   "outputs": [],
   "source": [
    "hinjewadi_copy.info()"
   ]
  },
  {
   "cell_type": "markdown",
   "metadata": {},
   "source": [
    "## HANDLING WAKAD DATA SET"
   ]
  },
  {
   "cell_type": "code",
   "execution_count": null,
   "metadata": {},
   "outputs": [],
   "source": [
    "wakad_copy.info()"
   ]
  },
  {
   "cell_type": "code",
   "execution_count": null,
   "metadata": {},
   "outputs": [],
   "source": [
    "df = pd.concat([baner_copy, bavdhan_copy, hinjewadi_copy, wakad_copy])"
   ]
  },
  {
   "cell_type": "code",
   "execution_count": null,
   "metadata": {},
   "outputs": [],
   "source": [
    "df"
   ]
  },
  {
   "cell_type": "code",
   "execution_count": null,
   "metadata": {},
   "outputs": [],
   "source": [
    "df.info()"
   ]
  },
  {
   "cell_type": "markdown",
   "metadata": {},
   "source": [
    "## Ratings null and Not null count"
   ]
  },
  {
   "cell_type": "markdown",
   "metadata": {},
   "source": [
    "### BANER"
   ]
  },
  {
   "cell_type": "code",
   "execution_count": 84,
   "metadata": {},
   "outputs": [
    {
     "name": "stdout",
     "output_type": "stream",
     "text": [
      "Null values in Baner data set: 286\n"
     ]
    }
   ],
   "source": [
    "print('Null values in Baner data set:', baner_copy['ratings'].isna().sum())"
   ]
  },
  {
   "cell_type": "code",
   "execution_count": 85,
   "metadata": {},
   "outputs": [
    {
     "data": {
      "text/plain": [
       "851"
      ]
     },
     "execution_count": 85,
     "metadata": {},
     "output_type": "execute_result"
    }
   ],
   "source": [
    "baner_copy['ratings'].notnull().sum()"
   ]
  },
  {
   "cell_type": "markdown",
   "metadata": {},
   "source": [
    "### BAVDHAN"
   ]
  },
  {
   "cell_type": "code",
   "execution_count": 86,
   "metadata": {},
   "outputs": [
    {
     "data": {
      "text/plain": [
       "217"
      ]
     },
     "execution_count": 86,
     "metadata": {},
     "output_type": "execute_result"
    }
   ],
   "source": [
    "bavdhan_copy['ratings'].isna().sum()"
   ]
  },
  {
   "cell_type": "code",
   "execution_count": 87,
   "metadata": {},
   "outputs": [
    {
     "data": {
      "text/plain": [
       "617"
      ]
     },
     "execution_count": 87,
     "metadata": {},
     "output_type": "execute_result"
    }
   ],
   "source": [
    "bavdhan_copy['ratings'].notnull().sum()"
   ]
  },
  {
   "cell_type": "markdown",
   "metadata": {},
   "source": [
    "### HINJEWADI"
   ]
  },
  {
   "cell_type": "code",
   "execution_count": 88,
   "metadata": {},
   "outputs": [
    {
     "data": {
      "text/plain": [
       "250"
      ]
     },
     "execution_count": 88,
     "metadata": {},
     "output_type": "execute_result"
    }
   ],
   "source": [
    "hinjewadi_copy['ratings'].isna().sum()"
   ]
  },
  {
   "cell_type": "code",
   "execution_count": 89,
   "metadata": {},
   "outputs": [
    {
     "data": {
      "text/plain": [
       "710"
      ]
     },
     "execution_count": 89,
     "metadata": {},
     "output_type": "execute_result"
    }
   ],
   "source": [
    "hinjewadi_copy['ratings'].notnull().sum()"
   ]
  },
  {
   "cell_type": "markdown",
   "metadata": {},
   "source": [
    "### WAKAD"
   ]
  },
  {
   "cell_type": "code",
   "execution_count": 90,
   "metadata": {},
   "outputs": [
    {
     "data": {
      "text/plain": [
       "337"
      ]
     },
     "execution_count": 90,
     "metadata": {},
     "output_type": "execute_result"
    }
   ],
   "source": [
    "wakad_copy['ratings'].isna().sum()"
   ]
  },
  {
   "cell_type": "code",
   "execution_count": 91,
   "metadata": {},
   "outputs": [
    {
     "data": {
      "text/plain": [
       "781"
      ]
     },
     "execution_count": 91,
     "metadata": {},
     "output_type": "execute_result"
    }
   ],
   "source": [
    "wakad_copy['ratings'].notnull().sum()"
   ]
  },
  {
   "cell_type": "code",
   "execution_count": 93,
   "metadata": {},
   "outputs": [
    {
     "data": {
      "text/plain": [
       "Name                 0\n",
       "locality             0\n",
       "ratings              0\n",
       "off                 58\n",
       "delivery_reviews     0\n",
       "cuisine              0\n",
       "dtype: int64"
      ]
     },
     "execution_count": 93,
     "metadata": {},
     "output_type": "execute_result"
    }
   ],
   "source": [
    "baner_ratings.isna().sum()"
   ]
  },
  {
   "cell_type": "code",
   "execution_count": 95,
   "metadata": {},
   "outputs": [
    {
     "data": {
      "text/plain": [
       "Name                  0\n",
       "locality              0\n",
       "ratings             286\n",
       "off                 169\n",
       "delivery_reviews    127\n",
       "cuisine               0\n",
       "dtype: int64"
      ]
     },
     "execution_count": 95,
     "metadata": {},
     "output_type": "execute_result"
    }
   ],
   "source": [
    "baner_copy.isnull().sum()"
   ]
  },
  {
   "cell_type": "code",
   "execution_count": null,
   "metadata": {},
   "outputs": [],
   "source": []
  }
 ],
 "metadata": {
  "kernelspec": {
   "display_name": "Python 3",
   "language": "python",
   "name": "python3"
  },
  "language_info": {
   "codemirror_mode": {
    "name": "ipython",
    "version": 3
   },
   "file_extension": ".py",
   "mimetype": "text/x-python",
   "name": "python",
   "nbconvert_exporter": "python",
   "pygments_lexer": "ipython3",
   "version": "3.8.5"
  }
 },
 "nbformat": 4,
 "nbformat_minor": 4
}
