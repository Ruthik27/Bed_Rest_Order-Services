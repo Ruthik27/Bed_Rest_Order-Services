{
 "cells": [
  {
   "cell_type": "markdown",
   "metadata": {},
   "source": [
    "## Required lib and modules"
   ]
  },
  {
   "cell_type": "code",
   "execution_count": 1,
   "metadata": {},
   "outputs": [],
   "source": [
    "import pandas as pd\n",
    "import matplotlib.pyplot as plt\n",
    "import numpy as np\n",
    "import re\n",
    "import seaborn as sns\n",
    "from wordcloud import WordCloud,STOPWORDS"
   ]
  },
  {
   "cell_type": "markdown",
   "metadata": {},
   "source": [
    "## Importing Data files"
   ]
  },
  {
   "cell_type": "code",
   "execution_count": 2,
   "metadata": {},
   "outputs": [],
   "source": [
    "baner = pd.read_excel('data_source/Baner_cleaned.xlsx')\n",
    "bavdhan = pd.read_excel('data_source/Bavdhan_cleaned.xlsx')\n",
    "hinjewadi = pd.read_excel('data_source/Hinjawadi_cleaned.xlsx')\n",
    "wakad = pd.read_excel('data_source/Wakad_cleaned.xlsx')"
   ]
  },
  {
   "cell_type": "markdown",
   "metadata": {},
   "source": [
    "## Handling Data Files"
   ]
  },
  {
   "cell_type": "code",
   "execution_count": 3,
   "metadata": {},
   "outputs": [],
   "source": [
    "baner['locality'] = 'Baner'\n",
    "bavdhan['locality'] = 'Bavdhan'\n",
    "hinjewadi['locality'] = 'Hinjewadi'\n",
    "wakad['locality'] = 'Wakad'"
   ]
  },
  {
   "cell_type": "code",
   "execution_count": 4,
   "metadata": {},
   "outputs": [],
   "source": [
    "baner_copy = baner.copy()\n",
    "baner_copy =baner_copy.reindex(columns = ['Name', 'locality', 'ratings','off','delivery_reviews','cuisine'])\n",
    "\n",
    "bavdhan_copy = bavdhan.copy()\n",
    "bavdhan_copy =bavdhan_copy.reindex(columns = ['Name', 'locality', 'ratings','off','delivery_reviews','cuisine'])\n",
    "\n",
    "hinjewadi_copy = hinjewadi.copy()\n",
    "hinjewadi_copy =hinjewadi_copy.reindex(columns = ['Name', 'locality', 'ratings','off','delivery_reviews','cuisine'])\n",
    "\n",
    "wakad_copy = wakad.copy()\n",
    "wakad_copy =wakad_copy.reindex(columns = ['Name', 'locality', 'ratings','off','delivery_reviews','cuisine'])"
   ]
  },
  {
   "cell_type": "markdown",
   "metadata": {},
   "source": [
    "### Cleaning the delilvery reviews column"
   ]
  },
  {
   "cell_type": "code",
   "execution_count": 5,
   "metadata": {},
   "outputs": [],
   "source": [
    "baner_copy.delivery_reviews=baner_copy.delivery_reviews.str.replace('[(,),Not, , ,enough,Delivery,Reviews]','')\n",
    "bavdhan_copy.delivery_reviews=bavdhan_copy.delivery_reviews.str.replace('[(,),Not, , ,enough,Delivery,Reviews]','')\n",
    "hinjewadi_copy.delivery_reviews=hinjewadi_copy.delivery_reviews.str.replace('[(,),Not, , ,enough,Delivery,Reviews]','')\n",
    "wakad_copy.delivery_reviews=wakad_copy.delivery_reviews.str.replace('[(,),Not, , ,enough,Delivery,Reviews]','')"
   ]
  },
  {
   "cell_type": "markdown",
   "metadata": {
    "scrolled": true
   },
   "source": [
    "### Replacing value of K with 1000"
   ]
  },
  {
   "cell_type": "code",
   "execution_count": 6,
   "metadata": {},
   "outputs": [],
   "source": [
    "def value_to_float(x):\n",
    "    if type(x) == float or type(x) == int:\n",
    "        return x\n",
    "    if 'K' in x:\n",
    "        if len(x) > 1:\n",
    "            return float(x.replace('K', '')) * 1000\n",
    "        return 1000.0\n",
    "    return x\n",
    "baner_copy['delivery_reviews'] = baner_copy['delivery_reviews'].apply(value_to_float)\n",
    "bavdhan_copy['delivery_reviews'] = bavdhan_copy['delivery_reviews'].apply(value_to_float)\n",
    "hinjewadi_copy['delivery_reviews'] = hinjewadi_copy['delivery_reviews'].apply(value_to_float)\n",
    "wakad_copy['delivery_reviews'] = wakad_copy['delivery_reviews'].apply(value_to_float)"
   ]
  },
  {
   "cell_type": "markdown",
   "metadata": {},
   "source": [
    "### HANDLING BANER DATA SET"
   ]
  },
  {
   "cell_type": "markdown",
   "metadata": {},
   "source": [
    "### Dropping NAN values"
   ]
  },
  {
   "cell_type": "code",
   "execution_count": 7,
   "metadata": {},
   "outputs": [],
   "source": [
    "baner_ratings = baner_copy.dropna(subset=['ratings','delivery_reviews'])\n",
    "baner_ratings = baner_ratings[baner_ratings.delivery_reviews != '']\n",
    "\n",
    "bavdhan_ratings = bavdhan_copy.dropna(subset=['ratings','delivery_reviews'])\n",
    "bavdhan_ratings = bavdhan_ratings[bavdhan_ratings.delivery_reviews != '']\n",
    "\n",
    "hinjewadi_ratings = hinjewadi_copy.dropna(subset=['ratings','delivery_reviews'])\n",
    "hinjewadi_ratings = hinjewadi_ratings[hinjewadi_ratings.delivery_reviews != '']\n",
    "\n",
    "wakad_ratings = wakad_copy.dropna(subset=['ratings','delivery_reviews'])\n",
    "wakad_ratings = wakad_ratings[wakad_ratings.delivery_reviews != '']"
   ]
  },
  {
   "cell_type": "markdown",
   "metadata": {},
   "source": [
    "### Converting the Values to Integers"
   ]
  },
  {
   "cell_type": "code",
   "execution_count": 8,
   "metadata": {},
   "outputs": [],
   "source": [
    "def clean(x):\n",
    "    try:\n",
    "        return float(x)\n",
    "    except:\n",
    "        return np.NaN\n",
    "baner_ratings['delivery_reviews']  = baner_ratings['delivery_reviews'].apply(clean)\n",
    "bavdhan_ratings['delivery_reviews']  = bavdhan_ratings['delivery_reviews'].apply(clean)\n",
    "hinjewadi_ratings['delivery_reviews']  = hinjewadi_ratings['delivery_reviews'].apply(clean)\n",
    "wakad_ratings['delivery_reviews']  = wakad_ratings['delivery_reviews'].apply(clean)"
   ]
  },
  {
   "cell_type": "markdown",
   "metadata": {},
   "source": [
    "## Just to create excel files of resta. having higgest delivery reviews"
   ]
  },
  {
   "cell_type": "code",
   "execution_count": 9,
   "metadata": {
    "scrolled": true
   },
   "outputs": [],
   "source": [
    "#baner_ratings.sort_values(by=['delivery_reviews'], ascending=False, inplace=True)\n",
    "#baner_ratings.reset_index(inplace = True, drop = True)\n",
    "#bn = baner_ratings.head(20)\n",
    "#bn.to_excel(r'Baner_top_rest.xlsx', index = False)\n",
    "#print('\\nCSV String Values:\\n', bn_data)  "
   ]
  },
  {
   "cell_type": "code",
   "execution_count": 10,
   "metadata": {
    "scrolled": true
   },
   "outputs": [],
   "source": [
    "#bavdhan_ratings.sort_values(by=['delivery_reviews'], ascending=False, inplace=True)\n",
    "#bavdhan_ratings.reset_index(inplace = True, drop = True)\n",
    "#bn = bavdhan_ratings.head(20)\n",
    "#bn.to_excel(r'Bavdhan_top_rest.xlsx', index = False)\n",
    "#print('\\nCSV String Values:\\n', bn_data)  "
   ]
  },
  {
   "cell_type": "code",
   "execution_count": 11,
   "metadata": {
    "scrolled": true
   },
   "outputs": [],
   "source": [
    "#hinjewadi_ratings.sort_values(by=['delivery_reviews'], ascending=False, inplace=True)\n",
    "#hinjewadi_ratings.reset_index(inplace = True, drop = True)\n",
    "#bn = hinjewadi_ratings.head(20)\n",
    "#bn.to_excel(r'Hinjewadi_top_rest.xlsx', index = False)\n",
    "#print('\\nCSV String Values:\\n', bn_data)  "
   ]
  },
  {
   "cell_type": "code",
   "execution_count": 12,
   "metadata": {
    "scrolled": true
   },
   "outputs": [],
   "source": [
    "#wakad_ratings.sort_values(by=['delivery_reviews'], ascending=False, inplace=True)\n",
    "#wakad_ratings.reset_index(inplace = True, drop = True)\n",
    "#bn = wakad_ratings.head(20)\n",
    "#bn.to_excel(r'Wakad_top_rest.xlsx', index = False)\n",
    "#print('\\nCSV String Values:\\n', bn_data)  "
   ]
  },
  {
   "cell_type": "markdown",
   "metadata": {},
   "source": [
    "### Changing values of Delivery reviews "
   ]
  },
  {
   "cell_type": "code",
   "execution_count": 13,
   "metadata": {},
   "outputs": [],
   "source": [
    "baner_ratings['delivery_reviews'].where(~(baner_ratings['delivery_reviews']>10000.0), other=10000, inplace=True)\n",
    "bavdhan_ratings['delivery_reviews'].where(~(bavdhan_ratings['delivery_reviews']>10000.0), other=10000, inplace=True)\n",
    "hinjewadi_ratings['delivery_reviews'].where(~(hinjewadi_ratings['delivery_reviews']>10000.0), other=10000, inplace=True)\n",
    "wakad_ratings['delivery_reviews'].where(~(wakad_ratings['delivery_reviews']>10000.0), other=10000, inplace=True)"
   ]
  },
  {
   "cell_type": "markdown",
   "metadata": {},
   "source": [
    "### Converting delivery values to range of 1-5"
   ]
  },
  {
   "cell_type": "code",
   "execution_count": 14,
   "metadata": {},
   "outputs": [],
   "source": [
    "deliv = []\n",
    "for x in (baner_ratings['delivery_reviews']):\n",
    "    new_value = ( (x - 1.0) / (10000.0 - 1.0) ) * (5.0 - 0.0) + 0.0\n",
    "    new_value = round(new_value,2)\n",
    "    noob = float(new_value)\n",
    "    deliv.append(noob)\n",
    "baner_ratings.reset_index(inplace = True, drop = True)\n",
    "df = pd.DataFrame(deliv,columns=['deliv'])\n",
    "baner_ratings['deliv']= df['deliv']"
   ]
  },
  {
   "cell_type": "code",
   "execution_count": 15,
   "metadata": {},
   "outputs": [],
   "source": [
    "deliv = []\n",
    "for x in (bavdhan_ratings['delivery_reviews']):\n",
    "    new_value = ( (x - 1.0) / (10000.0 - 1.0) ) * (5.0 - 0.0) + 0.0\n",
    "    new_value = round(new_value,2)\n",
    "    noob = float(new_value)\n",
    "    deliv.append(noob)\n",
    "bavdhan_ratings.reset_index(inplace = True, drop = True)\n",
    "df = pd.DataFrame(deliv,columns=['deliv'])\n",
    "bavdhan_ratings['deliv']= df['deliv']"
   ]
  },
  {
   "cell_type": "code",
   "execution_count": 16,
   "metadata": {},
   "outputs": [],
   "source": [
    "deliv = []\n",
    "for x in (hinjewadi_ratings['delivery_reviews']):\n",
    "    new_value = ( (x - 1.0) / (10000.0 - 1.0) ) * (5.0 - 0.0) + 0.0\n",
    "    new_value = round(new_value,2)\n",
    "    noob = float(new_value)\n",
    "    deliv.append(noob)\n",
    "hinjewadi_ratings.reset_index(inplace = True, drop = True)\n",
    "df = pd.DataFrame(deliv,columns=['deliv'])\n",
    "hinjewadi_ratings['deliv']= df['deliv']"
   ]
  },
  {
   "cell_type": "code",
   "execution_count": 17,
   "metadata": {},
   "outputs": [],
   "source": [
    "deliv = []\n",
    "for x in (wakad_ratings['delivery_reviews']):\n",
    "    new_value = ( (x - 1.0) / (10000.0 - 1.0) ) * (5.0 - 0.0) + 0.0\n",
    "    new_value = round(new_value,2)\n",
    "    noob = float(new_value)\n",
    "    deliv.append(noob)\n",
    "wakad_ratings.reset_index(inplace = True, drop = True)\n",
    "df = pd.DataFrame(deliv,columns=['deliv'])\n",
    "wakad_ratings['deliv']= df['deliv']"
   ]
  },
  {
   "cell_type": "markdown",
   "metadata": {},
   "source": [
    "## Sorting values"
   ]
  },
  {
   "cell_type": "code",
   "execution_count": 18,
   "metadata": {},
   "outputs": [],
   "source": [
    "baner_ratings.sort_values(by=['ratings', 'deliv'], ascending=False, inplace=True)\n",
    "baner_ratings.reset_index(inplace = True, drop = True)\n",
    "\n",
    "bavdhan_ratings.sort_values(by=['ratings', 'deliv'], ascending=False, inplace=True)\n",
    "bavdhan_ratings.reset_index(inplace = True, drop = True)\n",
    "\n",
    "hinjewadi_ratings.sort_values(by=['ratings', 'deliv'], ascending=False, inplace=True)\n",
    "hinjewadi_ratings.reset_index(inplace = True, drop = True)\n",
    "\n",
    "wakad_ratings.sort_values(by=['ratings', 'deliv'], ascending=False, inplace=True)\n",
    "wakad_ratings.reset_index(inplace = True, drop = True)"
   ]
  },
  {
   "cell_type": "markdown",
   "metadata": {},
   "source": [
    "### Making different sets of data"
   ]
  },
  {
   "cell_type": "code",
   "execution_count": 19,
   "metadata": {},
   "outputs": [],
   "source": [
    "above_four =  baner_ratings.loc[(baner_ratings.ratings > 4.0)]\n",
    "above_four.reset_index(inplace = True, drop = True)\n",
    "above_three = baner_ratings.loc[(baner_ratings.ratings >3.0) & (baner_ratings.ratings < 4.0)]\n",
    "above_three.reset_index(inplace = True, drop = True)\n",
    "above_two = baner_ratings.loc[(baner_ratings.ratings >2.0) & (baner_ratings.ratings < 3.0)]\n",
    "above_two.reset_index(inplace = True, drop = True)\n",
    "above_one = baner_ratings.loc[(baner_ratings.ratings >1.0) & (baner_ratings.ratings < 2.0)]\n",
    "above_one.reset_index(inplace = True, drop = True)"
   ]
  },
  {
   "cell_type": "code",
   "execution_count": 20,
   "metadata": {},
   "outputs": [
    {
     "data": {
      "text/html": [
       "<div>\n",
       "<style scoped>\n",
       "    .dataframe tbody tr th:only-of-type {\n",
       "        vertical-align: middle;\n",
       "    }\n",
       "\n",
       "    .dataframe tbody tr th {\n",
       "        vertical-align: top;\n",
       "    }\n",
       "\n",
       "    .dataframe thead th {\n",
       "        text-align: right;\n",
       "    }\n",
       "</style>\n",
       "<table border=\"1\" class=\"dataframe\">\n",
       "  <thead>\n",
       "    <tr style=\"text-align: right;\">\n",
       "      <th></th>\n",
       "      <th>Name</th>\n",
       "      <th>locality</th>\n",
       "      <th>ratings</th>\n",
       "      <th>off</th>\n",
       "      <th>delivery_reviews</th>\n",
       "      <th>cuisine</th>\n",
       "      <th>deliv</th>\n",
       "    </tr>\n",
       "  </thead>\n",
       "  <tbody>\n",
       "    <tr>\n",
       "      <th>0</th>\n",
       "      <td>LKD | La Kheer Deli</td>\n",
       "      <td>Baner</td>\n",
       "      <td>4.5</td>\n",
       "      <td>₹50 OFF</td>\n",
       "      <td>2002.0</td>\n",
       "      <td>Desserts</td>\n",
       "      <td>1.00</td>\n",
       "    </tr>\n",
       "    <tr>\n",
       "      <th>1</th>\n",
       "      <td>Natural Ice Cream</td>\n",
       "      <td>Baner</td>\n",
       "      <td>4.5</td>\n",
       "      <td>₹50 OFF</td>\n",
       "      <td>1621.0</td>\n",
       "      <td>Ice Cream, Desserts</td>\n",
       "      <td>0.81</td>\n",
       "    </tr>\n",
       "    <tr>\n",
       "      <th>2</th>\n",
       "      <td>Squeezo Foods</td>\n",
       "      <td>Baner</td>\n",
       "      <td>4.5</td>\n",
       "      <td>₹50 OFF</td>\n",
       "      <td>1537.0</td>\n",
       "      <td>Salad, Healthy Food, Sandwich, American, North...</td>\n",
       "      <td>0.77</td>\n",
       "    </tr>\n",
       "    <tr>\n",
       "      <th>3</th>\n",
       "      <td>Baskin Robbins</td>\n",
       "      <td>Baner</td>\n",
       "      <td>4.5</td>\n",
       "      <td>50% OFF</td>\n",
       "      <td>601.0</td>\n",
       "      <td>Ice Cream, Desserts, Beverages</td>\n",
       "      <td>0.30</td>\n",
       "    </tr>\n",
       "    <tr>\n",
       "      <th>4</th>\n",
       "      <td>LKD | La Kheer Deli</td>\n",
       "      <td>Baner</td>\n",
       "      <td>4.5</td>\n",
       "      <td>50% OFF</td>\n",
       "      <td>211.0</td>\n",
       "      <td>Desserts</td>\n",
       "      <td>0.11</td>\n",
       "    </tr>\n",
       "    <tr>\n",
       "      <th>...</th>\n",
       "      <td>...</td>\n",
       "      <td>...</td>\n",
       "      <td>...</td>\n",
       "      <td>...</td>\n",
       "      <td>...</td>\n",
       "      <td>...</td>\n",
       "      <td>...</td>\n",
       "    </tr>\n",
       "    <tr>\n",
       "      <th>189</th>\n",
       "      <td>Haka</td>\n",
       "      <td>Baner</td>\n",
       "      <td>4.1</td>\n",
       "      <td>50% OFF</td>\n",
       "      <td>93.0</td>\n",
       "      <td>Chinese, Momos</td>\n",
       "      <td>0.05</td>\n",
       "    </tr>\n",
       "    <tr>\n",
       "      <th>190</th>\n",
       "      <td>Taste Chettinad - Veg</td>\n",
       "      <td>Baner</td>\n",
       "      <td>4.1</td>\n",
       "      <td>₹50 OFF</td>\n",
       "      <td>79.0</td>\n",
       "      <td>Chettinad, South Indian</td>\n",
       "      <td>0.04</td>\n",
       "    </tr>\n",
       "    <tr>\n",
       "      <th>191</th>\n",
       "      <td>Namaste Khichdi</td>\n",
       "      <td>Baner</td>\n",
       "      <td>4.1</td>\n",
       "      <td>NaN</td>\n",
       "      <td>59.0</td>\n",
       "      <td>Healthy Food, North Indian</td>\n",
       "      <td>0.03</td>\n",
       "    </tr>\n",
       "    <tr>\n",
       "      <th>192</th>\n",
       "      <td>Soy De Asian</td>\n",
       "      <td>Baner</td>\n",
       "      <td>4.1</td>\n",
       "      <td>NaN</td>\n",
       "      <td>60.0</td>\n",
       "      <td>Chinese</td>\n",
       "      <td>0.03</td>\n",
       "    </tr>\n",
       "    <tr>\n",
       "      <th>193</th>\n",
       "      <td>Ganesh Bhel</td>\n",
       "      <td>Baner</td>\n",
       "      <td>4.1</td>\n",
       "      <td>NaN</td>\n",
       "      <td>1.0</td>\n",
       "      <td>Fast Food, Street Food, Beverages</td>\n",
       "      <td>0.00</td>\n",
       "    </tr>\n",
       "  </tbody>\n",
       "</table>\n",
       "<p>194 rows × 7 columns</p>\n",
       "</div>"
      ],
      "text/plain": [
       "                      Name locality  ratings      off  delivery_reviews  \\\n",
       "0      LKD | La Kheer Deli    Baner      4.5  ₹50 OFF            2002.0   \n",
       "1        Natural Ice Cream    Baner      4.5  ₹50 OFF            1621.0   \n",
       "2            Squeezo Foods    Baner      4.5  ₹50 OFF            1537.0   \n",
       "3           Baskin Robbins    Baner      4.5  50% OFF             601.0   \n",
       "4      LKD | La Kheer Deli    Baner      4.5  50% OFF             211.0   \n",
       "..                     ...      ...      ...      ...               ...   \n",
       "189                   Haka    Baner      4.1  50% OFF              93.0   \n",
       "190  Taste Chettinad - Veg    Baner      4.1  ₹50 OFF              79.0   \n",
       "191        Namaste Khichdi    Baner      4.1      NaN              59.0   \n",
       "192           Soy De Asian    Baner      4.1      NaN              60.0   \n",
       "193            Ganesh Bhel    Baner      4.1      NaN               1.0   \n",
       "\n",
       "                                               cuisine  deliv  \n",
       "0                                             Desserts   1.00  \n",
       "1                                  Ice Cream, Desserts   0.81  \n",
       "2    Salad, Healthy Food, Sandwich, American, North...   0.77  \n",
       "3                       Ice Cream, Desserts, Beverages   0.30  \n",
       "4                                             Desserts   0.11  \n",
       "..                                                 ...    ...  \n",
       "189                                     Chinese, Momos   0.05  \n",
       "190                            Chettinad, South Indian   0.04  \n",
       "191                         Healthy Food, North Indian   0.03  \n",
       "192                                            Chinese   0.03  \n",
       "193                  Fast Food, Street Food, Beverages   0.00  \n",
       "\n",
       "[194 rows x 7 columns]"
      ]
     },
     "execution_count": 20,
     "metadata": {},
     "output_type": "execute_result"
    }
   ],
   "source": [
    "above_four"
   ]
  },
  {
   "cell_type": "markdown",
   "metadata": {},
   "source": [
    "#### --------------------------------------------------------------------------------------------------------------------------------------------------"
   ]
  },
  {
   "cell_type": "markdown",
   "metadata": {},
   "source": [
    "## HANDLING BAVDHAN DATA SET"
   ]
  },
  {
   "cell_type": "code",
   "execution_count": 21,
   "metadata": {},
   "outputs": [
    {
     "name": "stdout",
     "output_type": "stream",
     "text": [
      "<class 'pandas.core.frame.DataFrame'>\n",
      "RangeIndex: 834 entries, 0 to 833\n",
      "Data columns (total 6 columns):\n",
      " #   Column            Non-Null Count  Dtype  \n",
      "---  ------            --------------  -----  \n",
      " 0   Name              834 non-null    object \n",
      " 1   locality          834 non-null    object \n",
      " 2   ratings           617 non-null    float64\n",
      " 3   off               701 non-null    object \n",
      " 4   delivery_reviews  751 non-null    object \n",
      " 5   cuisine           834 non-null    object \n",
      "dtypes: float64(1), object(5)\n",
      "memory usage: 39.2+ KB\n"
     ]
    }
   ],
   "source": [
    "bavdhan_copy.info()"
   ]
  },
  {
   "cell_type": "markdown",
   "metadata": {},
   "source": [
    "## HANDLING HINJEWADI DATA SET"
   ]
  },
  {
   "cell_type": "code",
   "execution_count": 22,
   "metadata": {},
   "outputs": [
    {
     "name": "stdout",
     "output_type": "stream",
     "text": [
      "<class 'pandas.core.frame.DataFrame'>\n",
      "RangeIndex: 960 entries, 0 to 959\n",
      "Data columns (total 6 columns):\n",
      " #   Column            Non-Null Count  Dtype  \n",
      "---  ------            --------------  -----  \n",
      " 0   Name              960 non-null    object \n",
      " 1   locality          960 non-null    object \n",
      " 2   ratings           710 non-null    float64\n",
      " 3   off               582 non-null    object \n",
      " 4   delivery_reviews  867 non-null    object \n",
      " 5   cuisine           960 non-null    object \n",
      "dtypes: float64(1), object(5)\n",
      "memory usage: 45.1+ KB\n"
     ]
    }
   ],
   "source": [
    "hinjewadi_copy.info()"
   ]
  },
  {
   "cell_type": "markdown",
   "metadata": {},
   "source": [
    "## HANDLING WAKAD DATA SET"
   ]
  },
  {
   "cell_type": "code",
   "execution_count": 23,
   "metadata": {},
   "outputs": [
    {
     "name": "stdout",
     "output_type": "stream",
     "text": [
      "<class 'pandas.core.frame.DataFrame'>\n",
      "RangeIndex: 1118 entries, 0 to 1117\n",
      "Data columns (total 6 columns):\n",
      " #   Column            Non-Null Count  Dtype  \n",
      "---  ------            --------------  -----  \n",
      " 0   Name              1118 non-null   object \n",
      " 1   locality          1118 non-null   object \n",
      " 2   ratings           781 non-null    float64\n",
      " 3   off               810 non-null    object \n",
      " 4   delivery_reviews  970 non-null    object \n",
      " 5   cuisine           0 non-null      float64\n",
      "dtypes: float64(2), object(4)\n",
      "memory usage: 52.5+ KB\n"
     ]
    }
   ],
   "source": [
    "wakad_copy.info()"
   ]
  },
  {
   "cell_type": "markdown",
   "metadata": {},
   "source": [
    "# -------------------------------------------------------------------------------------"
   ]
  },
  {
   "cell_type": "markdown",
   "metadata": {},
   "source": [
    "## Scatter plotting one by one"
   ]
  },
  {
   "cell_type": "code",
   "execution_count": 24,
   "metadata": {},
   "outputs": [
    {
     "name": "stderr",
     "output_type": "stream",
     "text": [
      "/home/perman/anaconda3/lib/python3.8/site-packages/matplotlib/backends/backend_agg.py:238: RuntimeWarning: Glyph 2342 missing from current font.\n",
      "  font.set_text(s, 0.0, flags=flags)\n",
      "/home/perman/anaconda3/lib/python3.8/site-packages/matplotlib/backends/backend_agg.py:201: RuntimeWarning: Glyph 2342 missing from current font.\n",
      "  font.set_text(s, 0, flags=flags)\n"
     ]
    },
    {
     "data": {
      "image/png": "[encoded data removed]",
      "text/plain": [
       "<Figure size 432x432 with 1 Axes>"
      ]
     },
     "metadata": {
      "needs_background": "light"
     },
     "output_type": "display_data"
    }
   ],
   "source": [
    "plt.figure(figsize=(6,6))\n",
    "x = baner_ratings['Name']\n",
    "y1 = baner_ratings['ratings']\n",
    "\n",
    "axes = plt.gca()\n",
    "axes.set_ylim([2.5,5.0])\n",
    "plt.title(\"Baner\")\n",
    "plt.scatter(x, y1, color='g',alpha=0.3)\n",
    "plt.show()"
   ]
  },
  {
   "cell_type": "code",
   "execution_count": 25,
   "metadata": {},
   "outputs": [
    {
     "data": {
      "image/png": "[encoded data removed]",
      "text/plain": [
       "<Figure size 432x432 with 1 Axes>"
      ]
     },
     "metadata": {
      "needs_background": "light"
     },
     "output_type": "display_data"
    }
   ],
   "source": [
    "plt.figure(figsize=(6,6))\n",
    "x = bavdhan_ratings['Name']\n",
    "y1 = bavdhan_ratings['ratings']\n",
    "plt.title(\"Bavdhan\")\n",
    "axes = plt.gca()\n",
    "axes.set_ylim([2.5,5.0])\n",
    "plt.scatter(x, y1, color='b',alpha=0.3)\n",
    "plt.show()"
   ]
  },
  {
   "cell_type": "code",
   "execution_count": 26,
   "metadata": {
    "scrolled": false
   },
   "outputs": [
    {
     "data": {
      "image/png": "[encoded data removed]",
      "text/plain": [
       "<Figure size 432x432 with 1 Axes>"
      ]
     },
     "metadata": {
      "needs_background": "light"
     },
     "output_type": "display_data"
    }
   ],
   "source": [
    "plt.figure(figsize=(6,6))\n",
    "x = hinjewadi_ratings['Name']\n",
    "y1 = hinjewadi_ratings['ratings']\n",
    "plt.title(\"Hinjewadi\")\n",
    "axes = plt.gca()\n",
    "axes.set_ylim([2.5,5.0])\n",
    "plt.scatter(x, y1, color='y',alpha=0.3)\n",
    "plt.show()"
   ]
  },
  {
   "cell_type": "code",
   "execution_count": 27,
   "metadata": {
    "scrolled": false
   },
   "outputs": [
    {
     "data": {
      "image/png": "[encoded data removed]",
      "text/plain": [
       "<Figure size 432x432 with 1 Axes>"
      ]
     },
     "metadata": {
      "needs_background": "light"
     },
     "output_type": "display_data"
    }
   ],
   "source": [
    "plt.figure(figsize=(6,6))\n",
    "x = wakad_ratings['Name']\n",
    "y1 = wakad_ratings['ratings']\n",
    "plt.title(\"Wakad\")\n",
    "axes = plt.gca()\n",
    "axes.set_ylim([2.5,5.0])\n",
    "plt.scatter(x, y1, color='r',alpha=0.3)\n",
    "plt.show()"
   ]
  },
  {
   "cell_type": "markdown",
   "metadata": {},
   "source": [
    "## Ratings & Delivery reviews VS Name"
   ]
  },
  {
   "cell_type": "code",
   "execution_count": null,
   "metadata": {},
   "outputs": [
    {
     "data": {
      "text/plain": [
       "<Figure size 720x720 with 0 Axes>"
      ]
     },
     "metadata": {},
     "output_type": "display_data"
    }
   ],
   "source": [
    "plt.figure(figsize=(10,10))\n",
    "ax = baner_ratings.plot(kind=\"scatter\", x='Name', y='ratings', color=\"b\",label=\"Ratings\",figsize=(10, 10))\n",
    "baner_ratings.plot( kind=\"scatter\",x='Name', y='deliv', color=\"y\",label=\"Delivery_Reviews\", ax=ax)\n",
    "ax.set_xlabel(\"Number of Restuarants\")\n",
    "ax.set_ylabel(\"Ratings & Delivery_Reviews\")\n",
    "plt.show()"
   ]
  },
  {
   "cell_type": "code",
   "execution_count": null,
   "metadata": {},
   "outputs": [],
   "source": [
    "plt.figure(figsize=(10,10))\n",
    "ax = bavdhan_ratings.plot(kind=\"scatter\", x='Name', y='ratings', color=\"b\",label=\"Ratings\",figsize=(10, 10))\n",
    "bavdhan_ratings.plot( kind=\"scatter\",x='Name', y='deliv', color=\"y\",label=\"Delivery_Reviews\", ax=ax)\n",
    "ax.set_xlabel(\"Number of Restuarants\")\n",
    "ax.set_ylabel(\"Ratings & Delivery_Reviews\")\n",
    "\n",
    "plt.show()"
   ]
  },
  {
   "cell_type": "code",
   "execution_count": null,
   "metadata": {},
   "outputs": [],
   "source": [
    "plt.figure(figsize=(10,10))\n",
    "ax = hinjewadi_ratings.plot(kind=\"scatter\", x='Name', y='ratings', color=\"b\",label=\"Ratings\",figsize=(10, 10))\n",
    "hinjewadi_ratings.plot( kind=\"scatter\",x='Name', y='deliv', color=\"y\",label=\"Delivery_Reviews\", ax=ax)\n",
    "ax.set_xlabel(\"Number of Restuarants\")\n",
    "ax.set_ylabel(\"Ratings & Delivery_Reviews\")\n",
    "\n",
    "plt.show()"
   ]
  },
  {
   "cell_type": "code",
   "execution_count": null,
   "metadata": {},
   "outputs": [],
   "source": [
    "plt.figure(figsize=(10,10))\n",
    "ax = wakad_ratings.plot(kind=\"scatter\", x='Name', y='ratings', color=\"b\",label=\"Ratings\",figsize=(10, 10))\n",
    "wakad_ratings.plot( kind=\"scatter\",x='Name', y='deliv', color=\"y\",label=\"Delivery_Reviews\", ax=ax)\n",
    "ax.set_xlabel(\"Number of Restuarants\")\n",
    "ax.set_ylabel(\"Ratings & Delivery_Reviews\")\n",
    "\n",
    "plt.show()"
   ]
  },
  {
   "cell_type": "markdown",
   "metadata": {},
   "source": [
    "### Combining the filterd data all together"
   ]
  },
  {
   "cell_type": "code",
   "execution_count": null,
   "metadata": {},
   "outputs": [],
   "source": [
    "bob = pd.DataFrame()"
   ]
  },
  {
   "cell_type": "code",
   "execution_count": null,
   "metadata": {},
   "outputs": [],
   "source": [
    "bob = bob.assign(index = baner_ratings.index,baner=baner_ratings['ratings'],bavdhan=bavdhan_ratings['ratings'],\n",
    "                                    hinjewadi=hinjewadi_ratings['ratings'],wakad=wakad_ratings['ratings'])"
   ]
  },
  {
   "cell_type": "code",
   "execution_count": null,
   "metadata": {},
   "outputs": [],
   "source": [
    "plt.figure(figsize=(10,10))\n",
    "ax = bob.plot(kind=\"scatter\", x='index', y='baner', color=\"b\",label=\"Baner\",figsize=(10, 10),alpha=0.3)\n",
    "bob.plot( kind=\"scatter\",x='index', y='bavdhan', color=\"y\",label=\"Bavdhan\", ax=ax)\n",
    "bob.plot(kind=\"scatter\", x='index', y='hinjewadi', color=\"r\",label=\"Hinjewadi\", ax=ax)\n",
    "bob.plot(kind=\"scatter\", x='index', y='wakad', color=\"g\",label=\"Wakad\",  ax=ax)\n",
    "\n",
    "ax.set_xlabel(\"Number of Restuarants\")\n",
    "ax.set_ylabel(\"Ratings\")\n",
    "\n",
    "plt.show()"
   ]
  },
  {
   "cell_type": "code",
   "execution_count": null,
   "metadata": {
    "scrolled": false
   },
   "outputs": [],
   "source": [
    "sns.pairplot(baner_ratings, hue = \"locality\", palette = \"Set2\",height = 4)"
   ]
  },
  {
   "cell_type": "code",
   "execution_count": null,
   "metadata": {},
   "outputs": [],
   "source": [
    "sizes= [bob['baner'].sum(),bob['bavdhan'].sum(),bob['wakad'].sum(),bob['hinjewadi'].sum()]\n",
    "labels = ['Baner', 'Bavdhan', 'Hinjewadi', 'Wakad']\n",
    "explode = (0.2, 0, 0.1, 0)\n",
    "fig1, ax1 = plt.subplots(figsize=(10,10))\n",
    "plt.title(\"Average of Ratings according to Locality\")\n",
    "ax1.pie(sizes, explode=explode, labels=labels,shadow=True,autopct='%1.1f%%' ,startangle=90,)\n",
    "plt.rcParams['font.size'] = 20\n",
    "plt.show()"
   ]
  },
  {
   "cell_type": "code",
   "execution_count": null,
   "metadata": {},
   "outputs": [],
   "source": [
    "sizes= [baner_ratings['deliv'].sum(),bavdhan_ratings['deliv'].sum(),wakad_ratings['deliv'].sum(),hinjewadi_ratings['deliv'].sum()]\n",
    "labels = ['baner', 'bavdhan', 'hinjewadi', 'Wakad']\n",
    "explode = (0.2, 0, 0.1, 0)\n",
    "fig1, ax1 = plt.subplots(figsize=(10,10))\n",
    "plt.title(\"Average of Delivery Revies according to Locality\")\n",
    "ax1.pie(sizes, explode=explode, labels=labels,shadow=True,autopct='%1.1f%%' ,startangle=90,)\n",
    "plt.rcParams['font.size'] = 20\n",
    "plt.show()"
   ]
  },
  {
   "cell_type": "code",
   "execution_count": null,
   "metadata": {},
   "outputs": [],
   "source": [
    "shawn = pd.DataFrame()"
   ]
  },
  {
   "cell_type": "code",
   "execution_count": null,
   "metadata": {
    "scrolled": false
   },
   "outputs": [],
   "source": [
    "shawn = pd.concat([baner_ratings,bavdhan_ratings,hinjewadi_ratings,wakad_ratings])"
   ]
  },
  {
   "cell_type": "code",
   "execution_count": null,
   "metadata": {},
   "outputs": [],
   "source": [
    "def clean(x):\n",
    "    try:\n",
    "        return str(x)\n",
    "    except:\n",
    "        return np.NaN\n",
    "shawn['cuisine']  = shawn['cuisine'].apply(clean)"
   ]
  },
  {
   "cell_type": "code",
   "execution_count": null,
   "metadata": {},
   "outputs": [],
   "source": [
    "df=shawn.groupby(['locality'])"
   ]
  },
  {
   "cell_type": "code",
   "execution_count": null,
   "metadata": {},
   "outputs": [],
   "source": [
    "df.plot(x= 'Name', y = 'ratings', color = 'g' ,kind='hist',alpha = 0.3) # other method"
   ]
  },
  {
   "cell_type": "code",
   "execution_count": null,
   "metadata": {},
   "outputs": [],
   "source": [
    "fig = plt.gcf()\n",
    "sns.countplot(data = shawn, hue = 'locality', x = 'ratings')\n",
    "plt.title('Count plot of No of restaurants for different ratings')\n",
    "fig.set_size_inches(15, 15)\n",
    "plt.show()"
   ]
  },
  {
   "cell_type": "code",
   "execution_count": null,
   "metadata": {},
   "outputs": [],
   "source": [
    "fig = plt.gcf()\n",
    "\n",
    "sns.jointplot(x = \"deliv\", y = \"ratings\",data = shawn ,color= \"purple\")\n",
    "plt.figure(figsize=(15, 15))\n",
    "plt.show()"
   ]
  },
  {
   "cell_type": "code",
   "execution_count": null,
   "metadata": {},
   "outputs": [],
   "source": [
    "shawn[['ratings', 'locality']].groupby(['locality']).median().sort_values(\"ratings\", ascending = True).plot.bar()\n",
    "plt.title('Bar plot of average Rating vs Locality')\n",
    "\n",
    "plt.show()"
   ]
  },
  {
   "cell_type": "code",
   "execution_count": null,
   "metadata": {
    "scrolled": false
   },
   "outputs": [],
   "source": [
    "fig = plt.gcf()\n",
    "groups = shawn.groupby(['locality','ratings']).size().unstack(fill_value=0)\n",
    "groups.plot.bar()\n",
    "fig.set_size_inches(10,10)\n",
    "plt.show()"
   ]
  },
  {
   "cell_type": "code",
   "execution_count": null,
   "metadata": {},
   "outputs": [],
   "source": [
    "import numpy as np\n",
    "import matplotlib.pyplot as plt\n",
    "\n",
    "x = bob['index']\n",
    "Baner = bob['baner']\n",
    "Bavdhan = bob['bavdhan']\n",
    "Hinjewadi = bob['hinjewadi']\n",
    "Wakad = bob['wakad']\n",
    "labels = [\"April \", \"May\", \"June\",\"Wakad\"]\n",
    "\n",
    "fig, ax = plt.subplots(figsize=(10,10))\n",
    "ax.stackplot(x, Baner, Bavdhan, Hinjewadi,Wakad, labels=labels)\n",
    "ax.legend(loc=1)\n",
    "\n",
    "\n",
    "plt.xlabel('Counts of Restaurants')\n",
    "plt.ylabel('Ratings from 1 - 5')\n",
    "plt.title('Ratings Vs No of Restaurants')\n",
    "\n",
    "plt.show();"
   ]
  },
  {
   "cell_type": "code",
   "execution_count": null,
   "metadata": {},
   "outputs": [],
   "source": [
    "cuisines=[j.lower().strip() for i in shawn.cuisine for j in i.split(',')]"
   ]
  },
  {
   "cell_type": "code",
   "execution_count": null,
   "metadata": {},
   "outputs": [],
   "source": [
    "plt.figure( figsize=(15,10) )\n",
    "cuisines_set=set(cuisines)\n",
    "cuisines_wc=', '.join(cuisines_set)\n",
    "wc=WordCloud(stopwords=STOPWORDS,max_words=len(cuisines_wc))\n",
    "wc.generate(cuisines_wc)\n",
    "plt.axis(\"off\")\n",
    "plt.imshow(wc)\n",
    "plt.title('Most Popular Cuisines in all Regions')\n",
    "plt.show()"
   ]
  },
  {
   "cell_type": "markdown",
   "metadata": {},
   "source": [
    "## Ratings null and Not null count"
   ]
  },
  {
   "cell_type": "markdown",
   "metadata": {},
   "source": [
    "### BANER"
   ]
  },
  {
   "cell_type": "code",
   "execution_count": null,
   "metadata": {},
   "outputs": [],
   "source": [
    "print('Null values in Baner data set:', baner_copy['ratings'].isna().sum())"
   ]
  },
  {
   "cell_type": "code",
   "execution_count": null,
   "metadata": {},
   "outputs": [],
   "source": [
    "baner_copy['ratings'].notnull().sum()"
   ]
  },
  {
   "cell_type": "markdown",
   "metadata": {},
   "source": [
    "### BAVDHAN"
   ]
  },
  {
   "cell_type": "code",
   "execution_count": null,
   "metadata": {},
   "outputs": [],
   "source": [
    "bavdhan_copy['ratings'].isna().sum()"
   ]
  },
  {
   "cell_type": "code",
   "execution_count": null,
   "metadata": {},
   "outputs": [],
   "source": [
    "bavdhan_copy['ratings'].notnull().sum()"
   ]
  },
  {
   "cell_type": "markdown",
   "metadata": {},
   "source": [
    "### HINJEWADI"
   ]
  },
  {
   "cell_type": "code",
   "execution_count": null,
   "metadata": {},
   "outputs": [],
   "source": [
    "hinjewadi_copy['ratings'].isna().sum()"
   ]
  },
  {
   "cell_type": "code",
   "execution_count": null,
   "metadata": {},
   "outputs": [],
   "source": [
    "hinjewadi_copy['ratings'].notnull().sum()"
   ]
  },
  {
   "cell_type": "markdown",
   "metadata": {},
   "source": [
    "### WAKAD"
   ]
  },
  {
   "cell_type": "code",
   "execution_count": null,
   "metadata": {},
   "outputs": [],
   "source": [
    "wakad_copy['ratings'].isna().sum()"
   ]
  },
  {
   "cell_type": "code",
   "execution_count": null,
   "metadata": {},
   "outputs": [],
   "source": [
    "wakad_copy['ratings'].notnull().sum()"
   ]
  },
  {
   "cell_type": "code",
   "execution_count": null,
   "metadata": {},
   "outputs": [],
   "source": [
    "baner_ratings.isna().sum()"
   ]
  },
  {
   "cell_type": "code",
   "execution_count": null,
   "metadata": {},
   "outputs": [],
   "source": [
    "baner_copy.isnull().sum()"
   ]
  },
  {
   "cell_type": "code",
   "execution_count": null,
   "metadata": {},
   "outputs": [],
   "source": [
    "shawn['delivery_reviews'].max()"
   ]
  },
  {
   "cell_type": "code",
   "execution_count": null,
   "metadata": {},
   "outputs": [],
   "source": []
  }
 ],
 "metadata": {
  "kernelspec": {
   "display_name": "Python 3",
   "language": "python",
   "name": "python3"
  },
  "language_info": {
   "codemirror_mode": {
    "name": "ipython",
    "version": 3
   },
   "file_extension": ".py",
   "mimetype": "text/x-python",
   "name": "python",
   "nbconvert_exporter": "python",
   "pygments_lexer": "ipython3",
   "version": "3.8.5"
  }
 },
 "nbformat": 4,
 "nbformat_minor": 4
}
