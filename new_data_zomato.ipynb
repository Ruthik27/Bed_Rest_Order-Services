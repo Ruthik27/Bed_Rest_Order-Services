{
 "cells": [
  {
   "cell_type": "code",
   "execution_count": 93,
   "metadata": {},
   "outputs": [],
   "source": [
    "import pandas as pd\n",
    "import matplotlib.pyplot as plt\n",
    "import numpy as np"
   ]
  },
  {
   "cell_type": "code",
   "execution_count": 48,
   "metadata": {},
   "outputs": [],
   "source": [
    "baner = pd.read_excel('Baner_cleaned.xlsx')\n",
    "bavdhan = pd.read_excel('Bavdhan-cleaned.xlsx')\n",
    "hinjewadi = pd.read_excel('Hinjawadi_cleaned.xlsx')\n",
    "wakad = pd.read_excel('Wakad_cleaned.xlsx')"
   ]
  },
  {
   "cell_type": "code",
   "execution_count": 49,
   "metadata": {},
   "outputs": [],
   "source": [
    "baner['locality'] = 'Baner'\n",
    "bavdhan['locality'] = 'Bavdhan'\n",
    "hinjewadi['locality'] = 'Hinjewadi'\n",
    "wakad['locality'] = 'Wakad'"
   ]
  },
  {
   "cell_type": "code",
   "execution_count": 50,
   "metadata": {},
   "outputs": [],
   "source": [
    "baner_copy = baner.copy()\n",
    "baner_copy =baner_copy.reindex(columns = ['Name', 'locality', 'ratings','delivery_reviews','off','delivery_reviews','cuisine'])\n",
    "\n",
    "bavdhan_copy = bavdhan.copy()\n",
    "bavdhan_copy =bavdhan_copy.reindex(columns = ['Name', 'locality', 'ratings','delivery_reviews','off','delivery_reviews','cuisine'])\n",
    "\n",
    "hinjewadi_copy = hinjewadi.copy()\n",
    "hinjewadi_copy =hinjewadi_copy.reindex(columns = ['Name', 'locality', 'ratings','delivery_reviews','off','delivery_reviews','cuisine'])\n",
    "\n",
    "wakad_copy = wakad.copy()\n",
    "wakad_copy =wakad_copy.reindex(columns = ['Name', 'locality', 'ratings','delivery_reviews','off','delivery_reviews','cuisine'])"
   ]
  },
  {
   "cell_type": "markdown",
   "metadata": {},
   "source": [
    "## HANDLING BANER DATA SET"
   ]
  },
  {
   "cell_type": "code",
   "execution_count": 87,
   "metadata": {
    "scrolled": true
   },
   "outputs": [
    {
     "name": "stdout",
     "output_type": "stream",
     "text": [
      "<class 'pandas.core.frame.DataFrame'>\n",
      "RangeIndex: 1137 entries, 0 to 1136\n",
      "Data columns (total 7 columns):\n",
      " #   Column            Non-Null Count  Dtype  \n",
      "---  ------            --------------  -----  \n",
      " 0   Name              1137 non-null   object \n",
      " 1   locality          1137 non-null   object \n",
      " 2   ratings           851 non-null    float64\n",
      " 3   delivery_reviews  1010 non-null   object \n",
      " 4   off               968 non-null    object \n",
      " 5   delivery_reviews  1010 non-null   object \n",
      " 6   cuisine           1137 non-null   object \n",
      "dtypes: float64(1), object(6)\n",
      "memory usage: 62.3+ KB\n"
     ]
    }
   ],
   "source": [
    "baner_copy.info()"
   ]
  },
  {
   "cell_type": "code",
   "execution_count": 88,
   "metadata": {},
   "outputs": [],
   "source": [
    "baner_ratings = baner_copy.dropna(subset=['ratings'])"
   ]
  },
  {
   "cell_type": "code",
   "execution_count": 89,
   "metadata": {},
   "outputs": [],
   "source": [
    "baner_ratings.reset_index(inplace = True, drop = True)"
   ]
  },
  {
   "cell_type": "code",
   "execution_count": 90,
   "metadata": {},
   "outputs": [
    {
     "data": {
      "text/html": [
       "<div>\n",
       "<style scoped>\n",
       "    .dataframe tbody tr th:only-of-type {\n",
       "        vertical-align: middle;\n",
       "    }\n",
       "\n",
       "    .dataframe tbody tr th {\n",
       "        vertical-align: top;\n",
       "    }\n",
       "\n",
       "    .dataframe thead th {\n",
       "        text-align: right;\n",
       "    }\n",
       "</style>\n",
       "<table border=\"1\" class=\"dataframe\">\n",
       "  <thead>\n",
       "    <tr style=\"text-align: right;\">\n",
       "      <th></th>\n",
       "      <th>Name</th>\n",
       "      <th>locality</th>\n",
       "      <th>ratings</th>\n",
       "      <th>delivery_reviews</th>\n",
       "      <th>off</th>\n",
       "      <th>delivery_reviews</th>\n",
       "      <th>cuisine</th>\n",
       "    </tr>\n",
       "  </thead>\n",
       "  <tbody>\n",
       "    <tr>\n",
       "      <th>0</th>\n",
       "      <td>McDonald's</td>\n",
       "      <td>Baner</td>\n",
       "      <td>4.1</td>\n",
       "      <td>(4,879 Delivery Reviews)</td>\n",
       "      <td>₹50 OFF</td>\n",
       "      <td>(4,879 Delivery Reviews)</td>\n",
       "      <td>Burger, Fast Food, Beverages</td>\n",
       "    </tr>\n",
       "    <tr>\n",
       "      <th>1</th>\n",
       "      <td>Nawab Asia</td>\n",
       "      <td>Baner</td>\n",
       "      <td>4.1</td>\n",
       "      <td>(11.1K Delivery Reviews)</td>\n",
       "      <td>₹50 OFF</td>\n",
       "      <td>(11.1K Delivery Reviews)</td>\n",
       "      <td>North Indian, Chinese, Mughlai, Biryani, Desse...</td>\n",
       "    </tr>\n",
       "    <tr>\n",
       "      <th>2</th>\n",
       "      <td>Mithas</td>\n",
       "      <td>Baner</td>\n",
       "      <td>4.3</td>\n",
       "      <td>(24.8K Delivery Reviews)</td>\n",
       "      <td>₹50 OFF</td>\n",
       "      <td>(24.8K Delivery Reviews)</td>\n",
       "      <td>Mithai, Street Food</td>\n",
       "    </tr>\n",
       "    <tr>\n",
       "      <th>3</th>\n",
       "      <td>Anna Idli</td>\n",
       "      <td>Baner</td>\n",
       "      <td>4.2</td>\n",
       "      <td>(8,022 Delivery Reviews)</td>\n",
       "      <td>₹50 OFF</td>\n",
       "      <td>(8,022 Delivery Reviews)</td>\n",
       "      <td>South Indian, Beverages</td>\n",
       "    </tr>\n",
       "    <tr>\n",
       "      <th>4</th>\n",
       "      <td>Dadu's Sweet Emporio</td>\n",
       "      <td>Baner</td>\n",
       "      <td>4.3</td>\n",
       "      <td>(5,975 Delivery Reviews)</td>\n",
       "      <td>₹50 OFF</td>\n",
       "      <td>(5,975 Delivery Reviews)</td>\n",
       "      <td>Mithai, Street Food, Ice Cream</td>\n",
       "    </tr>\n",
       "    <tr>\n",
       "      <th>...</th>\n",
       "      <td>...</td>\n",
       "      <td>...</td>\n",
       "      <td>...</td>\n",
       "      <td>...</td>\n",
       "      <td>...</td>\n",
       "      <td>...</td>\n",
       "      <td>...</td>\n",
       "    </tr>\n",
       "    <tr>\n",
       "      <th>846</th>\n",
       "      <td>Happy Da Punjab</td>\n",
       "      <td>Baner</td>\n",
       "      <td>3.7</td>\n",
       "      <td>(69 Delivery Reviews)</td>\n",
       "      <td>50% OFF</td>\n",
       "      <td>(69 Delivery Reviews)</td>\n",
       "      <td>North Indian, Chinese, Kebab, Malwani</td>\n",
       "    </tr>\n",
       "    <tr>\n",
       "      <th>847</th>\n",
       "      <td>Ai Shiwu</td>\n",
       "      <td>Baner</td>\n",
       "      <td>3.6</td>\n",
       "      <td>(1,146 Delivery Reviews)</td>\n",
       "      <td>50% OFF</td>\n",
       "      <td>(1,146 Delivery Reviews)</td>\n",
       "      <td>Chinese, Asian, Thai</td>\n",
       "    </tr>\n",
       "    <tr>\n",
       "      <th>848</th>\n",
       "      <td>Mumbaian Pav Bhaji</td>\n",
       "      <td>Baner</td>\n",
       "      <td>3.2</td>\n",
       "      <td>(46 Delivery Reviews)</td>\n",
       "      <td>50% OFF</td>\n",
       "      <td>(46 Delivery Reviews)</td>\n",
       "      <td>Street Food</td>\n",
       "    </tr>\n",
       "    <tr>\n",
       "      <th>849</th>\n",
       "      <td>Shree Datta Bhel</td>\n",
       "      <td>Baner</td>\n",
       "      <td>3.9</td>\n",
       "      <td>(15 Delivery Reviews)</td>\n",
       "      <td>50% OFF</td>\n",
       "      <td>(15 Delivery Reviews)</td>\n",
       "      <td>Street Food</td>\n",
       "    </tr>\n",
       "    <tr>\n",
       "      <th>850</th>\n",
       "      <td>Eggie's</td>\n",
       "      <td>Baner</td>\n",
       "      <td>3.8</td>\n",
       "      <td>(87 Delivery Reviews)</td>\n",
       "      <td>Pro extra 25% OFF</td>\n",
       "      <td>(87 Delivery Reviews)</td>\n",
       "      <td>North Indian, Fast Food</td>\n",
       "    </tr>\n",
       "  </tbody>\n",
       "</table>\n",
       "<p>851 rows × 7 columns</p>\n",
       "</div>"
      ],
      "text/plain": [
       "                     Name locality  ratings          delivery_reviews  \\\n",
       "0              McDonald's    Baner      4.1  (4,879 Delivery Reviews)   \n",
       "1              Nawab Asia    Baner      4.1  (11.1K Delivery Reviews)   \n",
       "2                  Mithas    Baner      4.3  (24.8K Delivery Reviews)   \n",
       "3               Anna Idli    Baner      4.2  (8,022 Delivery Reviews)   \n",
       "4    Dadu's Sweet Emporio    Baner      4.3  (5,975 Delivery Reviews)   \n",
       "..                    ...      ...      ...                       ...   \n",
       "846       Happy Da Punjab    Baner      3.7     (69 Delivery Reviews)   \n",
       "847              Ai Shiwu    Baner      3.6  (1,146 Delivery Reviews)   \n",
       "848    Mumbaian Pav Bhaji    Baner      3.2     (46 Delivery Reviews)   \n",
       "849      Shree Datta Bhel    Baner      3.9     (15 Delivery Reviews)   \n",
       "850               Eggie's    Baner      3.8     (87 Delivery Reviews)   \n",
       "\n",
       "                   off          delivery_reviews  \\\n",
       "0              ₹50 OFF  (4,879 Delivery Reviews)   \n",
       "1              ₹50 OFF  (11.1K Delivery Reviews)   \n",
       "2              ₹50 OFF  (24.8K Delivery Reviews)   \n",
       "3              ₹50 OFF  (8,022 Delivery Reviews)   \n",
       "4              ₹50 OFF  (5,975 Delivery Reviews)   \n",
       "..                 ...                       ...   \n",
       "846            50% OFF     (69 Delivery Reviews)   \n",
       "847            50% OFF  (1,146 Delivery Reviews)   \n",
       "848            50% OFF     (46 Delivery Reviews)   \n",
       "849            50% OFF     (15 Delivery Reviews)   \n",
       "850  Pro extra 25% OFF     (87 Delivery Reviews)   \n",
       "\n",
       "                                               cuisine  \n",
       "0                         Burger, Fast Food, Beverages  \n",
       "1    North Indian, Chinese, Mughlai, Biryani, Desse...  \n",
       "2                                  Mithai, Street Food  \n",
       "3                              South Indian, Beverages  \n",
       "4                       Mithai, Street Food, Ice Cream  \n",
       "..                                                 ...  \n",
       "846              North Indian, Chinese, Kebab, Malwani  \n",
       "847                               Chinese, Asian, Thai  \n",
       "848                                        Street Food  \n",
       "849                                        Street Food  \n",
       "850                            North Indian, Fast Food  \n",
       "\n",
       "[851 rows x 7 columns]"
      ]
     },
     "execution_count": 90,
     "metadata": {},
     "output_type": "execute_result"
    }
   ],
   "source": [
    "baner_ratings"
   ]
  },
  {
   "cell_type": "code",
   "execution_count": 95,
   "metadata": {},
   "outputs": [
    {
     "data": {
      "text/plain": [
       "<AxesSubplot:xlabel='Name'>"
      ]
     },
     "execution_count": 95,
     "metadata": {},
     "output_type": "execute_result"
    },
    {
     "data": {
      "image/png": "[encoded data removed]",
      "text/plain": [
       "<Figure size 432x288 with 1 Axes>"
      ]
     },
     "metadata": {
      "needs_background": "light"
     },
     "output_type": "display_data"
    }
   ],
   "source": [
    "baner_ratings.plot(x=\"Name\", y=\"ratings\", kind=\"bar\")"
   ]
  },
  {
   "cell_type": "code",
   "execution_count": 104,
   "metadata": {},
   "outputs": [
    {
     "data": {
      "text/plain": [
       "<Figure size 72000x720 with 0 Axes>"
      ]
     },
     "metadata": {},
     "output_type": "display_data"
    },
    {
     "data": {
      "image/png": "[encoded data removed]",
      "text/plain": [
       "<Figure size 432x288 with 1 Axes>"
      ]
     },
     "metadata": {
      "needs_background": "light"
     },
     "output_type": "display_data"
    }
   ],
   "source": [
    "\n",
    "plt.figure(figsize = (1000,10))\n",
    "baner_ratings.plot(x=\"Name\", y=\"ratings\")\n",
    "plt.show()"
   ]
  },
  {
   "cell_type": "code",
   "execution_count": null,
   "metadata": {},
   "outputs": [],
   "source": []
  },
  {
   "cell_type": "code",
   "execution_count": null,
   "metadata": {},
   "outputs": [],
   "source": []
  },
  {
   "cell_type": "code",
   "execution_count": 70,
   "metadata": {},
   "outputs": [
    {
     "name": "stdout",
     "output_type": "stream",
     "text": [
      "<class 'pandas.core.frame.DataFrame'>\n",
      "RangeIndex: 834 entries, 0 to 833\n",
      "Data columns (total 7 columns):\n",
      " #   Column            Non-Null Count  Dtype  \n",
      "---  ------            --------------  -----  \n",
      " 0   Name              834 non-null    object \n",
      " 1   locality          834 non-null    object \n",
      " 2   ratings           617 non-null    float64\n",
      " 3   delivery_reviews  751 non-null    object \n",
      " 4   off               701 non-null    object \n",
      " 5   delivery_reviews  751 non-null    object \n",
      " 6   cuisine           834 non-null    object \n",
      "dtypes: float64(1), object(6)\n",
      "memory usage: 45.7+ KB\n"
     ]
    }
   ],
   "source": [
    "bavdhan_copy.info()"
   ]
  },
  {
   "cell_type": "code",
   "execution_count": 71,
   "metadata": {},
   "outputs": [
    {
     "name": "stdout",
     "output_type": "stream",
     "text": [
      "<class 'pandas.core.frame.DataFrame'>\n",
      "RangeIndex: 960 entries, 0 to 959\n",
      "Data columns (total 7 columns):\n",
      " #   Column            Non-Null Count  Dtype  \n",
      "---  ------            --------------  -----  \n",
      " 0   Name              960 non-null    object \n",
      " 1   locality          960 non-null    object \n",
      " 2   ratings           710 non-null    float64\n",
      " 3   delivery_reviews  867 non-null    object \n",
      " 4   off               582 non-null    object \n",
      " 5   delivery_reviews  867 non-null    object \n",
      " 6   cuisine           960 non-null    object \n",
      "dtypes: float64(1), object(6)\n",
      "memory usage: 52.6+ KB\n"
     ]
    }
   ],
   "source": [
    "hinjewadi_copy.info()"
   ]
  },
  {
   "cell_type": "code",
   "execution_count": 72,
   "metadata": {},
   "outputs": [
    {
     "name": "stdout",
     "output_type": "stream",
     "text": [
      "<class 'pandas.core.frame.DataFrame'>\n",
      "RangeIndex: 1118 entries, 0 to 1117\n",
      "Data columns (total 7 columns):\n",
      " #   Column            Non-Null Count  Dtype  \n",
      "---  ------            --------------  -----  \n",
      " 0   Name              1118 non-null   object \n",
      " 1   locality          1118 non-null   object \n",
      " 2   ratings           782 non-null    float64\n",
      " 3   delivery_reviews  970 non-null    object \n",
      " 4   off               810 non-null    object \n",
      " 5   delivery_reviews  970 non-null    object \n",
      " 6   cuisine           0 non-null      float64\n",
      "dtypes: float64(2), object(5)\n",
      "memory usage: 61.3+ KB\n"
     ]
    }
   ],
   "source": [
    "wakad_copy.info()"
   ]
  },
  {
   "cell_type": "code",
   "execution_count": 52,
   "metadata": {},
   "outputs": [],
   "source": [
    "df = pd.concat([baner_copy, bavdhan_copy, hinjewadi_copy, wakad_copy])"
   ]
  },
  {
   "cell_type": "code",
   "execution_count": 53,
   "metadata": {},
   "outputs": [
    {
     "data": {
      "text/html": [
       "<div>\n",
       "<style scoped>\n",
       "    .dataframe tbody tr th:only-of-type {\n",
       "        vertical-align: middle;\n",
       "    }\n",
       "\n",
       "    .dataframe tbody tr th {\n",
       "        vertical-align: top;\n",
       "    }\n",
       "\n",
       "    .dataframe thead th {\n",
       "        text-align: right;\n",
       "    }\n",
       "</style>\n",
       "<table border=\"1\" class=\"dataframe\">\n",
       "  <thead>\n",
       "    <tr style=\"text-align: right;\">\n",
       "      <th></th>\n",
       "      <th>Name</th>\n",
       "      <th>locality</th>\n",
       "      <th>ratings</th>\n",
       "      <th>delivery_reviews</th>\n",
       "      <th>off</th>\n",
       "      <th>delivery_reviews</th>\n",
       "      <th>cuisine</th>\n",
       "    </tr>\n",
       "  </thead>\n",
       "  <tbody>\n",
       "    <tr>\n",
       "      <th>0</th>\n",
       "      <td>McDonald's</td>\n",
       "      <td>Baner</td>\n",
       "      <td>4.1</td>\n",
       "      <td>(4,879 Delivery Reviews)</td>\n",
       "      <td>₹50 OFF</td>\n",
       "      <td>(4,879 Delivery Reviews)</td>\n",
       "      <td>Burger, Fast Food, Beverages</td>\n",
       "    </tr>\n",
       "    <tr>\n",
       "      <th>1</th>\n",
       "      <td>Nawab Asia</td>\n",
       "      <td>Baner</td>\n",
       "      <td>4.1</td>\n",
       "      <td>(11.1K Delivery Reviews)</td>\n",
       "      <td>₹50 OFF</td>\n",
       "      <td>(11.1K Delivery Reviews)</td>\n",
       "      <td>North Indian, Chinese, Mughlai, Biryani, Desse...</td>\n",
       "    </tr>\n",
       "    <tr>\n",
       "      <th>2</th>\n",
       "      <td>Mithas</td>\n",
       "      <td>Baner</td>\n",
       "      <td>4.3</td>\n",
       "      <td>(24.8K Delivery Reviews)</td>\n",
       "      <td>₹50 OFF</td>\n",
       "      <td>(24.8K Delivery Reviews)</td>\n",
       "      <td>Mithai, Street Food</td>\n",
       "    </tr>\n",
       "    <tr>\n",
       "      <th>3</th>\n",
       "      <td>Anna Idli</td>\n",
       "      <td>Baner</td>\n",
       "      <td>4.2</td>\n",
       "      <td>(8,022 Delivery Reviews)</td>\n",
       "      <td>₹50 OFF</td>\n",
       "      <td>(8,022 Delivery Reviews)</td>\n",
       "      <td>South Indian, Beverages</td>\n",
       "    </tr>\n",
       "    <tr>\n",
       "      <th>4</th>\n",
       "      <td>Dadu's Sweet Emporio</td>\n",
       "      <td>Baner</td>\n",
       "      <td>4.3</td>\n",
       "      <td>(5,975 Delivery Reviews)</td>\n",
       "      <td>₹50 OFF</td>\n",
       "      <td>(5,975 Delivery Reviews)</td>\n",
       "      <td>Mithai, Street Food, Ice Cream</td>\n",
       "    </tr>\n",
       "    <tr>\n",
       "      <th>...</th>\n",
       "      <td>...</td>\n",
       "      <td>...</td>\n",
       "      <td>...</td>\n",
       "      <td>...</td>\n",
       "      <td>...</td>\n",
       "      <td>...</td>\n",
       "      <td>...</td>\n",
       "    </tr>\n",
       "    <tr>\n",
       "      <th>1113</th>\n",
       "      <td>Spice Of India</td>\n",
       "      <td>Wakad</td>\n",
       "      <td>3.9</td>\n",
       "      <td>(Not enough Delivery Reviews)</td>\n",
       "      <td>NaN</td>\n",
       "      <td>(Not enough Delivery Reviews)</td>\n",
       "      <td>NaN</td>\n",
       "    </tr>\n",
       "    <tr>\n",
       "      <th>1114</th>\n",
       "      <td>Special Bakery</td>\n",
       "      <td>Wakad</td>\n",
       "      <td>3.4</td>\n",
       "      <td>(Not enough Delivery Reviews)</td>\n",
       "      <td>NaN</td>\n",
       "      <td>(Not enough Delivery Reviews)</td>\n",
       "      <td>NaN</td>\n",
       "    </tr>\n",
       "    <tr>\n",
       "      <th>1115</th>\n",
       "      <td>Dadaji Sweets</td>\n",
       "      <td>Wakad</td>\n",
       "      <td>NaN</td>\n",
       "      <td>(Not enough Delivery Reviews)</td>\n",
       "      <td>15% OFF</td>\n",
       "      <td>(Not enough Delivery Reviews)</td>\n",
       "      <td>NaN</td>\n",
       "    </tr>\n",
       "    <tr>\n",
       "      <th>1116</th>\n",
       "      <td>Rudra Snacks And Chiken 65</td>\n",
       "      <td>Wakad</td>\n",
       "      <td>NaN</td>\n",
       "      <td>(Not enough Delivery Reviews)</td>\n",
       "      <td>NaN</td>\n",
       "      <td>(Not enough Delivery Reviews)</td>\n",
       "      <td>NaN</td>\n",
       "    </tr>\n",
       "    <tr>\n",
       "      <th>1117</th>\n",
       "      <td>SG Foods</td>\n",
       "      <td>Wakad</td>\n",
       "      <td>NaN</td>\n",
       "      <td>(Not enough Delivery Reviews)</td>\n",
       "      <td>NaN</td>\n",
       "      <td>(Not enough Delivery Reviews)</td>\n",
       "      <td>NaN</td>\n",
       "    </tr>\n",
       "  </tbody>\n",
       "</table>\n",
       "<p>4049 rows × 7 columns</p>\n",
       "</div>"
      ],
      "text/plain": [
       "                            Name locality  ratings  \\\n",
       "0                     McDonald's    Baner      4.1   \n",
       "1                     Nawab Asia    Baner      4.1   \n",
       "2                         Mithas    Baner      4.3   \n",
       "3                      Anna Idli    Baner      4.2   \n",
       "4           Dadu's Sweet Emporio    Baner      4.3   \n",
       "...                          ...      ...      ...   \n",
       "1113              Spice Of India    Wakad      3.9   \n",
       "1114              Special Bakery    Wakad      3.4   \n",
       "1115               Dadaji Sweets    Wakad      NaN   \n",
       "1116  Rudra Snacks And Chiken 65    Wakad      NaN   \n",
       "1117                    SG Foods    Wakad      NaN   \n",
       "\n",
       "                   delivery_reviews      off               delivery_reviews  \\\n",
       "0          (4,879 Delivery Reviews)  ₹50 OFF       (4,879 Delivery Reviews)   \n",
       "1          (11.1K Delivery Reviews)  ₹50 OFF       (11.1K Delivery Reviews)   \n",
       "2          (24.8K Delivery Reviews)  ₹50 OFF       (24.8K Delivery Reviews)   \n",
       "3          (8,022 Delivery Reviews)  ₹50 OFF       (8,022 Delivery Reviews)   \n",
       "4          (5,975 Delivery Reviews)  ₹50 OFF       (5,975 Delivery Reviews)   \n",
       "...                             ...      ...                            ...   \n",
       "1113  (Not enough Delivery Reviews)      NaN  (Not enough Delivery Reviews)   \n",
       "1114  (Not enough Delivery Reviews)      NaN  (Not enough Delivery Reviews)   \n",
       "1115  (Not enough Delivery Reviews)  15% OFF  (Not enough Delivery Reviews)   \n",
       "1116  (Not enough Delivery Reviews)      NaN  (Not enough Delivery Reviews)   \n",
       "1117  (Not enough Delivery Reviews)      NaN  (Not enough Delivery Reviews)   \n",
       "\n",
       "                                                cuisine  \n",
       "0                          Burger, Fast Food, Beverages  \n",
       "1     North Indian, Chinese, Mughlai, Biryani, Desse...  \n",
       "2                                   Mithai, Street Food  \n",
       "3                               South Indian, Beverages  \n",
       "4                        Mithai, Street Food, Ice Cream  \n",
       "...                                                 ...  \n",
       "1113                                                NaN  \n",
       "1114                                                NaN  \n",
       "1115                                                NaN  \n",
       "1116                                                NaN  \n",
       "1117                                                NaN  \n",
       "\n",
       "[4049 rows x 7 columns]"
      ]
     },
     "execution_count": 53,
     "metadata": {},
     "output_type": "execute_result"
    }
   ],
   "source": [
    "df"
   ]
  },
  {
   "cell_type": "code",
   "execution_count": 54,
   "metadata": {},
   "outputs": [
    {
     "name": "stdout",
     "output_type": "stream",
     "text": [
      "<class 'pandas.core.frame.DataFrame'>\n",
      "Int64Index: 4049 entries, 0 to 1117\n",
      "Data columns (total 7 columns):\n",
      " #   Column            Non-Null Count  Dtype  \n",
      "---  ------            --------------  -----  \n",
      " 0   Name              4049 non-null   object \n",
      " 1   locality          4049 non-null   object \n",
      " 2   ratings           2960 non-null   float64\n",
      " 3   delivery_reviews  3598 non-null   object \n",
      " 4   off               3061 non-null   object \n",
      " 5   delivery_reviews  3598 non-null   object \n",
      " 6   cuisine           2931 non-null   object \n",
      "dtypes: float64(1), object(6)\n",
      "memory usage: 253.1+ KB\n"
     ]
    }
   ],
   "source": [
    "df.info()"
   ]
  },
  {
   "cell_type": "markdown",
   "metadata": {},
   "source": [
    "## Ratings null and Not null count"
   ]
  },
  {
   "cell_type": "markdown",
   "metadata": {},
   "source": [
    "### BANER"
   ]
  },
  {
   "cell_type": "code",
   "execution_count": 68,
   "metadata": {},
   "outputs": [
    {
     "name": "stdout",
     "output_type": "stream",
     "text": [
      "Null values in Baner data set: 286\n"
     ]
    }
   ],
   "source": [
    "print('Null values in Baner data set:', baner_copy['ratings'].isna().sum())"
   ]
  },
  {
   "cell_type": "code",
   "execution_count": 62,
   "metadata": {},
   "outputs": [
    {
     "data": {
      "text/plain": [
       "851"
      ]
     },
     "execution_count": 62,
     "metadata": {},
     "output_type": "execute_result"
    }
   ],
   "source": [
    "baner_copy['ratings'].notnull().sum()"
   ]
  },
  {
   "cell_type": "markdown",
   "metadata": {},
   "source": [
    "### BAVDHAN"
   ]
  },
  {
   "cell_type": "code",
   "execution_count": 59,
   "metadata": {},
   "outputs": [
    {
     "data": {
      "text/plain": [
       "217"
      ]
     },
     "execution_count": 59,
     "metadata": {},
     "output_type": "execute_result"
    }
   ],
   "source": [
    "bavdhan_copy['ratings'].isna().sum()"
   ]
  },
  {
   "cell_type": "code",
   "execution_count": 63,
   "metadata": {},
   "outputs": [
    {
     "data": {
      "text/plain": [
       "617"
      ]
     },
     "execution_count": 63,
     "metadata": {},
     "output_type": "execute_result"
    }
   ],
   "source": [
    "bavdhan_copy['ratings'].notnull().sum()"
   ]
  },
  {
   "cell_type": "markdown",
   "metadata": {},
   "source": [
    "### HINJEWADI"
   ]
  },
  {
   "cell_type": "code",
   "execution_count": 60,
   "metadata": {},
   "outputs": [
    {
     "data": {
      "text/plain": [
       "250"
      ]
     },
     "execution_count": 60,
     "metadata": {},
     "output_type": "execute_result"
    }
   ],
   "source": [
    "hinjewadi_copy['ratings'].isna().sum()"
   ]
  },
  {
   "cell_type": "code",
   "execution_count": 64,
   "metadata": {},
   "outputs": [
    {
     "data": {
      "text/plain": [
       "710"
      ]
     },
     "execution_count": 64,
     "metadata": {},
     "output_type": "execute_result"
    }
   ],
   "source": [
    "hinjewadi_copy['ratings'].notnull().sum()"
   ]
  },
  {
   "cell_type": "markdown",
   "metadata": {},
   "source": [
    "### WAKAD"
   ]
  },
  {
   "cell_type": "code",
   "execution_count": 61,
   "metadata": {},
   "outputs": [
    {
     "data": {
      "text/plain": [
       "336"
      ]
     },
     "execution_count": 61,
     "metadata": {},
     "output_type": "execute_result"
    }
   ],
   "source": [
    "wakad_copy['ratings'].isna().sum()"
   ]
  },
  {
   "cell_type": "code",
   "execution_count": 65,
   "metadata": {},
   "outputs": [
    {
     "data": {
      "text/plain": [
       "782"
      ]
     },
     "execution_count": 65,
     "metadata": {},
     "output_type": "execute_result"
    }
   ],
   "source": [
    "wakad_copy['ratings'].notnull().sum()"
   ]
  },
  {
   "cell_type": "code",
   "execution_count": 56,
   "metadata": {},
   "outputs": [
    {
     "data": {
      "text/plain": [
       "Name                   0\n",
       "locality               0\n",
       "ratings             1089\n",
       "delivery_reviews     451\n",
       "off                  988\n",
       "delivery_reviews     451\n",
       "cuisine             1118\n",
       "dtype: int64"
      ]
     },
     "execution_count": 56,
     "metadata": {},
     "output_type": "execute_result"
    }
   ],
   "source": [
    "df.isna().sum()"
   ]
  },
  {
   "cell_type": "code",
   "execution_count": 57,
   "metadata": {},
   "outputs": [
    {
     "data": {
      "text/plain": [
       "Name                   0\n",
       "locality               0\n",
       "ratings             1089\n",
       "delivery_reviews     451\n",
       "off                  988\n",
       "delivery_reviews     451\n",
       "cuisine             1118\n",
       "dtype: int64"
      ]
     },
     "execution_count": 57,
     "metadata": {},
     "output_type": "execute_result"
    }
   ],
   "source": [
    "df.isnull().sum()"
   ]
  },
  {
   "cell_type": "code",
   "execution_count": null,
   "metadata": {},
   "outputs": [],
   "source": []
  }
 ],
 "metadata": {
  "kernelspec": {
   "display_name": "Python 3",
   "language": "python",
   "name": "python3"
  },
  "language_info": {
   "codemirror_mode": {
    "name": "ipython",
    "version": 3
   },
   "file_extension": ".py",
   "mimetype": "text/x-python",
   "name": "python",
   "nbconvert_exporter": "python",
   "pygments_lexer": "ipython3",
   "version": "3.8.5"
  }
 },
 "nbformat": 4,
 "nbformat_minor": 4
}
