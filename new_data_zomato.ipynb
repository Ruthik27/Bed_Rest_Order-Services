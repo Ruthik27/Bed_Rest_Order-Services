{
 "cells": [
  {
   "cell_type": "markdown",
   "metadata": {},
   "source": [
    "## Required lib and modules"
   ]
  },
  {
   "cell_type": "code",
   "execution_count": 1,
   "metadata": {},
   "outputs": [],
   "source": [
    "import pandas as pd\n",
    "import matplotlib.pyplot as plt\n",
    "import numpy as np\n",
    "import re"
   ]
  },
  {
   "cell_type": "markdown",
   "metadata": {},
   "source": [
    "## Importing Data files"
   ]
  },
  {
   "cell_type": "code",
   "execution_count": 2,
   "metadata": {},
   "outputs": [],
   "source": [
    "baner = pd.read_excel('data_source/Baner_cleaned.xlsx')\n",
    "bavdhan = pd.read_excel('data_source/Bavdhan_cleaned.xlsx')\n",
    "hinjewadi = pd.read_excel('data_source/Hinjawadi_cleaned.xlsx')\n",
    "wakad = pd.read_excel('data_source/Wakad_cleaned.xlsx')"
   ]
  },
  {
   "cell_type": "markdown",
   "metadata": {},
   "source": [
    "## Handling Data Files"
   ]
  },
  {
   "cell_type": "code",
   "execution_count": 3,
   "metadata": {},
   "outputs": [],
   "source": [
    "baner['locality'] = 'Baner'\n",
    "bavdhan['locality'] = 'Bavdhan'\n",
    "hinjewadi['locality'] = 'Hinjewadi'\n",
    "wakad['locality'] = 'Wakad'"
   ]
  },
  {
   "cell_type": "code",
   "execution_count": 4,
   "metadata": {},
   "outputs": [],
   "source": [
    "baner_copy = baner.copy()\n",
    "baner_copy =baner_copy.reindex(columns = ['Name', 'locality', 'ratings','off','delivery_reviews','cuisine'])\n",
    "\n",
    "bavdhan_copy = bavdhan.copy()\n",
    "bavdhan_copy =bavdhan_copy.reindex(columns = ['Name', 'locality', 'ratings','off','delivery_reviews','cuisine'])\n",
    "\n",
    "hinjewadi_copy = hinjewadi.copy()\n",
    "hinjewadi_copy =hinjewadi_copy.reindex(columns = ['Name', 'locality', 'ratings','off','delivery_reviews','cuisine'])\n",
    "\n",
    "wakad_copy = wakad.copy()\n",
    "wakad_copy =wakad_copy.reindex(columns = ['Name', 'locality', 'ratings','off','delivery_reviews','cuisine'])"
   ]
  },
  {
   "cell_type": "markdown",
   "metadata": {},
   "source": [
    "### Cleaning the delilvery reviews column"
   ]
  },
  {
   "cell_type": "code",
   "execution_count": 5,
   "metadata": {},
   "outputs": [],
   "source": [
    "baner_copy.delivery_reviews=baner_copy.delivery_reviews.str.replace('[(,),Not, , ,enough,Delivery,Reviews]','')\n",
    "bavdhan_copy.delivery_reviews=bavdhan_copy.delivery_reviews.str.replace('[(,),Not, , ,enough,Delivery,Reviews]','')\n",
    "hinjewadi_copy.delivery_reviews=hinjewadi_copy.delivery_reviews.str.replace('[(,),Not, , ,enough,Delivery,Reviews]','')\n",
    "wakad_copy.delivery_reviews=wakad_copy.delivery_reviews.str.replace('[(,),Not, , ,enough,Delivery,Reviews]','')"
   ]
  },
  {
   "cell_type": "markdown",
   "metadata": {
    "scrolled": true
   },
   "source": [
    "### Replacing value of K with 1000"
   ]
  },
  {
   "cell_type": "code",
   "execution_count": 6,
   "metadata": {},
   "outputs": [],
   "source": [
    "def value_to_float(x):\n",
    "    if type(x) == float or type(x) == int:\n",
    "        return x\n",
    "    if 'K' in x:\n",
    "        if len(x) > 1:\n",
    "            return float(x.replace('K', '')) * 1000\n",
    "        return 1000.0\n",
    "    return x\n",
    "baner_copy['delivery_reviews'] = baner_copy['delivery_reviews'].apply(value_to_float)\n",
    "bavdhan_copy['delivery_reviews'] = bavdhan_copy['delivery_reviews'].apply(value_to_float)\n",
    "hinjewadi_copy['delivery_reviews'] = hinjewadi_copy['delivery_reviews'].apply(value_to_float)\n",
    "wakad_copy['delivery_reviews'] = wakad_copy['delivery_reviews'].apply(value_to_float)"
   ]
  },
  {
   "cell_type": "code",
   "execution_count": 7,
   "metadata": {
    "scrolled": true
   },
   "outputs": [
    {
     "data": {
      "text/html": [
       "<div>\n",
       "<style scoped>\n",
       "    .dataframe tbody tr th:only-of-type {\n",
       "        vertical-align: middle;\n",
       "    }\n",
       "\n",
       "    .dataframe tbody tr th {\n",
       "        vertical-align: top;\n",
       "    }\n",
       "\n",
       "    .dataframe thead th {\n",
       "        text-align: right;\n",
       "    }\n",
       "</style>\n",
       "<table border=\"1\" class=\"dataframe\">\n",
       "  <thead>\n",
       "    <tr style=\"text-align: right;\">\n",
       "      <th></th>\n",
       "      <th>Name</th>\n",
       "      <th>locality</th>\n",
       "      <th>ratings</th>\n",
       "      <th>off</th>\n",
       "      <th>delivery_reviews</th>\n",
       "      <th>cuisine</th>\n",
       "    </tr>\n",
       "  </thead>\n",
       "  <tbody>\n",
       "    <tr>\n",
       "      <th>0</th>\n",
       "      <td>McDonald's</td>\n",
       "      <td>Baner</td>\n",
       "      <td>4.1</td>\n",
       "      <td>₹50 OFF</td>\n",
       "      <td>9810</td>\n",
       "      <td>Burger, Fast Food, Beverages</td>\n",
       "    </tr>\n",
       "    <tr>\n",
       "      <th>1</th>\n",
       "      <td>Nawab Asia</td>\n",
       "      <td>Baner</td>\n",
       "      <td>4.1</td>\n",
       "      <td>₹50 OFF</td>\n",
       "      <td>3054</td>\n",
       "      <td>North Indian, Chinese, Mughlai, Biryani, Desse...</td>\n",
       "    </tr>\n",
       "    <tr>\n",
       "      <th>2</th>\n",
       "      <td>Mithas</td>\n",
       "      <td>Baner</td>\n",
       "      <td>4.3</td>\n",
       "      <td>₹50 OFF</td>\n",
       "      <td>2262</td>\n",
       "      <td>Mithai, Street Food</td>\n",
       "    </tr>\n",
       "    <tr>\n",
       "      <th>3</th>\n",
       "      <td>Anna Idli</td>\n",
       "      <td>Baner</td>\n",
       "      <td>4.2</td>\n",
       "      <td>₹50 OFF</td>\n",
       "      <td>21800</td>\n",
       "      <td>South Indian, Beverages</td>\n",
       "    </tr>\n",
       "    <tr>\n",
       "      <th>4</th>\n",
       "      <td>Dadu's Sweet Emporio</td>\n",
       "      <td>Baner</td>\n",
       "      <td>4.3</td>\n",
       "      <td>₹50 OFF</td>\n",
       "      <td>4504</td>\n",
       "      <td>Mithai, Street Food, Ice Cream</td>\n",
       "    </tr>\n",
       "    <tr>\n",
       "      <th>...</th>\n",
       "      <td>...</td>\n",
       "      <td>...</td>\n",
       "      <td>...</td>\n",
       "      <td>...</td>\n",
       "      <td>...</td>\n",
       "      <td>...</td>\n",
       "    </tr>\n",
       "    <tr>\n",
       "      <th>1132</th>\n",
       "      <td>WYNKK</td>\n",
       "      <td>Baner</td>\n",
       "      <td>NaN</td>\n",
       "      <td>50% OFF</td>\n",
       "      <td></td>\n",
       "      <td>Bar Food, North Indian, Mughlai, Asian</td>\n",
       "    </tr>\n",
       "    <tr>\n",
       "      <th>1133</th>\n",
       "      <td>Ai Shiwu</td>\n",
       "      <td>Baner</td>\n",
       "      <td>3.6</td>\n",
       "      <td>50% OFF</td>\n",
       "      <td>1146</td>\n",
       "      <td>Chinese, Asian, Thai</td>\n",
       "    </tr>\n",
       "    <tr>\n",
       "      <th>1134</th>\n",
       "      <td>Mumbaian Pav Bhaji</td>\n",
       "      <td>Baner</td>\n",
       "      <td>3.2</td>\n",
       "      <td>50% OFF</td>\n",
       "      <td>46</td>\n",
       "      <td>Street Food</td>\n",
       "    </tr>\n",
       "    <tr>\n",
       "      <th>1135</th>\n",
       "      <td>Shree Datta Bhel</td>\n",
       "      <td>Baner</td>\n",
       "      <td>3.9</td>\n",
       "      <td>50% OFF</td>\n",
       "      <td>15</td>\n",
       "      <td>Street Food</td>\n",
       "    </tr>\n",
       "    <tr>\n",
       "      <th>1136</th>\n",
       "      <td>Eggie's</td>\n",
       "      <td>Baner</td>\n",
       "      <td>3.8</td>\n",
       "      <td>Pro extra 25% OFF</td>\n",
       "      <td>87</td>\n",
       "      <td>North Indian, Fast Food</td>\n",
       "    </tr>\n",
       "  </tbody>\n",
       "</table>\n",
       "<p>1137 rows × 6 columns</p>\n",
       "</div>"
      ],
      "text/plain": [
       "                      Name locality  ratings                off  \\\n",
       "0               McDonald's    Baner      4.1            ₹50 OFF   \n",
       "1               Nawab Asia    Baner      4.1            ₹50 OFF   \n",
       "2                   Mithas    Baner      4.3            ₹50 OFF   \n",
       "3                Anna Idli    Baner      4.2            ₹50 OFF   \n",
       "4     Dadu's Sweet Emporio    Baner      4.3            ₹50 OFF   \n",
       "...                    ...      ...      ...                ...   \n",
       "1132                 WYNKK    Baner      NaN            50% OFF   \n",
       "1133              Ai Shiwu    Baner      3.6            50% OFF   \n",
       "1134    Mumbaian Pav Bhaji    Baner      3.2            50% OFF   \n",
       "1135      Shree Datta Bhel    Baner      3.9            50% OFF   \n",
       "1136               Eggie's    Baner      3.8  Pro extra 25% OFF   \n",
       "\n",
       "     delivery_reviews                                            cuisine  \n",
       "0                9810                       Burger, Fast Food, Beverages  \n",
       "1                3054  North Indian, Chinese, Mughlai, Biryani, Desse...  \n",
       "2                2262                                Mithai, Street Food  \n",
       "3               21800                            South Indian, Beverages  \n",
       "4                4504                     Mithai, Street Food, Ice Cream  \n",
       "...               ...                                                ...  \n",
       "1132                              Bar Food, North Indian, Mughlai, Asian  \n",
       "1133             1146                               Chinese, Asian, Thai  \n",
       "1134               46                                        Street Food  \n",
       "1135               15                                        Street Food  \n",
       "1136               87                            North Indian, Fast Food  \n",
       "\n",
       "[1137 rows x 6 columns]"
      ]
     },
     "execution_count": 7,
     "metadata": {},
     "output_type": "execute_result"
    }
   ],
   "source": [
    "baner_copy"
   ]
  },
  {
   "cell_type": "markdown",
   "metadata": {},
   "source": [
    "### HANDLING BANER DATA SET"
   ]
  },
  {
   "cell_type": "markdown",
   "metadata": {},
   "source": [
    "### Dropping NAN values"
   ]
  },
  {
   "cell_type": "code",
   "execution_count": 8,
   "metadata": {},
   "outputs": [],
   "source": [
    "baner_ratings = baner_copy.dropna(subset=['ratings','delivery_reviews'])\n",
    "baner_ratings = baner_ratings[baner_ratings.delivery_reviews != '']"
   ]
  },
  {
   "cell_type": "markdown",
   "metadata": {},
   "source": []
  },
  {
   "cell_type": "markdown",
   "metadata": {},
   "source": [
    "### Converting the Values to Integers"
   ]
  },
  {
   "cell_type": "code",
   "execution_count": 9,
   "metadata": {},
   "outputs": [],
   "source": [
    "def clean(x):\n",
    "    try:\n",
    "        return float(x)\n",
    "    except:\n",
    "        return np.NaN\n",
    "baner_ratings['delivery_reviews']  = baner_ratings['delivery_reviews'].apply(clean)"
   ]
  },
  {
   "cell_type": "markdown",
   "metadata": {},
   "source": [
    "### Converting delivery values to range of 1-5"
   ]
  },
  {
   "cell_type": "code",
   "execution_count": 10,
   "metadata": {},
   "outputs": [
    {
     "data": {
      "text/html": [
       "<div>\n",
       "<style scoped>\n",
       "    .dataframe tbody tr th:only-of-type {\n",
       "        vertical-align: middle;\n",
       "    }\n",
       "\n",
       "    .dataframe tbody tr th {\n",
       "        vertical-align: top;\n",
       "    }\n",
       "\n",
       "    .dataframe thead th {\n",
       "        text-align: right;\n",
       "    }\n",
       "</style>\n",
       "<table border=\"1\" class=\"dataframe\">\n",
       "  <thead>\n",
       "    <tr style=\"text-align: right;\">\n",
       "      <th></th>\n",
       "      <th>Name</th>\n",
       "      <th>locality</th>\n",
       "      <th>ratings</th>\n",
       "      <th>off</th>\n",
       "      <th>delivery_reviews</th>\n",
       "      <th>cuisine</th>\n",
       "    </tr>\n",
       "  </thead>\n",
       "  <tbody>\n",
       "    <tr>\n",
       "      <th>0</th>\n",
       "      <td>McDonald's</td>\n",
       "      <td>Baner</td>\n",
       "      <td>4.1</td>\n",
       "      <td>₹50 OFF</td>\n",
       "      <td>9810.0</td>\n",
       "      <td>Burger, Fast Food, Beverages</td>\n",
       "    </tr>\n",
       "    <tr>\n",
       "      <th>1</th>\n",
       "      <td>Nawab Asia</td>\n",
       "      <td>Baner</td>\n",
       "      <td>4.1</td>\n",
       "      <td>₹50 OFF</td>\n",
       "      <td>3054.0</td>\n",
       "      <td>North Indian, Chinese, Mughlai, Biryani, Desse...</td>\n",
       "    </tr>\n",
       "    <tr>\n",
       "      <th>2</th>\n",
       "      <td>Mithas</td>\n",
       "      <td>Baner</td>\n",
       "      <td>4.3</td>\n",
       "      <td>₹50 OFF</td>\n",
       "      <td>2262.0</td>\n",
       "      <td>Mithai, Street Food</td>\n",
       "    </tr>\n",
       "    <tr>\n",
       "      <th>3</th>\n",
       "      <td>Anna Idli</td>\n",
       "      <td>Baner</td>\n",
       "      <td>4.2</td>\n",
       "      <td>₹50 OFF</td>\n",
       "      <td>21800.0</td>\n",
       "      <td>South Indian, Beverages</td>\n",
       "    </tr>\n",
       "    <tr>\n",
       "      <th>4</th>\n",
       "      <td>Dadu's Sweet Emporio</td>\n",
       "      <td>Baner</td>\n",
       "      <td>4.3</td>\n",
       "      <td>₹50 OFF</td>\n",
       "      <td>4504.0</td>\n",
       "      <td>Mithai, Street Food, Ice Cream</td>\n",
       "    </tr>\n",
       "    <tr>\n",
       "      <th>...</th>\n",
       "      <td>...</td>\n",
       "      <td>...</td>\n",
       "      <td>...</td>\n",
       "      <td>...</td>\n",
       "      <td>...</td>\n",
       "      <td>...</td>\n",
       "    </tr>\n",
       "    <tr>\n",
       "      <th>1130</th>\n",
       "      <td>Happy Da Punjab</td>\n",
       "      <td>Baner</td>\n",
       "      <td>3.7</td>\n",
       "      <td>50% OFF</td>\n",
       "      <td>69.0</td>\n",
       "      <td>North Indian, Chinese, Kebab, Malwani</td>\n",
       "    </tr>\n",
       "    <tr>\n",
       "      <th>1133</th>\n",
       "      <td>Ai Shiwu</td>\n",
       "      <td>Baner</td>\n",
       "      <td>3.6</td>\n",
       "      <td>50% OFF</td>\n",
       "      <td>1146.0</td>\n",
       "      <td>Chinese, Asian, Thai</td>\n",
       "    </tr>\n",
       "    <tr>\n",
       "      <th>1134</th>\n",
       "      <td>Mumbaian Pav Bhaji</td>\n",
       "      <td>Baner</td>\n",
       "      <td>3.2</td>\n",
       "      <td>50% OFF</td>\n",
       "      <td>46.0</td>\n",
       "      <td>Street Food</td>\n",
       "    </tr>\n",
       "    <tr>\n",
       "      <th>1135</th>\n",
       "      <td>Shree Datta Bhel</td>\n",
       "      <td>Baner</td>\n",
       "      <td>3.9</td>\n",
       "      <td>50% OFF</td>\n",
       "      <td>15.0</td>\n",
       "      <td>Street Food</td>\n",
       "    </tr>\n",
       "    <tr>\n",
       "      <th>1136</th>\n",
       "      <td>Eggie's</td>\n",
       "      <td>Baner</td>\n",
       "      <td>3.8</td>\n",
       "      <td>Pro extra 25% OFF</td>\n",
       "      <td>87.0</td>\n",
       "      <td>North Indian, Fast Food</td>\n",
       "    </tr>\n",
       "  </tbody>\n",
       "</table>\n",
       "<p>823 rows × 6 columns</p>\n",
       "</div>"
      ],
      "text/plain": [
       "                      Name locality  ratings                off  \\\n",
       "0               McDonald's    Baner      4.1            ₹50 OFF   \n",
       "1               Nawab Asia    Baner      4.1            ₹50 OFF   \n",
       "2                   Mithas    Baner      4.3            ₹50 OFF   \n",
       "3                Anna Idli    Baner      4.2            ₹50 OFF   \n",
       "4     Dadu's Sweet Emporio    Baner      4.3            ₹50 OFF   \n",
       "...                    ...      ...      ...                ...   \n",
       "1130       Happy Da Punjab    Baner      3.7            50% OFF   \n",
       "1133              Ai Shiwu    Baner      3.6            50% OFF   \n",
       "1134    Mumbaian Pav Bhaji    Baner      3.2            50% OFF   \n",
       "1135      Shree Datta Bhel    Baner      3.9            50% OFF   \n",
       "1136               Eggie's    Baner      3.8  Pro extra 25% OFF   \n",
       "\n",
       "      delivery_reviews                                            cuisine  \n",
       "0               9810.0                       Burger, Fast Food, Beverages  \n",
       "1               3054.0  North Indian, Chinese, Mughlai, Biryani, Desse...  \n",
       "2               2262.0                                Mithai, Street Food  \n",
       "3              21800.0                            South Indian, Beverages  \n",
       "4               4504.0                     Mithai, Street Food, Ice Cream  \n",
       "...                ...                                                ...  \n",
       "1130              69.0              North Indian, Chinese, Kebab, Malwani  \n",
       "1133            1146.0                               Chinese, Asian, Thai  \n",
       "1134              46.0                                        Street Food  \n",
       "1135              15.0                                        Street Food  \n",
       "1136              87.0                            North Indian, Fast Food  \n",
       "\n",
       "[823 rows x 6 columns]"
      ]
     },
     "execution_count": 10,
     "metadata": {},
     "output_type": "execute_result"
    }
   ],
   "source": [
    "baner_ratings"
   ]
  },
  {
   "cell_type": "code",
   "execution_count": 11,
   "metadata": {},
   "outputs": [],
   "source": [
    "deliv = []\n",
    "for x in (baner_ratings['delivery_reviews']):\n",
    "    new_value = ( (x - 1.0) / (24300.0 - 1.0) ) * (5.0 - 0.0) + 0.0\n",
    "    new_value = round(new_value,2)\n",
    "    noob = float(new_value)\n",
    "    deliv.append(noob)\n",
    "baner_ratings.reset_index(inplace = True, drop = True)\n",
    "df = pd.DataFrame(deliv,columns=['deliv'])\n",
    "baner_ratings['deliv']= df['deliv']"
   ]
  },
  {
   "cell_type": "code",
   "execution_count": 12,
   "metadata": {},
   "outputs": [
    {
     "data": {
      "text/html": [
       "<div>\n",
       "<style scoped>\n",
       "    .dataframe tbody tr th:only-of-type {\n",
       "        vertical-align: middle;\n",
       "    }\n",
       "\n",
       "    .dataframe tbody tr th {\n",
       "        vertical-align: top;\n",
       "    }\n",
       "\n",
       "    .dataframe thead th {\n",
       "        text-align: right;\n",
       "    }\n",
       "</style>\n",
       "<table border=\"1\" class=\"dataframe\">\n",
       "  <thead>\n",
       "    <tr style=\"text-align: right;\">\n",
       "      <th></th>\n",
       "      <th>Name</th>\n",
       "      <th>locality</th>\n",
       "      <th>ratings</th>\n",
       "      <th>off</th>\n",
       "      <th>delivery_reviews</th>\n",
       "      <th>cuisine</th>\n",
       "      <th>deliv</th>\n",
       "    </tr>\n",
       "  </thead>\n",
       "  <tbody>\n",
       "    <tr>\n",
       "      <th>0</th>\n",
       "      <td>McDonald's</td>\n",
       "      <td>Baner</td>\n",
       "      <td>4.1</td>\n",
       "      <td>₹50 OFF</td>\n",
       "      <td>9810.0</td>\n",
       "      <td>Burger, Fast Food, Beverages</td>\n",
       "      <td>2.02</td>\n",
       "    </tr>\n",
       "    <tr>\n",
       "      <th>1</th>\n",
       "      <td>Nawab Asia</td>\n",
       "      <td>Baner</td>\n",
       "      <td>4.1</td>\n",
       "      <td>₹50 OFF</td>\n",
       "      <td>3054.0</td>\n",
       "      <td>North Indian, Chinese, Mughlai, Biryani, Desse...</td>\n",
       "      <td>0.63</td>\n",
       "    </tr>\n",
       "    <tr>\n",
       "      <th>2</th>\n",
       "      <td>Mithas</td>\n",
       "      <td>Baner</td>\n",
       "      <td>4.3</td>\n",
       "      <td>₹50 OFF</td>\n",
       "      <td>2262.0</td>\n",
       "      <td>Mithai, Street Food</td>\n",
       "      <td>0.47</td>\n",
       "    </tr>\n",
       "    <tr>\n",
       "      <th>3</th>\n",
       "      <td>Anna Idli</td>\n",
       "      <td>Baner</td>\n",
       "      <td>4.2</td>\n",
       "      <td>₹50 OFF</td>\n",
       "      <td>21800.0</td>\n",
       "      <td>South Indian, Beverages</td>\n",
       "      <td>4.49</td>\n",
       "    </tr>\n",
       "    <tr>\n",
       "      <th>4</th>\n",
       "      <td>Dadu's Sweet Emporio</td>\n",
       "      <td>Baner</td>\n",
       "      <td>4.3</td>\n",
       "      <td>₹50 OFF</td>\n",
       "      <td>4504.0</td>\n",
       "      <td>Mithai, Street Food, Ice Cream</td>\n",
       "      <td>0.93</td>\n",
       "    </tr>\n",
       "    <tr>\n",
       "      <th>...</th>\n",
       "      <td>...</td>\n",
       "      <td>...</td>\n",
       "      <td>...</td>\n",
       "      <td>...</td>\n",
       "      <td>...</td>\n",
       "      <td>...</td>\n",
       "      <td>...</td>\n",
       "    </tr>\n",
       "    <tr>\n",
       "      <th>818</th>\n",
       "      <td>Happy Da Punjab</td>\n",
       "      <td>Baner</td>\n",
       "      <td>3.7</td>\n",
       "      <td>50% OFF</td>\n",
       "      <td>69.0</td>\n",
       "      <td>North Indian, Chinese, Kebab, Malwani</td>\n",
       "      <td>0.01</td>\n",
       "    </tr>\n",
       "    <tr>\n",
       "      <th>819</th>\n",
       "      <td>Ai Shiwu</td>\n",
       "      <td>Baner</td>\n",
       "      <td>3.6</td>\n",
       "      <td>50% OFF</td>\n",
       "      <td>1146.0</td>\n",
       "      <td>Chinese, Asian, Thai</td>\n",
       "      <td>0.24</td>\n",
       "    </tr>\n",
       "    <tr>\n",
       "      <th>820</th>\n",
       "      <td>Mumbaian Pav Bhaji</td>\n",
       "      <td>Baner</td>\n",
       "      <td>3.2</td>\n",
       "      <td>50% OFF</td>\n",
       "      <td>46.0</td>\n",
       "      <td>Street Food</td>\n",
       "      <td>0.01</td>\n",
       "    </tr>\n",
       "    <tr>\n",
       "      <th>821</th>\n",
       "      <td>Shree Datta Bhel</td>\n",
       "      <td>Baner</td>\n",
       "      <td>3.9</td>\n",
       "      <td>50% OFF</td>\n",
       "      <td>15.0</td>\n",
       "      <td>Street Food</td>\n",
       "      <td>0.00</td>\n",
       "    </tr>\n",
       "    <tr>\n",
       "      <th>822</th>\n",
       "      <td>Eggie's</td>\n",
       "      <td>Baner</td>\n",
       "      <td>3.8</td>\n",
       "      <td>Pro extra 25% OFF</td>\n",
       "      <td>87.0</td>\n",
       "      <td>North Indian, Fast Food</td>\n",
       "      <td>0.02</td>\n",
       "    </tr>\n",
       "  </tbody>\n",
       "</table>\n",
       "<p>823 rows × 7 columns</p>\n",
       "</div>"
      ],
      "text/plain": [
       "                     Name locality  ratings                off  \\\n",
       "0              McDonald's    Baner      4.1            ₹50 OFF   \n",
       "1              Nawab Asia    Baner      4.1            ₹50 OFF   \n",
       "2                  Mithas    Baner      4.3            ₹50 OFF   \n",
       "3               Anna Idli    Baner      4.2            ₹50 OFF   \n",
       "4    Dadu's Sweet Emporio    Baner      4.3            ₹50 OFF   \n",
       "..                    ...      ...      ...                ...   \n",
       "818       Happy Da Punjab    Baner      3.7            50% OFF   \n",
       "819              Ai Shiwu    Baner      3.6            50% OFF   \n",
       "820    Mumbaian Pav Bhaji    Baner      3.2            50% OFF   \n",
       "821      Shree Datta Bhel    Baner      3.9            50% OFF   \n",
       "822               Eggie's    Baner      3.8  Pro extra 25% OFF   \n",
       "\n",
       "     delivery_reviews                                            cuisine  \\\n",
       "0              9810.0                       Burger, Fast Food, Beverages   \n",
       "1              3054.0  North Indian, Chinese, Mughlai, Biryani, Desse...   \n",
       "2              2262.0                                Mithai, Street Food   \n",
       "3             21800.0                            South Indian, Beverages   \n",
       "4              4504.0                     Mithai, Street Food, Ice Cream   \n",
       "..                ...                                                ...   \n",
       "818              69.0              North Indian, Chinese, Kebab, Malwani   \n",
       "819            1146.0                               Chinese, Asian, Thai   \n",
       "820              46.0                                        Street Food   \n",
       "821              15.0                                        Street Food   \n",
       "822              87.0                            North Indian, Fast Food   \n",
       "\n",
       "     deliv  \n",
       "0     2.02  \n",
       "1     0.63  \n",
       "2     0.47  \n",
       "3     4.49  \n",
       "4     0.93  \n",
       "..     ...  \n",
       "818   0.01  \n",
       "819   0.24  \n",
       "820   0.01  \n",
       "821   0.00  \n",
       "822   0.02  \n",
       "\n",
       "[823 rows x 7 columns]"
      ]
     },
     "execution_count": 12,
     "metadata": {},
     "output_type": "execute_result"
    }
   ],
   "source": [
    "baner_ratings"
   ]
  },
  {
   "cell_type": "markdown",
   "metadata": {},
   "source": [
    "### Making different sets of data"
   ]
  },
  {
   "cell_type": "code",
   "execution_count": 13,
   "metadata": {},
   "outputs": [],
   "source": [
    "above_four =  baner_ratings.loc[(baner_ratings.ratings > 4.0)]\n",
    "above_four.reset_index(inplace = True, drop = True)\n",
    "above_three = baner_ratings.loc[(baner_ratings.ratings >3.0) & (baner_ratings.ratings < 4.0)]\n",
    "above_three.reset_index(inplace = True, drop = True)\n",
    "above_two = baner_ratings.loc[(baner_ratings.ratings >2.0) & (baner_ratings.ratings < 3.0)]\n",
    "above_two.reset_index(inplace = True, drop = True)\n",
    "above_one = baner_ratings.loc[(baner_ratings.ratings >1.0) & (baner_ratings.ratings < 2.0)]\n",
    "above_one.reset_index(inplace = True, drop = True)"
   ]
  },
  {
   "cell_type": "code",
   "execution_count": 14,
   "metadata": {},
   "outputs": [
    {
     "data": {
      "text/html": [
       "<div>\n",
       "<style scoped>\n",
       "    .dataframe tbody tr th:only-of-type {\n",
       "        vertical-align: middle;\n",
       "    }\n",
       "\n",
       "    .dataframe tbody tr th {\n",
       "        vertical-align: top;\n",
       "    }\n",
       "\n",
       "    .dataframe thead th {\n",
       "        text-align: right;\n",
       "    }\n",
       "</style>\n",
       "<table border=\"1\" class=\"dataframe\">\n",
       "  <thead>\n",
       "    <tr style=\"text-align: right;\">\n",
       "      <th></th>\n",
       "      <th>Name</th>\n",
       "      <th>locality</th>\n",
       "      <th>ratings</th>\n",
       "      <th>off</th>\n",
       "      <th>delivery_reviews</th>\n",
       "      <th>cuisine</th>\n",
       "      <th>deliv</th>\n",
       "    </tr>\n",
       "  </thead>\n",
       "  <tbody>\n",
       "    <tr>\n",
       "      <th>0</th>\n",
       "      <td>McDonald's</td>\n",
       "      <td>Baner</td>\n",
       "      <td>4.1</td>\n",
       "      <td>₹50 OFF</td>\n",
       "      <td>9810.0</td>\n",
       "      <td>Burger, Fast Food, Beverages</td>\n",
       "      <td>2.02</td>\n",
       "    </tr>\n",
       "    <tr>\n",
       "      <th>1</th>\n",
       "      <td>Nawab Asia</td>\n",
       "      <td>Baner</td>\n",
       "      <td>4.1</td>\n",
       "      <td>₹50 OFF</td>\n",
       "      <td>3054.0</td>\n",
       "      <td>North Indian, Chinese, Mughlai, Biryani, Desse...</td>\n",
       "      <td>0.63</td>\n",
       "    </tr>\n",
       "    <tr>\n",
       "      <th>2</th>\n",
       "      <td>Mithas</td>\n",
       "      <td>Baner</td>\n",
       "      <td>4.3</td>\n",
       "      <td>₹50 OFF</td>\n",
       "      <td>2262.0</td>\n",
       "      <td>Mithai, Street Food</td>\n",
       "      <td>0.47</td>\n",
       "    </tr>\n",
       "    <tr>\n",
       "      <th>3</th>\n",
       "      <td>Anna Idli</td>\n",
       "      <td>Baner</td>\n",
       "      <td>4.2</td>\n",
       "      <td>₹50 OFF</td>\n",
       "      <td>21800.0</td>\n",
       "      <td>South Indian, Beverages</td>\n",
       "      <td>4.49</td>\n",
       "    </tr>\n",
       "    <tr>\n",
       "      <th>4</th>\n",
       "      <td>Dadu's Sweet Emporio</td>\n",
       "      <td>Baner</td>\n",
       "      <td>4.3</td>\n",
       "      <td>₹50 OFF</td>\n",
       "      <td>4504.0</td>\n",
       "      <td>Mithai, Street Food, Ice Cream</td>\n",
       "      <td>0.93</td>\n",
       "    </tr>\n",
       "    <tr>\n",
       "      <th>...</th>\n",
       "      <td>...</td>\n",
       "      <td>...</td>\n",
       "      <td>...</td>\n",
       "      <td>...</td>\n",
       "      <td>...</td>\n",
       "      <td>...</td>\n",
       "      <td>...</td>\n",
       "    </tr>\n",
       "    <tr>\n",
       "      <th>818</th>\n",
       "      <td>Happy Da Punjab</td>\n",
       "      <td>Baner</td>\n",
       "      <td>3.7</td>\n",
       "      <td>50% OFF</td>\n",
       "      <td>69.0</td>\n",
       "      <td>North Indian, Chinese, Kebab, Malwani</td>\n",
       "      <td>0.01</td>\n",
       "    </tr>\n",
       "    <tr>\n",
       "      <th>819</th>\n",
       "      <td>Ai Shiwu</td>\n",
       "      <td>Baner</td>\n",
       "      <td>3.6</td>\n",
       "      <td>50% OFF</td>\n",
       "      <td>1146.0</td>\n",
       "      <td>Chinese, Asian, Thai</td>\n",
       "      <td>0.24</td>\n",
       "    </tr>\n",
       "    <tr>\n",
       "      <th>820</th>\n",
       "      <td>Mumbaian Pav Bhaji</td>\n",
       "      <td>Baner</td>\n",
       "      <td>3.2</td>\n",
       "      <td>50% OFF</td>\n",
       "      <td>46.0</td>\n",
       "      <td>Street Food</td>\n",
       "      <td>0.01</td>\n",
       "    </tr>\n",
       "    <tr>\n",
       "      <th>821</th>\n",
       "      <td>Shree Datta Bhel</td>\n",
       "      <td>Baner</td>\n",
       "      <td>3.9</td>\n",
       "      <td>50% OFF</td>\n",
       "      <td>15.0</td>\n",
       "      <td>Street Food</td>\n",
       "      <td>0.00</td>\n",
       "    </tr>\n",
       "    <tr>\n",
       "      <th>822</th>\n",
       "      <td>Eggie's</td>\n",
       "      <td>Baner</td>\n",
       "      <td>3.8</td>\n",
       "      <td>Pro extra 25% OFF</td>\n",
       "      <td>87.0</td>\n",
       "      <td>North Indian, Fast Food</td>\n",
       "      <td>0.02</td>\n",
       "    </tr>\n",
       "  </tbody>\n",
       "</table>\n",
       "<p>823 rows × 7 columns</p>\n",
       "</div>"
      ],
      "text/plain": [
       "                     Name locality  ratings                off  \\\n",
       "0              McDonald's    Baner      4.1            ₹50 OFF   \n",
       "1              Nawab Asia    Baner      4.1            ₹50 OFF   \n",
       "2                  Mithas    Baner      4.3            ₹50 OFF   \n",
       "3               Anna Idli    Baner      4.2            ₹50 OFF   \n",
       "4    Dadu's Sweet Emporio    Baner      4.3            ₹50 OFF   \n",
       "..                    ...      ...      ...                ...   \n",
       "818       Happy Da Punjab    Baner      3.7            50% OFF   \n",
       "819              Ai Shiwu    Baner      3.6            50% OFF   \n",
       "820    Mumbaian Pav Bhaji    Baner      3.2            50% OFF   \n",
       "821      Shree Datta Bhel    Baner      3.9            50% OFF   \n",
       "822               Eggie's    Baner      3.8  Pro extra 25% OFF   \n",
       "\n",
       "     delivery_reviews                                            cuisine  \\\n",
       "0              9810.0                       Burger, Fast Food, Beverages   \n",
       "1              3054.0  North Indian, Chinese, Mughlai, Biryani, Desse...   \n",
       "2              2262.0                                Mithai, Street Food   \n",
       "3             21800.0                            South Indian, Beverages   \n",
       "4              4504.0                     Mithai, Street Food, Ice Cream   \n",
       "..                ...                                                ...   \n",
       "818              69.0              North Indian, Chinese, Kebab, Malwani   \n",
       "819            1146.0                               Chinese, Asian, Thai   \n",
       "820              46.0                                        Street Food   \n",
       "821              15.0                                        Street Food   \n",
       "822              87.0                            North Indian, Fast Food   \n",
       "\n",
       "     deliv  \n",
       "0     2.02  \n",
       "1     0.63  \n",
       "2     0.47  \n",
       "3     4.49  \n",
       "4     0.93  \n",
       "..     ...  \n",
       "818   0.01  \n",
       "819   0.24  \n",
       "820   0.01  \n",
       "821   0.00  \n",
       "822   0.02  \n",
       "\n",
       "[823 rows x 7 columns]"
      ]
     },
     "execution_count": 14,
     "metadata": {},
     "output_type": "execute_result"
    }
   ],
   "source": [
    "baner_ratings"
   ]
  },
  {
   "cell_type": "markdown",
   "metadata": {},
   "source": [
    "#### --------------------------------------------------------------------------------------------------------------------------------------------------"
   ]
  },
  {
   "cell_type": "code",
   "execution_count": null,
   "metadata": {},
   "outputs": [],
   "source": []
  },
  {
   "cell_type": "code",
   "execution_count": 15,
   "metadata": {},
   "outputs": [
    {
     "ename": "ValueError",
     "evalue": "shape mismatch: objects cannot be broadcast to a single shape",
     "output_type": "error",
     "traceback": [
      "\u001b[0;31m---------------------------------------------------------------------------\u001b[0m",
      "\u001b[0;31mValueError\u001b[0m                                Traceback (most recent call last)",
      "\u001b[0;32m<ipython-input-15-49921fbd368c>\u001b[0m in \u001b[0;36m<module>\u001b[0;34m\u001b[0m\n\u001b[1;32m     13\u001b[0m \u001b[0;34m\u001b[0m\u001b[0m\n\u001b[1;32m     14\u001b[0m \u001b[0;31m#display stacked bar chart\u001b[0m\u001b[0;34m\u001b[0m\u001b[0;34m\u001b[0m\u001b[0;34m\u001b[0m\u001b[0m\n\u001b[0;32m---> 15\u001b[0;31m \u001b[0mp1\u001b[0m \u001b[0;34m=\u001b[0m \u001b[0mplt\u001b[0m\u001b[0;34m.\u001b[0m\u001b[0mbar\u001b[0m\u001b[0;34m(\u001b[0m\u001b[0mxloc\u001b[0m\u001b[0;34m,\u001b[0m \u001b[0mproduct_A\u001b[0m\u001b[0;34m,\u001b[0m \u001b[0mwidth\u001b[0m\u001b[0;34m=\u001b[0m\u001b[0mbarWidth\u001b[0m\u001b[0;34m)\u001b[0m\u001b[0;34m\u001b[0m\u001b[0;34m\u001b[0m\u001b[0m\n\u001b[0m\u001b[1;32m     16\u001b[0m \u001b[0mp2\u001b[0m \u001b[0;34m=\u001b[0m \u001b[0mplt\u001b[0m\u001b[0;34m.\u001b[0m\u001b[0mbar\u001b[0m\u001b[0;34m(\u001b[0m\u001b[0mxloc\u001b[0m\u001b[0;34m,\u001b[0m \u001b[0mproduct_B\u001b[0m\u001b[0;34m,\u001b[0m \u001b[0mbottom\u001b[0m\u001b[0;34m=\u001b[0m\u001b[0mproduct_A\u001b[0m\u001b[0;34m,\u001b[0m \u001b[0mwidth\u001b[0m\u001b[0;34m=\u001b[0m\u001b[0mbarWidth\u001b[0m\u001b[0;34m)\u001b[0m\u001b[0;34m\u001b[0m\u001b[0;34m\u001b[0m\u001b[0m\n\u001b[1;32m     17\u001b[0m \u001b[0mplt\u001b[0m\u001b[0;34m.\u001b[0m\u001b[0mshow\u001b[0m\u001b[0;34m(\u001b[0m\u001b[0;34m)\u001b[0m\u001b[0;34m\u001b[0m\u001b[0;34m\u001b[0m\u001b[0m\n",
      "\u001b[0;32m~/anaconda3/lib/python3.8/site-packages/matplotlib/pyplot.py\u001b[0m in \u001b[0;36mbar\u001b[0;34m(x, height, width, bottom, align, data, **kwargs)\u001b[0m\n\u001b[1;32m   2485\u001b[0m         \u001b[0mx\u001b[0m\u001b[0;34m,\u001b[0m \u001b[0mheight\u001b[0m\u001b[0;34m,\u001b[0m \u001b[0mwidth\u001b[0m\u001b[0;34m=\u001b[0m\u001b[0;36m0.8\u001b[0m\u001b[0;34m,\u001b[0m \u001b[0mbottom\u001b[0m\u001b[0;34m=\u001b[0m\u001b[0;32mNone\u001b[0m\u001b[0;34m,\u001b[0m \u001b[0;34m*\u001b[0m\u001b[0;34m,\u001b[0m \u001b[0malign\u001b[0m\u001b[0;34m=\u001b[0m\u001b[0;34m'center'\u001b[0m\u001b[0;34m,\u001b[0m\u001b[0;34m\u001b[0m\u001b[0;34m\u001b[0m\u001b[0m\n\u001b[1;32m   2486\u001b[0m         data=None, **kwargs):\n\u001b[0;32m-> 2487\u001b[0;31m     return gca().bar(\n\u001b[0m\u001b[1;32m   2488\u001b[0m         \u001b[0mx\u001b[0m\u001b[0;34m,\u001b[0m \u001b[0mheight\u001b[0m\u001b[0;34m,\u001b[0m \u001b[0mwidth\u001b[0m\u001b[0;34m=\u001b[0m\u001b[0mwidth\u001b[0m\u001b[0;34m,\u001b[0m \u001b[0mbottom\u001b[0m\u001b[0;34m=\u001b[0m\u001b[0mbottom\u001b[0m\u001b[0;34m,\u001b[0m \u001b[0malign\u001b[0m\u001b[0;34m=\u001b[0m\u001b[0malign\u001b[0m\u001b[0;34m,\u001b[0m\u001b[0;34m\u001b[0m\u001b[0;34m\u001b[0m\u001b[0m\n\u001b[1;32m   2489\u001b[0m         **({\"data\": data} if data is not None else {}), **kwargs)\n",
      "\u001b[0;32m~/anaconda3/lib/python3.8/site-packages/matplotlib/__init__.py\u001b[0m in \u001b[0;36minner\u001b[0;34m(ax, data, *args, **kwargs)\u001b[0m\n\u001b[1;32m   1436\u001b[0m     \u001b[0;32mdef\u001b[0m \u001b[0minner\u001b[0m\u001b[0;34m(\u001b[0m\u001b[0max\u001b[0m\u001b[0;34m,\u001b[0m \u001b[0;34m*\u001b[0m\u001b[0margs\u001b[0m\u001b[0;34m,\u001b[0m \u001b[0mdata\u001b[0m\u001b[0;34m=\u001b[0m\u001b[0;32mNone\u001b[0m\u001b[0;34m,\u001b[0m \u001b[0;34m**\u001b[0m\u001b[0mkwargs\u001b[0m\u001b[0;34m)\u001b[0m\u001b[0;34m:\u001b[0m\u001b[0;34m\u001b[0m\u001b[0;34m\u001b[0m\u001b[0m\n\u001b[1;32m   1437\u001b[0m         \u001b[0;32mif\u001b[0m \u001b[0mdata\u001b[0m \u001b[0;32mis\u001b[0m \u001b[0;32mNone\u001b[0m\u001b[0;34m:\u001b[0m\u001b[0;34m\u001b[0m\u001b[0;34m\u001b[0m\u001b[0m\n\u001b[0;32m-> 1438\u001b[0;31m             \u001b[0;32mreturn\u001b[0m \u001b[0mfunc\u001b[0m\u001b[0;34m(\u001b[0m\u001b[0max\u001b[0m\u001b[0;34m,\u001b[0m \u001b[0;34m*\u001b[0m\u001b[0mmap\u001b[0m\u001b[0;34m(\u001b[0m\u001b[0msanitize_sequence\u001b[0m\u001b[0;34m,\u001b[0m \u001b[0margs\u001b[0m\u001b[0;34m)\u001b[0m\u001b[0;34m,\u001b[0m \u001b[0;34m**\u001b[0m\u001b[0mkwargs\u001b[0m\u001b[0;34m)\u001b[0m\u001b[0;34m\u001b[0m\u001b[0;34m\u001b[0m\u001b[0m\n\u001b[0m\u001b[1;32m   1439\u001b[0m \u001b[0;34m\u001b[0m\u001b[0m\n\u001b[1;32m   1440\u001b[0m         \u001b[0mbound\u001b[0m \u001b[0;34m=\u001b[0m \u001b[0mnew_sig\u001b[0m\u001b[0;34m.\u001b[0m\u001b[0mbind\u001b[0m\u001b[0;34m(\u001b[0m\u001b[0max\u001b[0m\u001b[0;34m,\u001b[0m \u001b[0;34m*\u001b[0m\u001b[0margs\u001b[0m\u001b[0;34m,\u001b[0m \u001b[0;34m**\u001b[0m\u001b[0mkwargs\u001b[0m\u001b[0;34m)\u001b[0m\u001b[0;34m\u001b[0m\u001b[0;34m\u001b[0m\u001b[0m\n",
      "\u001b[0;32m~/anaconda3/lib/python3.8/site-packages/matplotlib/axes/_axes.py\u001b[0m in \u001b[0;36mbar\u001b[0;34m(self, x, height, width, bottom, align, **kwargs)\u001b[0m\n\u001b[1;32m   2428\u001b[0m                 \u001b[0myerr\u001b[0m \u001b[0;34m=\u001b[0m \u001b[0mself\u001b[0m\u001b[0;34m.\u001b[0m\u001b[0m_convert_dx\u001b[0m\u001b[0;34m(\u001b[0m\u001b[0myerr\u001b[0m\u001b[0;34m,\u001b[0m \u001b[0my0\u001b[0m\u001b[0;34m,\u001b[0m \u001b[0my\u001b[0m\u001b[0;34m,\u001b[0m \u001b[0mself\u001b[0m\u001b[0;34m.\u001b[0m\u001b[0mconvert_yunits\u001b[0m\u001b[0;34m)\u001b[0m\u001b[0;34m\u001b[0m\u001b[0;34m\u001b[0m\u001b[0m\n\u001b[1;32m   2429\u001b[0m \u001b[0;34m\u001b[0m\u001b[0m\n\u001b[0;32m-> 2430\u001b[0;31m         x, height, width, y, linewidth = np.broadcast_arrays(\n\u001b[0m\u001b[1;32m   2431\u001b[0m             \u001b[0;31m# Make args iterable too.\u001b[0m\u001b[0;34m\u001b[0m\u001b[0;34m\u001b[0m\u001b[0;34m\u001b[0m\u001b[0m\n\u001b[1;32m   2432\u001b[0m             np.atleast_1d(x), height, width, y, linewidth)\n",
      "\u001b[0;32m<__array_function__ internals>\u001b[0m in \u001b[0;36mbroadcast_arrays\u001b[0;34m(*args, **kwargs)\u001b[0m\n",
      "\u001b[0;32m~/anaconda3/lib/python3.8/site-packages/numpy/lib/stride_tricks.py\u001b[0m in \u001b[0;36mbroadcast_arrays\u001b[0;34m(subok, *args)\u001b[0m\n\u001b[1;32m    256\u001b[0m     \u001b[0margs\u001b[0m \u001b[0;34m=\u001b[0m \u001b[0;34m[\u001b[0m\u001b[0mnp\u001b[0m\u001b[0;34m.\u001b[0m\u001b[0marray\u001b[0m\u001b[0;34m(\u001b[0m\u001b[0m_m\u001b[0m\u001b[0;34m,\u001b[0m \u001b[0mcopy\u001b[0m\u001b[0;34m=\u001b[0m\u001b[0;32mFalse\u001b[0m\u001b[0;34m,\u001b[0m \u001b[0msubok\u001b[0m\u001b[0;34m=\u001b[0m\u001b[0msubok\u001b[0m\u001b[0;34m)\u001b[0m \u001b[0;32mfor\u001b[0m \u001b[0m_m\u001b[0m \u001b[0;32min\u001b[0m \u001b[0margs\u001b[0m\u001b[0;34m]\u001b[0m\u001b[0;34m\u001b[0m\u001b[0;34m\u001b[0m\u001b[0m\n\u001b[1;32m    257\u001b[0m \u001b[0;34m\u001b[0m\u001b[0m\n\u001b[0;32m--> 258\u001b[0;31m     \u001b[0mshape\u001b[0m \u001b[0;34m=\u001b[0m \u001b[0m_broadcast_shape\u001b[0m\u001b[0;34m(\u001b[0m\u001b[0;34m*\u001b[0m\u001b[0margs\u001b[0m\u001b[0;34m)\u001b[0m\u001b[0;34m\u001b[0m\u001b[0;34m\u001b[0m\u001b[0m\n\u001b[0m\u001b[1;32m    259\u001b[0m \u001b[0;34m\u001b[0m\u001b[0m\n\u001b[1;32m    260\u001b[0m     \u001b[0;32mif\u001b[0m \u001b[0mall\u001b[0m\u001b[0;34m(\u001b[0m\u001b[0marray\u001b[0m\u001b[0;34m.\u001b[0m\u001b[0mshape\u001b[0m \u001b[0;34m==\u001b[0m \u001b[0mshape\u001b[0m \u001b[0;32mfor\u001b[0m \u001b[0marray\u001b[0m \u001b[0;32min\u001b[0m \u001b[0margs\u001b[0m\u001b[0;34m)\u001b[0m\u001b[0;34m:\u001b[0m\u001b[0;34m\u001b[0m\u001b[0;34m\u001b[0m\u001b[0m\n",
      "\u001b[0;32m~/anaconda3/lib/python3.8/site-packages/numpy/lib/stride_tricks.py\u001b[0m in \u001b[0;36m_broadcast_shape\u001b[0;34m(*args)\u001b[0m\n\u001b[1;32m    187\u001b[0m     \u001b[0;31m# use the old-iterator because np.nditer does not handle size 0 arrays\u001b[0m\u001b[0;34m\u001b[0m\u001b[0;34m\u001b[0m\u001b[0;34m\u001b[0m\u001b[0m\n\u001b[1;32m    188\u001b[0m     \u001b[0;31m# consistently\u001b[0m\u001b[0;34m\u001b[0m\u001b[0;34m\u001b[0m\u001b[0;34m\u001b[0m\u001b[0m\n\u001b[0;32m--> 189\u001b[0;31m     \u001b[0mb\u001b[0m \u001b[0;34m=\u001b[0m \u001b[0mnp\u001b[0m\u001b[0;34m.\u001b[0m\u001b[0mbroadcast\u001b[0m\u001b[0;34m(\u001b[0m\u001b[0;34m*\u001b[0m\u001b[0margs\u001b[0m\u001b[0;34m[\u001b[0m\u001b[0;34m:\u001b[0m\u001b[0;36m32\u001b[0m\u001b[0;34m]\u001b[0m\u001b[0;34m)\u001b[0m\u001b[0;34m\u001b[0m\u001b[0;34m\u001b[0m\u001b[0m\n\u001b[0m\u001b[1;32m    190\u001b[0m     \u001b[0;31m# unfortunately, it cannot handle 32 or more arguments directly\u001b[0m\u001b[0;34m\u001b[0m\u001b[0;34m\u001b[0m\u001b[0;34m\u001b[0m\u001b[0m\n\u001b[1;32m    191\u001b[0m     \u001b[0;32mfor\u001b[0m \u001b[0mpos\u001b[0m \u001b[0;32min\u001b[0m \u001b[0mrange\u001b[0m\u001b[0;34m(\u001b[0m\u001b[0;36m32\u001b[0m\u001b[0;34m,\u001b[0m \u001b[0mlen\u001b[0m\u001b[0;34m(\u001b[0m\u001b[0margs\u001b[0m\u001b[0;34m)\u001b[0m\u001b[0;34m,\u001b[0m \u001b[0;36m31\u001b[0m\u001b[0;34m)\u001b[0m\u001b[0;34m:\u001b[0m\u001b[0;34m\u001b[0m\u001b[0;34m\u001b[0m\u001b[0m\n",
      "\u001b[0;31mValueError\u001b[0m: shape mismatch: objects cannot be broadcast to a single shape"
     ]
    },
    {
     "data": {
      "image/png": "[encoded data removed]",
      "text/plain": [
       "<Figure size 432x288 with 1 Axes>"
      ]
     },
     "metadata": {
      "needs_background": "light"
     },
     "output_type": "display_data"
    }
   ],
   "source": [
    "import numpy as np\n",
    "import matplotlib.pyplot as plt\n",
    "\n",
    "#create data\n",
    "quarter = [above_four['Name']]\n",
    "product_A = [above_four['ratings']]\n",
    "product_B = [above_four['deliv']]\n",
    "\n",
    "#define chart parameters\n",
    "N = 4 \n",
    "barWidth = .5\n",
    "xloc = np.arange(N)\n",
    "\n",
    "#display stacked bar chart\n",
    "p1 = plt.bar(xloc, product_A, width=barWidth)\n",
    "p2 = plt.bar(xloc, product_B, bottom=product_A, width=barWidth)\n",
    "plt.show()"
   ]
  },
  {
   "cell_type": "code",
   "execution_count": null,
   "metadata": {},
   "outputs": [],
   "source": [
    "import matplotlib.pyplot as plt\n",
    "A = [above_four['ratings']]\n",
    "B = [above_four['deliv']]\n",
    "Pos = range(4)\n",
    "plt.bar(Pos, A)\n",
    "plt.bar(Pos, B, bottom = A)\n",
    "plt.show()"
   ]
  },
  {
   "cell_type": "code",
   "execution_count": null,
   "metadata": {},
   "outputs": [],
   "source": [
    "import matplotlib.pyplot as plt\n",
    "\n",
    "\n",
    "labels = [above_four['Name']]\n",
    "ratings = [above_four['ratings']]\n",
    "delivery_rev = [above_four['deliv']]\n",
    "#men_std = [2, 3, 4, 1, 2]\n",
    "#women_std = [3, 5, 2, 3, 3]\n",
    "width = 0.35       # the width of the bars: can also be len(x) sequence\n",
    "\n",
    "fig, ax = plt.subplots()\n",
    "\n",
    "ax.bar(labels, ratings, width, label='Ratings')\n",
    "ax.bar(labels, delivery_rev, width, bottom=ratings,\n",
    "       label='Delivery_reviews')\n",
    "\n",
    "ax.set_ylabel('Scores')\n",
    "ax.set_title('Scores by group and gender')\n",
    "ax.legend()\n",
    "\n",
    "plt.show()"
   ]
  },
  {
   "cell_type": "code",
   "execution_count": null,
   "metadata": {},
   "outputs": [],
   "source": [
    "above_four['ratings']"
   ]
  },
  {
   "cell_type": "code",
   "execution_count": null,
   "metadata": {},
   "outputs": [],
   "source": [
    "data = above_four['ratings']\n",
    "plt.bar(above_four['Name'], data)\n",
    "plt.show()"
   ]
  },
  {
   "cell_type": "code",
   "execution_count": null,
   "metadata": {},
   "outputs": [],
   "source": [
    "plt.figure(figsize=(10,7))\n",
    "rating = above_four['delivery_reviews'].value_count()\n",
    "\n",
    "sns.barplot(x = rating.index, y = rating)\n",
    "plt.xlabel(\"Ratings\")\n",
    "plt.ylabel(\"no\")"
   ]
  },
  {
   "cell_type": "code",
   "execution_count": null,
   "metadata": {},
   "outputs": [],
   "source": []
  },
  {
   "cell_type": "code",
   "execution_count": null,
   "metadata": {},
   "outputs": [],
   "source": []
  },
  {
   "cell_type": "code",
   "execution_count": null,
   "metadata": {},
   "outputs": [],
   "source": []
  },
  {
   "cell_type": "code",
   "execution_count": null,
   "metadata": {},
   "outputs": [],
   "source": []
  },
  {
   "cell_type": "code",
   "execution_count": null,
   "metadata": {},
   "outputs": [],
   "source": [
    "baner_ratings"
   ]
  },
  {
   "cell_type": "code",
   "execution_count": null,
   "metadata": {},
   "outputs": [],
   "source": [
    "baner_ratings.plot(x=\"Name\", y=\"ratings\", kind=\"kde\")"
   ]
  },
  {
   "cell_type": "code",
   "execution_count": null,
   "metadata": {},
   "outputs": [],
   "source": [
    "plt.figure(figsize = (1000,10))\n",
    "baner_ratings.plot(x=\"Name\", y=\"ratings\")\n",
    "plt.show()"
   ]
  },
  {
   "cell_type": "code",
   "execution_count": null,
   "metadata": {},
   "outputs": [],
   "source": []
  },
  {
   "cell_type": "markdown",
   "metadata": {},
   "source": [
    "## HANDLING BAVDHAN DATA SET"
   ]
  },
  {
   "cell_type": "code",
   "execution_count": null,
   "metadata": {},
   "outputs": [],
   "source": [
    "bavdhan_copy.info()"
   ]
  },
  {
   "cell_type": "markdown",
   "metadata": {},
   "source": [
    "## HANDLING HINJEWADI DATA SET"
   ]
  },
  {
   "cell_type": "code",
   "execution_count": null,
   "metadata": {},
   "outputs": [],
   "source": [
    "hinjewadi_copy.info()"
   ]
  },
  {
   "cell_type": "markdown",
   "metadata": {},
   "source": [
    "## HANDLING WAKAD DATA SET"
   ]
  },
  {
   "cell_type": "code",
   "execution_count": null,
   "metadata": {},
   "outputs": [],
   "source": [
    "wakad_copy.info()"
   ]
  },
  {
   "cell_type": "code",
   "execution_count": null,
   "metadata": {},
   "outputs": [],
   "source": [
    "df = pd.concat([baner_copy, bavdhan_copy, hinjewadi_copy, wakad_copy])"
   ]
  },
  {
   "cell_type": "code",
   "execution_count": null,
   "metadata": {},
   "outputs": [],
   "source": [
    "df"
   ]
  },
  {
   "cell_type": "code",
   "execution_count": null,
   "metadata": {},
   "outputs": [],
   "source": [
    "df.info()"
   ]
  },
  {
   "cell_type": "markdown",
   "metadata": {},
   "source": [
    "## Ratings null and Not null count"
   ]
  },
  {
   "cell_type": "markdown",
   "metadata": {},
   "source": [
    "### BANER"
   ]
  },
  {
   "cell_type": "code",
   "execution_count": null,
   "metadata": {},
   "outputs": [],
   "source": [
    "print('Null values in Baner data set:', baner_copy['ratings'].isna().sum())"
   ]
  },
  {
   "cell_type": "code",
   "execution_count": null,
   "metadata": {},
   "outputs": [],
   "source": [
    "baner_copy['ratings'].notnull().sum()"
   ]
  },
  {
   "cell_type": "markdown",
   "metadata": {},
   "source": [
    "### BAVDHAN"
   ]
  },
  {
   "cell_type": "code",
   "execution_count": null,
   "metadata": {},
   "outputs": [],
   "source": [
    "bavdhan_copy['ratings'].isna().sum()"
   ]
  },
  {
   "cell_type": "code",
   "execution_count": null,
   "metadata": {},
   "outputs": [],
   "source": [
    "bavdhan_copy['ratings'].notnull().sum()"
   ]
  },
  {
   "cell_type": "markdown",
   "metadata": {},
   "source": [
    "### HINJEWADI"
   ]
  },
  {
   "cell_type": "code",
   "execution_count": null,
   "metadata": {},
   "outputs": [],
   "source": [
    "hinjewadi_copy['ratings'].isna().sum()"
   ]
  },
  {
   "cell_type": "code",
   "execution_count": null,
   "metadata": {},
   "outputs": [],
   "source": [
    "hinjewadi_copy['ratings'].notnull().sum()"
   ]
  },
  {
   "cell_type": "markdown",
   "metadata": {},
   "source": [
    "### WAKAD"
   ]
  },
  {
   "cell_type": "code",
   "execution_count": null,
   "metadata": {},
   "outputs": [],
   "source": [
    "wakad_copy['ratings'].isna().sum()"
   ]
  },
  {
   "cell_type": "code",
   "execution_count": null,
   "metadata": {},
   "outputs": [],
   "source": [
    "wakad_copy['ratings'].notnull().sum()"
   ]
  },
  {
   "cell_type": "code",
   "execution_count": null,
   "metadata": {},
   "outputs": [],
   "source": [
    "baner_ratings.isna().sum()"
   ]
  },
  {
   "cell_type": "code",
   "execution_count": null,
   "metadata": {},
   "outputs": [],
   "source": [
    "baner_copy.isnull().sum()"
   ]
  },
  {
   "cell_type": "code",
   "execution_count": null,
   "metadata": {},
   "outputs": [],
   "source": []
  }
 ],
 "metadata": {
  "kernelspec": {
   "display_name": "Python 3",
   "language": "python",
   "name": "python3"
  },
  "language_info": {
   "codemirror_mode": {
    "name": "ipython",
    "version": 3
   },
   "file_extension": ".py",
   "mimetype": "text/x-python",
   "name": "python",
   "nbconvert_exporter": "python",
   "pygments_lexer": "ipython3",
   "version": "3.8.5"
  }
 },
 "nbformat": 4,
 "nbformat_minor": 4
}
