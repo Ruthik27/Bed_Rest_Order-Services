{
 "cells": [
  {
   "cell_type": "markdown",
   "metadata": {},
   "source": [
    "https://www.swiggy.com/pune/baner-restaurants\n",
    "\n",
    "https://www.swiggy.com/pune/wakad-restaurants\n",
    "\n",
    "https://www.swiggy.com/pune/hinjewadi-restaurants\n",
    "\n",
    "https://www.swiggy.com/pune/hinjewadi-phase-3-restaurants\n",
    "\n",
    "https://www.swiggy.com/pune/pcmc-restaurants\n",
    "\n",
    "https://www.swiggy.com/pune/baner-restaurants?page=2\n",
    "https://www.swiggy.com/pune/baner-restaurants?page=3\n",
    "\n",
    "\n",
    "https://www.swiggy.com/pune/{}"
   ]
  },
  {
   "cell_type": "code",
   "execution_count": 3,
   "metadata": {},
   "outputs": [
    {
     "data": {
      "text/plain": [
       "<Response [200]>"
      ]
     },
     "execution_count": 3,
     "metadata": {},
     "output_type": "execute_result"
    }
   ],
   "source": [
    "import csv\n",
    "from bs4 import BeautifulSoup\n",
    "from selenium import webdriver\n",
    "from urllib.request import Request, urlopen\n",
    "import requests\n",
    "url ='https://www.swiggy.com/pune/baner-restaurants'\n",
    "headers = {'User-Agent': 'Mozilla/5.0 (X11; Linux x86_64; rv:78.0) Gecko/20100101 Firefox/78.0'}\n",
    "response = requests.get(url,headers=headers)\n",
    "response\n",
    "\n",
    "#webpage = urlopen(req).read()\n",
    "#res\n",
    "#response = requests.get(url)\n",
    "#response"
   ]
  },
  {
   "cell_type": "code",
   "execution_count": 7,
   "metadata": {},
   "outputs": [],
   "source": [
    "def get_url(search_term):\n",
    "    \"\"\"Generate a url from search term \"\"\"\n",
    "    template = 'https://www.swiggy.com/pune/{}'\n",
    "    search_term = search_term.replace(' ', '-')\n",
    "    return template.format(search_term)"
   ]
  },
  {
   "cell_type": "code",
   "execution_count": 5,
   "metadata": {},
   "outputs": [
    {
     "data": {
      "text/plain": [
       "'https://www.swiggy.com/pune/baner-restaurants'"
      ]
     },
     "execution_count": 5,
     "metadata": {},
     "output_type": "execute_result"
    }
   ],
   "source": [
    "get_url('baner restaurants')"
   ]
  },
  {
   "cell_type": "code",
   "execution_count": 11,
   "metadata": {},
   "outputs": [
    {
     "data": {
      "text/plain": [
       "'https://www.swiggy.com/pune/baner-restaurants?page={}'"
      ]
     },
     "execution_count": 11,
     "metadata": {},
     "output_type": "execute_result"
    }
   ],
   "source": [
    "def get_url(search_term):\n",
    "    template = 'https://www.swiggy.com/pune/{}'    \n",
    "    url = template.format(search_term)\n",
    "    \n",
    "    url += '?page={}'\n",
    "    \n",
    "    return url\n",
    "url = get_url('baner-restaurants' ) \n",
    "url"
   ]
  },
  {
   "cell_type": "code",
   "execution_count": 12,
   "metadata": {},
   "outputs": [
    {
     "data": {
      "text/plain": [
       "<Response [200]>"
      ]
     },
     "execution_count": 12,
     "metadata": {},
     "output_type": "execute_result"
    }
   ],
   "source": [
    "response = requests.get(url)\n",
    "response"
   ]
  },
  {
   "cell_type": "code",
   "execution_count": 13,
   "metadata": {},
   "outputs": [],
   "source": [
    "soup  = BeautifulSoup( response.text,'html.parser')"
   ]
  },
  {
   "cell_type": "code",
   "execution_count": 17,
   "metadata": {},
   "outputs": [
    {
     "data": {
      "text/plain": [
       "32"
      ]
     },
     "execution_count": 17,
     "metadata": {},
     "output_type": "execute_result"
    }
   ],
   "source": [
    "cards = soup.find_all('div', {'class':'_3XX_A'})\n",
    "len(results)"
   ]
  },
  {
   "cell_type": "code",
   "execution_count": 60,
   "metadata": {},
   "outputs": [],
   "source": [
    "card = cards[]"
   ]
  },
  {
   "cell_type": "code",
   "execution_count": 62,
   "metadata": {},
   "outputs": [
    {
     "data": {
      "text/plain": [
       "<div class=\"_3XX_A\"><a class=\"_1j_Yo\" href=\"/restaurants/lovely-food-murkute-chowk-baner-pune-32680\"><div class=\"_1HEuF\"><div class=\"_3FR5S\"><div class=\"efp8s\"><img alt=\"Lovely Food\" class=\"_12_oN\" height=\"160\" width=\"254\"/></div><div class=\"_3Ztcd\"><div class=\"nA6kb\">Lovely Food</div><div class=\"_1gURR\" title=\"North Indian, Chinese\">North Indian, Chinese</div></div><div class=\"_3Mn31\"><div class=\"_9uwBC\"><span class=\"icon-star _537e4\"></span><span>--</span></div><div>•</div><div>-- MINS</div><div>•</div><div class=\"nVWSi\">₹350 FOR TWO</div></div></div><div class=\"_3B2qG\"><span aria-label=\"Open\" class=\"_2ECk4 _24tlh\" role=\"button\">Quick View</span></div></div></a></div>"
      ]
     },
     "execution_count": 62,
     "metadata": {},
     "output_type": "execute_result"
    }
   ],
   "source": [
    "card"
   ]
  },
  {
   "cell_type": "code",
   "execution_count": 63,
   "metadata": {},
   "outputs": [],
   "source": [
    "atag = card.a"
   ]
  },
  {
   "cell_type": "code",
   "execution_count": 64,
   "metadata": {},
   "outputs": [
    {
     "data": {
      "text/plain": [
       "'https://www.swiggy.com/restaurants/lovely-food-murkute-chowk-baner-pune-32680'"
      ]
     },
     "execution_count": 64,
     "metadata": {},
     "output_type": "execute_result"
    }
   ],
   "source": [
    "details = 'https://www.swiggy.com' + atag.get('href')\n",
    "details"
   ]
  },
  {
   "cell_type": "code",
   "execution_count": 65,
   "metadata": {},
   "outputs": [
    {
     "data": {
      "text/plain": [
       "'Lovely Food'"
      ]
     },
     "execution_count": 65,
     "metadata": {},
     "output_type": "execute_result"
    }
   ],
   "source": [
    "title = card.find('div', {'class':'nA6kb'})\n",
    "title.get_text()"
   ]
  },
  {
   "cell_type": "code",
   "execution_count": 66,
   "metadata": {},
   "outputs": [
    {
     "data": {
      "text/plain": [
       "'North Indian, Chinese'"
      ]
     },
     "execution_count": 66,
     "metadata": {},
     "output_type": "execute_result"
    }
   ],
   "source": [
    "spec = card.find('div', {'class':'_1gURR'})\n",
    "spec.get_text()"
   ]
  },
  {
   "cell_type": "code",
   "execution_count": 67,
   "metadata": {},
   "outputs": [
    {
     "data": {
      "text/plain": [
       "'--•-- MINS•₹350 FOR TWO'"
      ]
     },
     "execution_count": 67,
     "metadata": {},
     "output_type": "execute_result"
    }
   ],
   "source": [
    "ratt = card.find('div', {'class':'_3Mn31'})\n",
    "ratt.get_text()"
   ]
  },
  {
   "cell_type": "code",
   "execution_count": 70,
   "metadata": {},
   "outputs": [
    {
     "data": {
      "text/plain": [
       "'₹350 FOR TWO'"
      ]
     },
     "execution_count": 70,
     "metadata": {},
     "output_type": "execute_result"
    }
   ],
   "source": [
    "price = card.find('div', {'class':'nVWSi'}).get_text()\n",
    "price"
   ]
  },
  {
   "cell_type": "code",
   "execution_count": 77,
   "metadata": {},
   "outputs": [],
   "source": [
    "import csv\n",
    "from datetime import datetime\n",
    "import requests\n",
    "from bs4 import BeautifulSoup\n",
    "#from selenium import webdriver\n",
    "\n",
    "def get_url(search_term):\n",
    "    template = 'https://www.swiggy.com/pune/{}'    \n",
    "    url = template.format(search_term)\n",
    "    \n",
    "    url += '?page={}'\n",
    "    \n",
    "    return url\n",
    "\n",
    "\n",
    "def get_record(item):\n",
    "    atag = item.a\n",
    "\n",
    "    \n",
    "    try:\n",
    "        details = 'https://www.swiggy.com' + atag.get('href')\n",
    "    except:\n",
    "        details = \" \"\n",
    "    \n",
    "    try:\n",
    "        title = item.find('div', {'class':'nA6kb'}).get_text()\n",
    "    except:\n",
    "        title = \" \"\n",
    "    \n",
    "    try:\n",
    "        spec = item.find('div', {'class':'_1gURR'}).get_text()\n",
    "    except:\n",
    "        spec = \" \"\n",
    "        \n",
    "    \n",
    "    try:\n",
    "        ratt = item.find('div', {'class':'_3Mn31'}).get_text()\n",
    "    except:\n",
    "        ratt = \" \"\n",
    "    \n",
    "    try:\n",
    "        price = card.find('div', {'class':'nVWSi'}).get_text()\n",
    "    except:\n",
    "        price = \" \"\n",
    "    \n",
    "    \n",
    "    \n",
    "    result = (details, title, spec, ratt, price)\n",
    "    \n",
    "    return result\n",
    "\n",
    "def main(stream):\n",
    "    \n",
    "    records = []\n",
    "    url = get_url(stream)\n",
    "    \n",
    "    for page in range(1,16):\n",
    "        response =  requests.get(url.format(page))\n",
    "        #response = requests.get(url.format(page))\n",
    "        #url = get_url(stream).format(page)\n",
    "        soup  = BeautifulSoup(response.text,'html.parser')\n",
    "        cards = soup.find_all('div', {'class':'_3XX_A'})\n",
    "        \n",
    "        for item in cards:\n",
    "            record = get_record(item)\n",
    "            if record:\n",
    "                records.append(record)\n",
    "           \n",
    "        \n",
    "    with open('Swiggy_Data_PCMC.csv','w', newline='', encoding='utf-8') as f:\n",
    "        writer = csv.writer(f)\n",
    "        writer.writerow(['details', 'title', 'spec', 'ratt','price'])\n",
    "        writer.writerows(records)\n",
    "        "
   ]
  },
  {
   "cell_type": "code",
   "execution_count": 78,
   "metadata": {},
   "outputs": [],
   "source": [
    "main('pcmc-restaurants')"
   ]
  }
 ],
 "metadata": {
  "kernelspec": {
   "display_name": "Python 3",
   "language": "python",
   "name": "python3"
  },
  "language_info": {
   "codemirror_mode": {
    "name": "ipython",
    "version": 3
   },
   "file_extension": ".py",
   "mimetype": "text/x-python",
   "name": "python",
   "nbconvert_exporter": "python",
   "pygments_lexer": "ipython3",
   "version": "3.8.5"
  }
 },
 "nbformat": 4,
 "nbformat_minor": 4
}
