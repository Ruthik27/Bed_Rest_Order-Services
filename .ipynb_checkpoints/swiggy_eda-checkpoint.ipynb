{
 "cells": [
  {
   "cell_type": "code",
   "execution_count": 1,
   "metadata": {
    "_cell_guid": "b1076dfc-b9ad-4769-8c92-a6c4dae69d19",
    "_uuid": "8f2839f25d086af736a60e9eeb907d3b93b6e0e5",
    "execution": {
     "iopub.execute_input": "2021-01-01T18:53:05.420714Z",
     "iopub.status.busy": "2021-01-01T18:53:05.419910Z",
     "iopub.status.idle": "2021-01-01T18:53:14.747713Z",
     "shell.execute_reply": "2021-01-01T18:53:14.746917Z"
    },
    "papermill": {
     "duration": 9.362603,
     "end_time": "2021-01-01T18:53:14.747883",
     "exception": false,
     "start_time": "2021-01-01T18:53:05.385280",
     "status": "completed"
    },
    "tags": []
   },
   "outputs": [
    {
     "ename": "FileNotFoundError",
     "evalue": "[Errno 2] No such file or directory: '../input'",
     "output_type": "error",
     "traceback": [
      "\u001b[0;31m---------------------------------------------------------------------------\u001b[0m",
      "\u001b[0;31mFileNotFoundError\u001b[0m                         Traceback (most recent call last)",
      "\u001b[0;32m<ipython-input-1-c7272733ebe2>\u001b[0m in \u001b[0;36m<module>\u001b[0;34m\u001b[0m\n\u001b[1;32m     11\u001b[0m \u001b[0;32mimport\u001b[0m \u001b[0mseaborn\u001b[0m \u001b[0;32mas\u001b[0m \u001b[0msns\u001b[0m\u001b[0;34m\u001b[0m\u001b[0;34m\u001b[0m\u001b[0m\n\u001b[1;32m     12\u001b[0m \u001b[0;32mimport\u001b[0m \u001b[0mmatplotlib\u001b[0m\u001b[0;34m.\u001b[0m\u001b[0mpyplot\u001b[0m \u001b[0;32mas\u001b[0m \u001b[0mplt\u001b[0m\u001b[0;34m\u001b[0m\u001b[0;34m\u001b[0m\u001b[0m\n\u001b[0;32m---> 13\u001b[0;31m \u001b[0mprint\u001b[0m\u001b[0;34m(\u001b[0m\u001b[0mos\u001b[0m\u001b[0;34m.\u001b[0m\u001b[0mlistdir\u001b[0m\u001b[0;34m(\u001b[0m\u001b[0;34m\"../input\"\u001b[0m\u001b[0;34m)\u001b[0m\u001b[0;34m)\u001b[0m\u001b[0;34m\u001b[0m\u001b[0;34m\u001b[0m\u001b[0m\n\u001b[0m\u001b[1;32m     14\u001b[0m \u001b[0mplt\u001b[0m\u001b[0;34m.\u001b[0m\u001b[0mstyle\u001b[0m\u001b[0;34m.\u001b[0m\u001b[0muse\u001b[0m\u001b[0;34m(\u001b[0m\u001b[0;34m'ggplot'\u001b[0m\u001b[0;34m)\u001b[0m\u001b[0;34m\u001b[0m\u001b[0;34m\u001b[0m\u001b[0m\n\u001b[1;32m     15\u001b[0m \u001b[0;32mimport\u001b[0m \u001b[0mplotly\u001b[0m\u001b[0;34m.\u001b[0m\u001b[0moffline\u001b[0m \u001b[0;32mas\u001b[0m \u001b[0mpy\u001b[0m\u001b[0;34m\u001b[0m\u001b[0;34m\u001b[0m\u001b[0m\n",
      "\u001b[0;31mFileNotFoundError\u001b[0m: [Errno 2] No such file or directory: '../input'"
     ]
    }
   ],
   "source": [
    "# This Python 3 environment comes with many helpful analytics libraries installed\n",
    "# It is defined by the kaggle/python Docker image: https://github.com/kaggle/docker-python\n",
    "# For example, here's several helpful packages to load\n",
    "\n",
    "import numpy as np # linear algebra\n",
    "import pandas as pd # data processing, CSV file I/O (e.g. pd.read_csv)\n",
    "import os\n",
    "# Input data files are available in the read-only \"../input/\" directory\n",
    "# For example, running this (by clicking run or pressing Shift+Enter) will list all files under the input directory\n",
    "\n",
    "import seaborn as sns\n",
    "import matplotlib.pyplot as plt\n",
    "print(os.listdir(\"../input\"))\n",
    "plt.style.use('ggplot')\n",
    "import plotly.offline as py\n",
    "import plotly.graph_objs as go\n",
    "from plotly.offline import init_notebook_mode\n",
    "init_notebook_mode(connected=False)\n",
    "from wordcloud import WordCloud\n",
    "from geopy.geocoders import Nominatim\n",
    "from folium.plugins import HeatMap\n",
    "import folium\n",
    "from tqdm import tqdm\n",
    "import re\n",
    "from keras.preprocessing.text import Tokenizer\n",
    "from keras.preprocessing.sequence import pad_sequences\n",
    "from keras.models import Sequential\n",
    "from keras.layers import Dense, Embedding, LSTM, SpatialDropout1D\n",
    "from sklearn.model_selection import train_test_split\n",
    "from nltk import word_tokenize\n",
    "from sklearn.feature_extraction.text import TfidfVectorizer\n",
    "import gensim\n",
    "from collections import Counter\n",
    "from nltk.corpus import stopwords\n",
    "from nltk.stem import WordNetLemmatizer\n",
    "import matplotlib.colors as mcolors\n",
    "from sklearn.manifold import TSNE\n",
    "from gensim.models import word2vec\n",
    "import nltk\n",
    "import warnings\n",
    "warnings.filterwarnings('ignore')\n",
    "\n",
    "\n",
    "\n",
    "\n",
    "import os\n",
    "for dirname, _, filenames in os.walk('/kaggle/input'):\n",
    "    for filename in filenames:\n",
    "        print(os.path.join(dirname, filename))\n",
    "\n",
    "# You can write up to 20GB to the current directory (/kaggle/working/) that gets preserved as output when you create a version using \"Save & Run All\" \n",
    "# You can also write temporary files to /kaggle/temp/, but they won't be saved outside of the current session"
   ]
  },
  {
   "cell_type": "markdown",
   "metadata": {
    "papermill": {
     "duration": 0.098396,
     "end_time": "2021-01-01T18:53:14.949199",
     "exception": false,
     "start_time": "2021-01-01T18:53:14.850803",
     "status": "completed"
    },
    "tags": []
   },
   "source": [
    "> **Breakdown of this notebook: Loading the dataset: Load the data and import the libraries. Data Cleaning:\n",
    "> \n",
    "> 1.Cleaning column values.\n",
    "> 2.Extracting digits for certain columns like Reviews, cost.\n",
    "> 3.Dropping duplicates values.\n",
    "> 4.Data Visualization: Using plots to find relations between the features.**"
   ]
  },
  {
   "cell_type": "code",
   "execution_count": null,
   "metadata": {
    "_cell_guid": "79c7e3d0-c299-4dcb-8224-4455121ee9b0",
    "_uuid": "d629ff2d2480ee46fbb7e2d37f6b5fab8052498a",
    "execution": {
     "iopub.execute_input": "2021-01-01T18:53:15.150727Z",
     "iopub.status.busy": "2021-01-01T18:53:15.150015Z",
     "iopub.status.idle": "2021-01-01T18:53:15.238009Z",
     "shell.execute_reply": "2021-01-01T18:53:15.237388Z"
    },
    "papermill": {
     "duration": 0.19154,
     "end_time": "2021-01-01T18:53:15.238145",
     "exception": false,
     "start_time": "2021-01-01T18:53:15.046605",
     "status": "completed"
    },
    "tags": []
   },
   "outputs": [],
   "source": [
    "zomato=pd.read_csv('/kaggle/input/pune-restaurants-zomato/zomato_outlet_final.csv', delimiter=',')\n",
    "zomato.head()"
   ]
  },
  {
   "cell_type": "code",
   "execution_count": null,
   "metadata": {
    "execution": {
     "iopub.execute_input": "2021-01-01T18:53:15.437497Z",
     "iopub.status.busy": "2021-01-01T18:53:15.436865Z",
     "iopub.status.idle": "2021-01-01T18:53:15.444924Z",
     "shell.execute_reply": "2021-01-01T18:53:15.444418Z"
    },
    "papermill": {
     "duration": 0.10996,
     "end_time": "2021-01-01T18:53:15.445031",
     "exception": false,
     "start_time": "2021-01-01T18:53:15.335071",
     "status": "completed"
    },
    "tags": []
   },
   "outputs": [],
   "source": [
    "print(\"Dataset contains {} rows and {} columns\".format(zomato.shape[0],zomato.shape[1]))"
   ]
  },
  {
   "cell_type": "code",
   "execution_count": null,
   "metadata": {
    "execution": {
     "iopub.execute_input": "2021-01-01T18:53:15.628419Z",
     "iopub.status.busy": "2021-01-01T18:53:15.620217Z",
     "iopub.status.idle": "2021-01-01T18:53:15.642582Z",
     "shell.execute_reply": "2021-01-01T18:53:15.643003Z"
    },
    "papermill": {
     "duration": 0.117473,
     "end_time": "2021-01-01T18:53:15.643144",
     "exception": false,
     "start_time": "2021-01-01T18:53:15.525671",
     "status": "completed"
    },
    "tags": []
   },
   "outputs": [],
   "source": [
    "zomato.info()"
   ]
  },
  {
   "cell_type": "markdown",
   "metadata": {
    "papermill": {
     "duration": 0.070611,
     "end_time": "2021-01-01T18:53:15.784308",
     "exception": false,
     "start_time": "2021-01-01T18:53:15.713697",
     "status": "completed"
    },
    "tags": []
   },
   "source": [
    "# **Data Cleaning**"
   ]
  },
  {
   "cell_type": "code",
   "execution_count": null,
   "metadata": {
    "execution": {
     "iopub.execute_input": "2021-01-01T18:53:15.966370Z",
     "iopub.status.busy": "2021-01-01T18:53:15.965442Z",
     "iopub.status.idle": "2021-01-01T18:53:16.178643Z",
     "shell.execute_reply": "2021-01-01T18:53:16.179039Z"
    },
    "papermill": {
     "duration": 0.319285,
     "end_time": "2021-01-01T18:53:16.179178",
     "exception": false,
     "start_time": "2021-01-01T18:53:15.859893",
     "status": "completed"
    },
    "tags": []
   },
   "outputs": [],
   "source": [
    "'Cleaning Data'\n",
    "'Funstions to remove special characters from name'\n",
    "def clean_data(cols, str_to_replace):\n",
    "    \n",
    "    for col in cols:\n",
    "        zomato[col] = [str(x).replace(str_to_replace,\"\") for x in zomato[col]]\n",
    "        \n",
    "    return zomato\n",
    "\n",
    "def extract_digit(cols):\n",
    "    \n",
    "    for col in cols:\n",
    "        zomato[col] = zomato[col].str.extract(r'(\\d+)', expand=True)\n",
    "        \n",
    "    return zomato\n",
    "'Calling our Functions'\n",
    "zomato = clean_data(['rest_name'], '\\r\\r\\n')\n",
    "zomato = clean_data(['rest_name'], '\\r\\n')\n",
    "zomato = clean_data(['cost', 'dine_reviews', 'delivery_reviews'], \",\")\n",
    "zomato = extract_digit(['cost', 'dine_reviews', 'delivery_reviews'])\n",
    "\n",
    "        "
   ]
  },
  {
   "cell_type": "code",
   "execution_count": null,
   "metadata": {
    "execution": {
     "iopub.execute_input": "2021-01-01T18:53:16.337167Z",
     "iopub.status.busy": "2021-01-01T18:53:16.336336Z",
     "iopub.status.idle": "2021-01-01T18:53:16.359085Z",
     "shell.execute_reply": "2021-01-01T18:53:16.359731Z"
    },
    "papermill": {
     "duration": 0.110678,
     "end_time": "2021-01-01T18:53:16.359912",
     "exception": false,
     "start_time": "2021-01-01T18:53:16.249234",
     "status": "completed"
    },
    "tags": []
   },
   "outputs": [],
   "source": [
    "'Many location values have restaurant name as well.. So splitting them on the basis of delimiter and extracting string after the delimiter  '\n",
    "zomato['locc'] = zomato['loc'].str.split(pat = \",\").str[1]\n",
    "zomato.head()"
   ]
  },
  {
   "cell_type": "code",
   "execution_count": null,
   "metadata": {
    "execution": {
     "iopub.execute_input": "2021-01-01T18:53:16.605274Z",
     "iopub.status.busy": "2021-01-01T18:53:16.604430Z",
     "iopub.status.idle": "2021-01-01T18:53:16.613193Z",
     "shell.execute_reply": "2021-01-01T18:53:16.613912Z"
    },
    "papermill": {
     "duration": 0.135924,
     "end_time": "2021-01-01T18:53:16.614107",
     "exception": false,
     "start_time": "2021-01-01T18:53:16.478183",
     "status": "completed"
    },
    "tags": []
   },
   "outputs": [],
   "source": [
    "#Checking for duplicates\n",
    "\n",
    "zomato.drop_duplicates(\"link\",keep='first',inplace=True)\n",
    "zomato.reset_index(drop=True,inplace=True)\n",
    "zomato.shape"
   ]
  },
  {
   "cell_type": "code",
   "execution_count": null,
   "metadata": {
    "execution": {
     "iopub.execute_input": "2021-01-01T18:53:16.853264Z",
     "iopub.status.busy": "2021-01-01T18:53:16.852149Z",
     "iopub.status.idle": "2021-01-01T18:53:16.891444Z",
     "shell.execute_reply": "2021-01-01T18:53:16.890777Z"
    },
    "papermill": {
     "duration": 0.159397,
     "end_time": "2021-01-01T18:53:16.891557",
     "exception": false,
     "start_time": "2021-01-01T18:53:16.732160",
     "status": "completed"
    },
    "tags": []
   },
   "outputs": [],
   "source": [
    "print(\"Percentage null or na values in zomato\")\n",
    "((zomato.isnull() | zomato.isna()).sum() * 100 / zomato.index.size).round(2)"
   ]
  },
  {
   "cell_type": "code",
   "execution_count": null,
   "metadata": {
    "execution": {
     "iopub.execute_input": "2021-01-01T18:53:17.095788Z",
     "iopub.status.busy": "2021-01-01T18:53:17.094654Z",
     "iopub.status.idle": "2021-01-01T18:53:17.109317Z",
     "shell.execute_reply": "2021-01-01T18:53:17.110358Z"
    },
    "papermill": {
     "duration": 0.119457,
     "end_time": "2021-01-01T18:53:17.110611",
     "exception": false,
     "start_time": "2021-01-01T18:53:16.991154",
     "status": "completed"
    },
    "tags": []
   },
   "outputs": [],
   "source": [
    "#Checcking Data type of columns \n",
    "zomato.info()"
   ]
  },
  {
   "cell_type": "code",
   "execution_count": null,
   "metadata": {
    "execution": {
     "iopub.execute_input": "2021-01-01T18:53:17.321879Z",
     "iopub.status.busy": "2021-01-01T18:53:17.321293Z",
     "iopub.status.idle": "2021-01-01T18:53:17.336596Z",
     "shell.execute_reply": "2021-01-01T18:53:17.337247Z"
    },
    "papermill": {
     "duration": 0.119634,
     "end_time": "2021-01-01T18:53:17.337384",
     "exception": false,
     "start_time": "2021-01-01T18:53:17.217750",
     "status": "completed"
    },
    "tags": []
   },
   "outputs": [],
   "source": [
    "#Converting reviews and cost to integer\n",
    "\n",
    "zomato.replace('NA', np.nan)\n",
    "def convert_cols(cols):\n",
    "    \n",
    "    for col in cols:\n",
    "        zomato[col] = zomato[col].astype(float)\n",
    "        \n",
    "    return zomato\n",
    "\n",
    "zomato = convert_cols(['dine_reviews', 'delivery_reviews', 'cost'])\n"
   ]
  },
  {
   "cell_type": "markdown",
   "metadata": {
    "papermill": {
     "duration": 0.105989,
     "end_time": "2021-01-01T18:53:17.544296",
     "exception": false,
     "start_time": "2021-01-01T18:53:17.438307",
     "status": "completed"
    },
    "tags": []
   },
   "source": [
    "# **Exploratory Data Analysis**"
   ]
  },
  {
   "cell_type": "markdown",
   "metadata": {
    "papermill": {
     "duration": 0.102795,
     "end_time": "2021-01-01T18:53:17.751005",
     "exception": false,
     "start_time": "2021-01-01T18:53:17.648210",
     "status": "completed"
    },
    "tags": []
   },
   "source": [
    "Which chain has maximum no of outlets in Pune?"
   ]
  },
  {
   "cell_type": "code",
   "execution_count": null,
   "metadata": {
    "execution": {
     "iopub.execute_input": "2021-01-01T18:53:17.952412Z",
     "iopub.status.busy": "2021-01-01T18:53:17.951715Z",
     "iopub.status.idle": "2021-01-01T18:53:18.288105Z",
     "shell.execute_reply": "2021-01-01T18:53:18.287356Z"
    },
    "papermill": {
     "duration": 0.434248,
     "end_time": "2021-01-01T18:53:18.288217",
     "exception": false,
     "start_time": "2021-01-01T18:53:17.853969",
     "status": "completed"
    },
    "tags": []
   },
   "outputs": [],
   "source": [
    "plt.figure(figsize=(10,6))\n",
    "chains = zomato['rest_name'].value_counts()[:20]\n",
    "sns.barplot(x=chains,y=chains.index.str.rstrip(),palette='Set2')\n",
    "plt.title(\"Restaurants having maximum no of outlets in Pune\")\n",
    "plt.xlabel(\"Number of outlets\")\n"
   ]
  },
  {
   "cell_type": "markdown",
   "metadata": {
    "papermill": {
     "duration": 0.107435,
     "end_time": "2021-01-01T18:53:18.501136",
     "exception": false,
     "start_time": "2021-01-01T18:53:18.393701",
     "status": "completed"
    },
    "tags": []
   },
   "source": [
    "# **Food Street in Pune**"
   ]
  },
  {
   "cell_type": "code",
   "execution_count": null,
   "metadata": {
    "execution": {
     "iopub.execute_input": "2021-01-01T18:53:18.736543Z",
     "iopub.status.busy": "2021-01-01T18:53:18.735615Z",
     "iopub.status.idle": "2021-01-01T18:53:19.010333Z",
     "shell.execute_reply": "2021-01-01T18:53:19.009626Z"
    },
    "papermill": {
     "duration": 0.396876,
     "end_time": "2021-01-01T18:53:19.010442",
     "exception": false,
     "start_time": "2021-01-01T18:53:18.613566",
     "status": "completed"
    },
    "tags": []
   },
   "outputs": [],
   "source": [
    "plt.figure(figsize=(20,5))\n",
    "locations=zomato['loc'].value_counts()[:20]\n",
    "g = sns.barplot(locations.index,locations,palette=\"Set1\")\n",
    "g.set_xticklabels(g.get_xticklabels(), rotation=90, ha=\"right\")\n",
    "g\n",
    "plt.title(\"No of restaurants in Locality\")\n",
    "\n"
   ]
  },
  {
   "cell_type": "markdown",
   "metadata": {
    "papermill": {
     "duration": 0.109685,
     "end_time": "2021-01-01T18:53:19.229187",
     "exception": false,
     "start_time": "2021-01-01T18:53:19.119502",
     "status": "completed"
    },
    "tags": []
   },
   "source": [
    "# **Most preferred restaurant type in Pune**"
   ]
  },
  {
   "cell_type": "code",
   "execution_count": null,
   "metadata": {
    "execution": {
     "iopub.execute_input": "2021-01-01T18:53:19.480110Z",
     "iopub.status.busy": "2021-01-01T18:53:19.473327Z",
     "iopub.status.idle": "2021-01-01T18:53:19.693085Z",
     "shell.execute_reply": "2021-01-01T18:53:19.693677Z"
    },
    "papermill": {
     "duration": 0.354838,
     "end_time": "2021-01-01T18:53:19.693914",
     "exception": false,
     "start_time": "2021-01-01T18:53:19.339076",
     "status": "completed"
    },
    "tags": []
   },
   "outputs": [],
   "source": [
    "r_type =zomato['rest_type'].value_counts()[:10]\n",
    "sns.barplot(x=r_type,y=r_type.index,palette='Set2')\n",
    "plt.title(\"Most preferred restaurant type in pune\")\n",
    "plt.xlabel(\"Number of Restaurants\")"
   ]
  },
  {
   "cell_type": "markdown",
   "metadata": {
    "papermill": {
     "duration": 0.1135,
     "end_time": "2021-01-01T18:53:19.924524",
     "exception": false,
     "start_time": "2021-01-01T18:53:19.811024",
     "status": "completed"
    },
    "tags": []
   },
   "source": [
    "* No doubt about this as Pune is known as the education hub of India,people having busy and modern life will prefer Quick Bites.\n",
    "* We can observe tha Quick Bites type restaurants dominates."
   ]
  },
  {
   "cell_type": "code",
   "execution_count": null,
   "metadata": {
    "execution": {
     "iopub.execute_input": "2021-01-01T18:53:20.364234Z",
     "iopub.status.busy": "2021-01-01T18:53:20.363541Z",
     "iopub.status.idle": "2021-01-01T18:53:20.885318Z",
     "shell.execute_reply": "2021-01-01T18:53:20.885875Z"
    },
    "papermill": {
     "duration": 0.67198,
     "end_time": "2021-01-01T18:53:20.886017",
     "exception": false,
     "start_time": "2021-01-01T18:53:20.214037",
     "status": "completed"
    },
    "tags": []
   },
   "outputs": [],
   "source": [
    "#Defining a fuction to plot graphs for top 10 attributes\n",
    "\n",
    "\n",
    "def bar_plot_h(cols, title):\n",
    "    print(cols)\n",
    "    n=len(cols)\n",
    "    f, axes = plt.subplots(1,2, figsize=(15,7))\n",
    "    \n",
    "    for col, ax, i in zip(cols, axes.flatten()[:n], range(0,n)):\n",
    "        zomato.loc[zomato['cuisine'].str.contains('Chinese,North Indian', case=False), 'cuisine'] = \"Chinese,North Indian\"\n",
    "        c=zomato[col].value_counts()[:10]\n",
    "        \n",
    "        sns.barplot(c, c.index.str.rstrip(\",\"), ax = ax, palette='Set2').set_title(title[i])\n",
    "        \n",
    "        \n",
    "        #For showing values in barplot\n",
    "        \n",
    "        \n",
    "        \n",
    "        \n",
    "        \n",
    "bar_plot_h(['cuisine', 'liked'], [\"Cuisine liked by most Punekars \", \"What do Punekars love\"])\n"
   ]
  },
  {
   "cell_type": "markdown",
   "metadata": {
    "papermill": {
     "duration": 0.120081,
     "end_time": "2021-01-01T18:53:21.124597",
     "exception": false,
     "start_time": "2021-01-01T18:53:21.004516",
     "status": "completed"
    },
    "tags": []
   },
   "source": [
    "# **Generating wordclouds for most liked dish**"
   ]
  },
  {
   "cell_type": "code",
   "execution_count": null,
   "metadata": {
    "execution": {
     "iopub.execute_input": "2021-01-01T18:53:21.376037Z",
     "iopub.status.busy": "2021-01-01T18:53:21.366670Z",
     "iopub.status.idle": "2021-01-01T18:53:22.000547Z",
     "shell.execute_reply": "2021-01-01T18:53:22.001141Z"
    },
    "papermill": {
     "duration": 0.759005,
     "end_time": "2021-01-01T18:53:22.001303",
     "exception": false,
     "start_time": "2021-01-01T18:53:21.242298",
     "status": "completed"
    },
    "tags": []
   },
   "outputs": [],
   "source": [
    "#Converting dish liked into 1 text time \n",
    "\n",
    "text = \" \".join(str(dish) for dish in zomato.liked)\n",
    "print(\"There are {} words in the combination of all the review \".format(len(text)))\n",
    "stopwords = ['NaN']\n",
    "wordcloud = WordCloud( stopwords = stopwords, background_color=\"white\").generate(text)\n",
    "plt.imshow(wordcloud, interpolation='bilinear')\n",
    "plt.axis(\"off\")\n",
    "plt.show()\n"
   ]
  },
  {
   "cell_type": "markdown",
   "metadata": {
    "papermill": {
     "duration": 0.116508,
     "end_time": "2021-01-01T18:53:22.242351",
     "exception": false,
     "start_time": "2021-01-01T18:53:22.125843",
     "status": "completed"
    },
    "tags": []
   },
   "source": [
    "# **Forming wordclouds for 5 restaurant type**"
   ]
  },
  {
   "cell_type": "raw",
   "metadata": {
    "papermill": {
     "duration": 0.121425,
     "end_time": "2021-01-01T18:53:22.484339",
     "exception": false,
     "start_time": "2021-01-01T18:53:22.362914",
     "status": "completed"
    },
    "tags": []
   },
   "source": []
  },
  {
   "cell_type": "code",
   "execution_count": null,
   "metadata": {
    "execution": {
     "iopub.execute_input": "2021-01-01T18:53:22.732540Z",
     "iopub.status.busy": "2021-01-01T18:53:22.731877Z",
     "iopub.status.idle": "2021-01-01T18:53:22.736951Z",
     "shell.execute_reply": "2021-01-01T18:53:22.736035Z"
    },
    "papermill": {
     "duration": 0.133555,
     "end_time": "2021-01-01T18:53:22.737210",
     "exception": false,
     "start_time": "2021-01-01T18:53:22.603655",
     "status": "completed"
    },
    "tags": []
   },
   "outputs": [],
   "source": [
    "'Printing Restaurant types'\n",
    "rest=zomato['rest_type'].value_counts().index\n",
    "print(rest)"
   ]
  },
  {
   "cell_type": "code",
   "execution_count": null,
   "metadata": {
    "execution": {
     "iopub.execute_input": "2021-01-01T18:53:23.022923Z",
     "iopub.status.busy": "2021-01-01T18:53:23.022093Z",
     "iopub.status.idle": "2021-01-01T18:53:41.599766Z",
     "shell.execute_reply": "2021-01-01T18:53:41.600312Z"
    },
    "papermill": {
     "duration": 18.733591,
     "end_time": "2021-01-01T18:53:41.600450",
     "exception": false,
     "start_time": "2021-01-01T18:53:22.866859",
     "status": "completed"
    },
    "tags": []
   },
   "outputs": [],
   "source": [
    "rest=zomato['rest_type'].value_counts()[:5].index\n",
    "def produce_wordcloud(df,rest):\n",
    "    stopwords = ['NaN']\n",
    "    plt.figure(figsize=(20,30))\n",
    "    for i,r in enumerate(rest):\n",
    "        plt.subplot(3,3,i+1)\n",
    "        corpus=df[df['rest_type']==r]['liked'].tolist()\n",
    "        corpus=','.join(str(x) for x in corpus )\n",
    "        wordcloud = WordCloud(stopwords = stopwords,max_font_size=None, background_color='white', collocations=False,\n",
    "                             width=1500, height=1500).generate(corpus)\n",
    "        plt.imshow(wordcloud)\n",
    "        plt.title(r)\n",
    "        plt.axis(\"off\")\n",
    "        \n",
    "        \n",
    "        \n",
    "        \n",
    "        \n",
    "        \n",
    "produce_wordcloud(zomato,rest)\n"
   ]
  },
  {
   "cell_type": "markdown",
   "metadata": {
    "papermill": {
     "duration": 0.135873,
     "end_time": "2021-01-01T18:53:41.874215",
     "exception": false,
     "start_time": "2021-01-01T18:53:41.738342",
     "status": "completed"
    },
    "tags": []
   },
   "source": [
    "# **Most voted restaurants in Pune**"
   ]
  },
  {
   "cell_type": "code",
   "execution_count": null,
   "metadata": {
    "execution": {
     "iopub.execute_input": "2021-01-01T18:53:42.161139Z",
     "iopub.status.busy": "2021-01-01T18:53:42.156763Z",
     "iopub.status.idle": "2021-01-01T18:53:42.537397Z",
     "shell.execute_reply": "2021-01-01T18:53:42.536744Z"
    },
    "papermill": {
     "duration": 0.527144,
     "end_time": "2021-01-01T18:53:42.537511",
     "exception": false,
     "start_time": "2021-01-01T18:53:42.010367",
     "status": "completed"
    },
    "tags": []
   },
   "outputs": [],
   "source": [
    "def bar_plot(cols, titles):\n",
    "    print(cols)\n",
    "    n=len(cols)\n",
    "    f, axes = plt.subplots(1, 2, figsize=(15,6))\n",
    "    for col, ax, i in zip(cols, axes.flatten()[:n], range(0,n)):\n",
    "        c=zomato[['rest_name',col]].sort_values(by = col,ascending = False)[:8]\n",
    "        g = sns.barplot(x = c[col], y=c['rest_name'].str.rstrip(),ax = ax, palette = 'Set2').set_title(titles[i])\n",
    "        \n",
    "        #For showing values in barplot \n",
    "        \n",
    "        for p in ax.patches:\n",
    "            width = p.get_width()\n",
    "            ax.text(width -1.5  ,\n",
    "                p.get_y()+p.get_height()/2. + 0.2,\n",
    "                '{:1.2f}'.format(width),\n",
    "                ha=\"right\")\n",
    "        ax.set_ylabel('') \n",
    "        \n",
    "        \n",
    "        \n",
    "bar_plot( ['cost', 'dine_reviews'], [\"Most Expensive Restaurant\", \"Most Reviewed\"])"
   ]
  },
  {
   "cell_type": "code",
   "execution_count": null,
   "metadata": {
    "execution": {
     "iopub.execute_input": "2021-01-01T18:53:42.832266Z",
     "iopub.status.busy": "2021-01-01T18:53:42.831696Z",
     "iopub.status.idle": "2021-01-01T18:53:43.124116Z",
     "shell.execute_reply": "2021-01-01T18:53:43.123384Z"
    },
    "papermill": {
     "duration": 0.422059,
     "end_time": "2021-01-01T18:53:43.124257",
     "exception": false,
     "start_time": "2021-01-01T18:53:42.702198",
     "status": "completed"
    },
    "tags": []
   },
   "outputs": [],
   "source": [
    "'''\n",
    "Rating in itself is not a proper measure as no of reviews are not considered in it. So we will be calculating a weighted rating for both Dining and delivery\n",
    "'''\n",
    "\n",
    "' Calculate Weighted Rating '\n",
    "zomato['wght_dine_rating'] = (zomato['dine_rating'] )* (zomato['dine_reviews']/zomato['dine_rating'].sum(axis = 0,skipna = True))\n",
    "zomato['wght_delivery_rating'] =zomato['delivery_rating']*(zomato['delivery_reviews']/zomato['delivery_rating'].sum(axis=0,skipna=True) )\n",
    "\n",
    "#Normalizing rating to bring them in the case of 0 to 5\n",
    "zomato['wght_dine_rating']=5*(zomato['wght_dine_rating']-zomato['wght_dine_rating'].min(axis=0))/(zomato['wght_dine_rating'].max(axis=0) - zomato['wght_dine_rating'].min(axis=0))\n",
    "zomato['wght_delivery_rating']=5*(zomato['wght_delivery_rating']-zomato['wght_delivery_rating'].min(axis=0))/(zomato['wght_delivery_rating'].max(axis=0) - zomato['wght_delivery_rating'].min(axis=0))\n",
    "def bar_plot(cols, titles):\n",
    "    print(cols)\n",
    "    n=len(cols)\n",
    "    f, axes = plt.subplots(1, 2, figsize=(15, 6))\n",
    "    for col, ax, i  in zip(cols, axes.flatten()[:n], range(0,n)):\n",
    "        c=zomato[['rest_name',col]].sort_values(by = col,ascending = False)[:8]\n",
    "        g = sns.barplot(x = c[col], y =c['rest_name'].str.rstrip(),ax = ax, palette = 'Set2').set_title(titles[i])\n",
    "        'For showing values in barplot'\n",
    "        for p in ax.patches:\n",
    "            width = p.get_width()\n",
    "            ax.text(width -1.5  ,\n",
    "                p.get_y()+p.get_height()/2. + 0.2,\n",
    "                '{:1.2f}'.format(width),\n",
    "                ha=\"right\")\n",
    "        ax.set_ylabel('')   \n",
    "\n",
    "bar_plot( ['wght_dine_rating', 'wght_delivery_rating'], ['Best Rated for dining', 'Best Rated for delivery']) "
   ]
  },
  {
   "cell_type": "code",
   "execution_count": null,
   "metadata": {
    "execution": {
     "iopub.execute_input": "2021-01-01T18:53:43.468489Z",
     "iopub.status.busy": "2021-01-01T18:53:43.462987Z",
     "iopub.status.idle": "2021-01-01T18:53:43.711485Z",
     "shell.execute_reply": "2021-01-01T18:53:43.710982Z"
    },
    "papermill": {
     "duration": 0.417862,
     "end_time": "2021-01-01T18:53:43.711578",
     "exception": false,
     "start_time": "2021-01-01T18:53:43.293716",
     "status": "completed"
    },
    "tags": []
   },
   "outputs": [],
   "source": [
    "#Cost Distribution \n",
    "\n",
    "fig, ax = plt.subplots(figsize=[16,4])\n",
    "sns.distplot(zomato['cost'],ax=ax)\n",
    "ax.set_title('Cost distribution for all Restaurants')\n"
   ]
  },
  {
   "cell_type": "markdown",
   "metadata": {
    "papermill": {
     "duration": 0.14565,
     "end_time": "2021-01-01T18:53:44.001843",
     "exception": false,
     "start_time": "2021-01-01T18:53:43.856193",
     "status": "completed"
    },
    "tags": []
   },
   "source": [
    "# **Inferences -**\n",
    "**More than 50% restaurants have rating between 3.5 and 4**"
   ]
  },
  {
   "cell_type": "code",
   "execution_count": null,
   "metadata": {
    "papermill": {
     "duration": 0.143242,
     "end_time": "2021-01-01T18:53:44.289486",
     "exception": false,
     "start_time": "2021-01-01T18:53:44.146244",
     "status": "completed"
    },
    "tags": []
   },
   "outputs": [],
   "source": []
  },
  {
   "cell_type": "raw",
   "metadata": {
    "papermill": {
     "duration": 0.142,
     "end_time": "2021-01-01T18:53:44.575239",
     "exception": false,
     "start_time": "2021-01-01T18:53:44.433239",
     "status": "completed"
    },
    "tags": []
   },
   "source": [
    "zomato.describe()"
   ]
  },
  {
   "cell_type": "code",
   "execution_count": null,
   "metadata": {
    "execution": {
     "iopub.execute_input": "2021-01-01T18:53:44.876658Z",
     "iopub.status.busy": "2021-01-01T18:53:44.871939Z",
     "iopub.status.idle": "2021-01-01T18:53:45.197397Z",
     "shell.execute_reply": "2021-01-01T18:53:45.196708Z"
    },
    "papermill": {
     "duration": 0.477986,
     "end_time": "2021-01-01T18:53:45.197543",
     "exception": false,
     "start_time": "2021-01-01T18:53:44.719557",
     "status": "completed"
    },
    "tags": []
   },
   "outputs": [],
   "source": [
    "#Rating Distribution\n",
    "\n",
    "plt.figure(figsize=(7,6))\n",
    "rating=zomato['dine_rating'].value_counts()\n",
    "sns.barplot(x=rating.index,y=rating)\n",
    "plt.xlabel(\"Ratings\")\n",
    "plt.ylabel(\"count\")\n",
    "        "
   ]
  },
  {
   "cell_type": "markdown",
   "metadata": {
    "papermill": {
     "duration": 0.141332,
     "end_time": "2021-01-01T18:53:45.482887",
     "exception": false,
     "start_time": "2021-01-01T18:53:45.341555",
     "status": "completed"
    },
    "tags": []
   },
   "source": [
    "**Restaurants having rating more than 4.6 are very rare.**"
   ]
  },
  {
   "cell_type": "markdown",
   "metadata": {
    "papermill": {
     "duration": 0.14296,
     "end_time": "2021-01-01T18:53:45.770666",
     "exception": false,
     "start_time": "2021-01-01T18:53:45.627706",
     "status": "completed"
    },
    "tags": []
   },
   "source": [
    "# **Localities for Most Expensive 20 restaurants**"
   ]
  },
  {
   "cell_type": "code",
   "execution_count": null,
   "metadata": {
    "execution": {
     "iopub.execute_input": "2021-01-01T18:53:46.069551Z",
     "iopub.status.busy": "2021-01-01T18:53:46.068898Z",
     "iopub.status.idle": "2021-01-01T18:53:46.222020Z",
     "shell.execute_reply": "2021-01-01T18:53:46.221509Z"
    },
    "papermill": {
     "duration": 0.30477,
     "end_time": "2021-01-01T18:53:46.222166",
     "exception": false,
     "start_time": "2021-01-01T18:53:45.917396",
     "status": "completed"
    },
    "tags": []
   },
   "outputs": [],
   "source": [
    "most_voted = zomato[['locc','cost']].sort_values(by = 'cost', ascending = False)[:20]\n",
    "xy = most_voted['locc'].value_counts()\n",
    "sns.barplot(x = xy, y = xy.index)"
   ]
  },
  {
   "cell_type": "markdown",
   "metadata": {
    "papermill": {
     "duration": 0.147265,
     "end_time": "2021-01-01T18:53:46.519862",
     "exception": false,
     "start_time": "2021-01-01T18:53:46.372597",
     "status": "completed"
    },
    "tags": []
   },
   "source": [
    "# **Most Popular Cuisine for a locality**"
   ]
  },
  {
   "cell_type": "code",
   "execution_count": null,
   "metadata": {
    "execution": {
     "iopub.execute_input": "2021-01-01T18:53:46.822596Z",
     "iopub.status.busy": "2021-01-01T18:53:46.819968Z",
     "iopub.status.idle": "2021-01-01T18:53:47.057883Z",
     "shell.execute_reply": "2021-01-01T18:53:47.058621Z"
    },
    "papermill": {
     "duration": 0.39237,
     "end_time": "2021-01-01T18:53:47.058806",
     "exception": false,
     "start_time": "2021-01-01T18:53:46.666436",
     "status": "completed"
    },
    "tags": []
   },
   "outputs": [],
   "source": [
    "popular_cuis=zomato.groupby(['loc','cuisine']).agg('count')\n",
    "data=popular_cuis.groupby(['loc'],\n",
    "                         as_index=False).apply(lambda x : x.sort_values(by=\"rest_name\",ascending=False).head(3))['rest_name'].reset_index().rename(columns={'rest_name':'count'})\n",
    "\n",
    "data.head(10)\n",
    "\n",
    "                                            "
   ]
  },
  {
   "cell_type": "markdown",
   "metadata": {
    "papermill": {
     "duration": 0.130693,
     "end_time": "2021-01-01T18:53:47.362002",
     "exception": false,
     "start_time": "2021-01-01T18:53:47.231309",
     "status": "completed"
    },
    "tags": []
   },
   "source": [
    "# **Best cheap Restaurants**\n",
    "\n",
    "Criteria-\n",
    "\n",
    "1.Cost<1000\n",
    "2.Rating (dine or delivery)>4.3\n",
    "3.No of reviews(dine or delivery)>4000"
   ]
  },
  {
   "cell_type": "code",
   "execution_count": null,
   "metadata": {
    "execution": {
     "iopub.execute_input": "2021-01-01T18:53:47.670407Z",
     "iopub.status.busy": "2021-01-01T18:53:47.669778Z",
     "iopub.status.idle": "2021-01-01T18:53:47.690652Z",
     "shell.execute_reply": "2021-01-01T18:53:47.690985Z"
    },
    "papermill": {
     "duration": 0.156191,
     "end_time": "2021-01-01T18:53:47.691114",
     "exception": false,
     "start_time": "2021-01-01T18:53:47.534923",
     "status": "completed"
    },
    "tags": []
   },
   "outputs": [],
   "source": [
    "cheap_rest=zomato[['rest_name','cost', 'loc','rest_type','cuisine','delivery_rating', 'dine_rating', 'delivery_reviews', 'dine_reviews']]\n",
    "cheap_rest=cheap_rest[(cheap_rest['cost'] <1000) & ( ( cheap_rest['dine_rating'] > 4.3 )| (cheap_rest['delivery_rating'] > 4.3)) &  ((cheap_rest['delivery_reviews'] > 4000) | (cheap_rest['dine_reviews'] >4000))]\n",
    "cheap_rest.head(10)"
   ]
  },
  {
   "cell_type": "markdown",
   "metadata": {
    "papermill": {
     "duration": 0.103462,
     "end_time": "2021-01-01T18:53:47.899020",
     "exception": false,
     "start_time": "2021-01-01T18:53:47.795558",
     "status": "completed"
    },
    "tags": []
   },
   "source": [
    "# **Highly Rated and reviewed Expensive restaurants**"
   ]
  },
  {
   "cell_type": "code",
   "execution_count": null,
   "metadata": {
    "execution": {
     "iopub.execute_input": "2021-01-01T18:53:48.182270Z",
     "iopub.status.busy": "2021-01-01T18:53:48.181359Z",
     "iopub.status.idle": "2021-01-01T18:53:48.186767Z",
     "shell.execute_reply": "2021-01-01T18:53:48.186245Z"
    },
    "papermill": {
     "duration": 0.179977,
     "end_time": "2021-01-01T18:53:48.186886",
     "exception": false,
     "start_time": "2021-01-01T18:53:48.006909",
     "status": "completed"
    },
    "tags": []
   },
   "outputs": [],
   "source": [
    "exp_rest=zomato[['rest_name','cost','loc','rest_type','cuisine','delivery_rating','dine_rating','delivery_reviews','dine_reviews']]\n",
    "exp_rest=exp_rest[(exp_rest['cost'] > 2500) & ( (exp_rest['dine_rating'] > 4.0)| (exp_rest['delivery_rating'] > 4.0))&   ((exp_rest['delivery_reviews'] > 400) | (exp_rest['dine_reviews'] > 400))].sort_values(by=['dine_reviews'], ascending = False)\n",
    "exp_rest.head(20)\n"
   ]
  },
  {
   "cell_type": "markdown",
   "metadata": {
    "papermill": {
     "duration": 0.146226,
     "end_time": "2021-01-01T18:53:48.480959",
     "exception": false,
     "start_time": "2021-01-01T18:53:48.334733",
     "status": "completed"
    },
    "tags": []
   },
   "source": [
    "# **Interesting thing to note in Expensive restaurants is that none of them provide delivery.**"
   ]
  },
  {
   "cell_type": "markdown",
   "metadata": {
    "papermill": {
     "duration": 0.145092,
     "end_time": "2021-01-01T18:53:48.773897",
     "exception": false,
     "start_time": "2021-01-01T18:53:48.628805",
     "status": "completed"
    },
    "tags": []
   },
   "source": [
    "# **Cost Vs Rating**"
   ]
  },
  {
   "cell_type": "code",
   "execution_count": null,
   "metadata": {
    "papermill": {
     "duration": 0.144715,
     "end_time": "2021-01-01T18:53:49.064870",
     "exception": false,
     "start_time": "2021-01-01T18:53:48.920155",
     "status": "completed"
    },
    "tags": []
   },
   "outputs": [],
   "source": []
  },
  {
   "cell_type": "code",
   "execution_count": null,
   "metadata": {
    "execution": {
     "iopub.execute_input": "2021-01-01T18:53:49.367010Z",
     "iopub.status.busy": "2021-01-01T18:53:49.362475Z",
     "iopub.status.idle": "2021-01-01T18:53:49.576077Z",
     "shell.execute_reply": "2021-01-01T18:53:49.575274Z"
    },
    "papermill": {
     "duration": 0.365648,
     "end_time": "2021-01-01T18:53:49.576196",
     "exception": false,
     "start_time": "2021-01-01T18:53:49.210548",
     "status": "completed"
    },
    "tags": []
   },
   "outputs": [],
   "source": [
    "plt.figure(figsize=(10,7))\n",
    "sns.scatterplot(x=\"dine_rating\",y='cost',data=zomato)\n",
    "plt.show()"
   ]
  },
  {
   "cell_type": "markdown",
   "metadata": {
    "papermill": {
     "duration": 0.144702,
     "end_time": "2021-01-01T18:53:49.869862",
     "exception": false,
     "start_time": "2021-01-01T18:53:49.725160",
     "status": "completed"
    },
    "tags": []
   },
   "source": []
  },
  {
   "cell_type": "markdown",
   "metadata": {
    "papermill": {
     "duration": 0.148828,
     "end_time": "2021-01-01T18:53:50.164728",
     "exception": false,
     "start_time": "2021-01-01T18:53:50.015900",
     "status": "completed"
    },
    "tags": []
   },
   "source": [
    "# *** Distribution of cost ******"
   ]
  },
  {
   "cell_type": "code",
   "execution_count": null,
   "metadata": {
    "execution": {
     "iopub.execute_input": "2021-01-01T18:53:50.481984Z",
     "iopub.status.busy": "2021-01-01T18:53:50.474887Z",
     "iopub.status.idle": "2021-01-01T18:53:50.698892Z",
     "shell.execute_reply": "2021-01-01T18:53:50.698224Z"
    },
    "papermill": {
     "duration": 0.383408,
     "end_time": "2021-01-01T18:53:50.699003",
     "exception": false,
     "start_time": "2021-01-01T18:53:50.315595",
     "status": "completed"
    },
    "tags": []
   },
   "outputs": [],
   "source": [
    "plt.figure(figsize=(6,6))\n",
    "sns.distplot(zomato['cost'])\n",
    "plt.show()"
   ]
  },
  {
   "cell_type": "markdown",
   "metadata": {
    "papermill": {
     "duration": 0.149223,
     "end_time": "2021-01-01T18:53:50.999530",
     "exception": false,
     "start_time": "2021-01-01T18:53:50.850307",
     "status": "completed"
    },
    "tags": []
   },
   "source": [
    "***** We can see that the distribution if left skewed.\n",
    "* This means almost 90percent of restaurants serve food for budget less than 1000 INR."
   ]
  },
  {
   "cell_type": "code",
   "execution_count": null,
   "metadata": {
    "papermill": {
     "duration": 0.150399,
     "end_time": "2021-01-01T18:53:51.303351",
     "exception": false,
     "start_time": "2021-01-01T18:53:51.152952",
     "status": "completed"
    },
    "tags": []
   },
   "outputs": [],
   "source": []
  }
 ],
 "metadata": {
  "kernelspec": {
   "display_name": "Python 3",
   "language": "python",
   "name": "python3"
  },
  "language_info": {
   "codemirror_mode": {
    "name": "ipython",
    "version": 3
   },
   "file_extension": ".py",
   "mimetype": "text/x-python",
   "name": "python",
   "nbconvert_exporter": "python",
   "pygments_lexer": "ipython3",
   "version": "3.8.5"
  },
  "papermill": {
   "duration": 50.802971,
   "end_time": "2021-01-01T18:53:51.561827",
   "environment_variables": {},
   "exception": null,
   "input_path": "__notebook__.ipynb",
   "output_path": "__notebook__.ipynb",
   "parameters": {},
   "start_time": "2021-01-01T18:53:00.758856",
   "version": "2.1.0"
  }
 },
 "nbformat": 4,
 "nbformat_minor": 4
}
