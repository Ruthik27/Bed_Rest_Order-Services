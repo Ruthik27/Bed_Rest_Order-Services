{
 "cells": [
  {
   "cell_type": "markdown",
   "metadata": {},
   "source": [
    "## Required lib and modules"
   ]
  },
  {
   "cell_type": "code",
   "execution_count": 2,
   "metadata": {},
   "outputs": [],
   "source": [
    "import pandas as pd\n",
    "import matplotlib.pyplot as plt\n",
    "import numpy as np\n",
    "import re"
   ]
  },
  {
   "cell_type": "markdown",
   "metadata": {},
   "source": [
    "## Importing Data files"
   ]
  },
  {
   "cell_type": "code",
   "execution_count": 13,
   "metadata": {},
   "outputs": [],
   "source": [
    "baner = pd.read_excel('data_source/Baner_cleaned.xlsx')\n",
    "bavdhan = pd.read_excel('data_source/Bavdhan_cleaned.xlsx')\n",
    "hinjewadi = pd.read_excel('data_source/Hinjawadi_cleaned.xlsx')\n",
    "wakad = pd.read_excel('data_source/Wakad_cleaned.xlsx')"
   ]
  },
  {
   "cell_type": "markdown",
   "metadata": {},
   "source": [
    "## Handling Data Files"
   ]
  },
  {
   "cell_type": "code",
   "execution_count": 14,
   "metadata": {},
   "outputs": [],
   "source": [
    "baner['locality'] = 'Baner'\n",
    "bavdhan['locality'] = 'Bavdhan'\n",
    "hinjewadi['locality'] = 'Hinjewadi'\n",
    "wakad['locality'] = 'Wakad'"
   ]
  },
  {
   "cell_type": "code",
   "execution_count": 15,
   "metadata": {},
   "outputs": [],
   "source": [
    "baner_copy = baner.copy()\n",
    "baner_copy =baner_copy.reindex(columns = ['Name', 'locality', 'ratings','off','delivery_reviews','cuisine'])\n",
    "\n",
    "bavdhan_copy = bavdhan.copy()\n",
    "bavdhan_copy =bavdhan_copy.reindex(columns = ['Name', 'locality', 'ratings','off','delivery_reviews','cuisine'])\n",
    "\n",
    "hinjewadi_copy = hinjewadi.copy()\n",
    "hinjewadi_copy =hinjewadi_copy.reindex(columns = ['Name', 'locality', 'ratings','off','delivery_reviews','cuisine'])\n",
    "\n",
    "wakad_copy = wakad.copy()\n",
    "wakad_copy =wakad_copy.reindex(columns = ['Name', 'locality', 'ratings','off','delivery_reviews','cuisine'])"
   ]
  },
  {
   "cell_type": "markdown",
   "metadata": {},
   "source": [
    "### Cleaning the delilvery reviews column"
   ]
  },
  {
   "cell_type": "code",
   "execution_count": 16,
   "metadata": {},
   "outputs": [],
   "source": [
    "baner_copy.delivery_reviews=baner_copy.delivery_reviews.str.replace('[(,),Not, , ,enough,Delivery,Reviews]','')\n",
    "bavdhan_copy.delivery_reviews=bavdhan_copy.delivery_reviews.str.replace('[(,),Not, , ,enough,Delivery,Reviews]','')\n",
    "hinjewadi_copy.delivery_reviews=hinjewadi_copy.delivery_reviews.str.replace('[(,),Not, , ,enough,Delivery,Reviews]','')\n",
    "wakad_copy.delivery_reviews=wakad_copy.delivery_reviews.str.replace('[(,),Not, , ,enough,Delivery,Reviews]','')"
   ]
  },
  {
   "cell_type": "markdown",
   "metadata": {
    "scrolled": true
   },
   "source": [
    "### Replacing value of K with 1000"
   ]
  },
  {
   "cell_type": "code",
   "execution_count": 17,
   "metadata": {},
   "outputs": [],
   "source": [
    "def value_to_float(x):\n",
    "    if type(x) == float or type(x) == int:\n",
    "        return x\n",
    "    if 'K' in x:\n",
    "        if len(x) > 1:\n",
    "            return float(x.replace('K', '')) * 1000\n",
    "        return 1000.0\n",
    "    return x\n",
    "baner_copy['delivery_reviews'] = baner_copy['delivery_reviews'].apply(value_to_float)\n",
    "bavdhan_copy['delivery_reviews'] = bavdhan_copy['delivery_reviews'].apply(value_to_float)\n",
    "hinjewadi_copy['delivery_reviews'] = hinjewadi_copy['delivery_reviews'].apply(value_to_float)\n",
    "wakad_copy['delivery_reviews'] = wakad_copy['delivery_reviews'].apply(value_to_float)"
   ]
  },
  {
   "cell_type": "code",
   "execution_count": 18,
   "metadata": {
    "scrolled": true
   },
   "outputs": [
    {
     "data": {
      "text/html": [
       "<div>\n",
       "<style scoped>\n",
       "    .dataframe tbody tr th:only-of-type {\n",
       "        vertical-align: middle;\n",
       "    }\n",
       "\n",
       "    .dataframe tbody tr th {\n",
       "        vertical-align: top;\n",
       "    }\n",
       "\n",
       "    .dataframe thead th {\n",
       "        text-align: right;\n",
       "    }\n",
       "</style>\n",
       "<table border=\"1\" class=\"dataframe\">\n",
       "  <thead>\n",
       "    <tr style=\"text-align: right;\">\n",
       "      <th></th>\n",
       "      <th>Name</th>\n",
       "      <th>locality</th>\n",
       "      <th>ratings</th>\n",
       "      <th>off</th>\n",
       "      <th>delivery_reviews</th>\n",
       "      <th>cuisine</th>\n",
       "    </tr>\n",
       "  </thead>\n",
       "  <tbody>\n",
       "    <tr>\n",
       "      <th>0</th>\n",
       "      <td>McDonald's</td>\n",
       "      <td>Baner</td>\n",
       "      <td>4.1</td>\n",
       "      <td>₹50 OFF</td>\n",
       "      <td>9810</td>\n",
       "      <td>Burger, Fast Food, Beverages</td>\n",
       "    </tr>\n",
       "    <tr>\n",
       "      <th>1</th>\n",
       "      <td>Nawab Asia</td>\n",
       "      <td>Baner</td>\n",
       "      <td>4.1</td>\n",
       "      <td>₹50 OFF</td>\n",
       "      <td>3054</td>\n",
       "      <td>North Indian, Chinese, Mughlai, Biryani, Desse...</td>\n",
       "    </tr>\n",
       "    <tr>\n",
       "      <th>2</th>\n",
       "      <td>Mithas</td>\n",
       "      <td>Baner</td>\n",
       "      <td>4.3</td>\n",
       "      <td>₹50 OFF</td>\n",
       "      <td>2262</td>\n",
       "      <td>Mithai, Street Food</td>\n",
       "    </tr>\n",
       "    <tr>\n",
       "      <th>3</th>\n",
       "      <td>Anna Idli</td>\n",
       "      <td>Baner</td>\n",
       "      <td>4.2</td>\n",
       "      <td>₹50 OFF</td>\n",
       "      <td>21800</td>\n",
       "      <td>South Indian, Beverages</td>\n",
       "    </tr>\n",
       "    <tr>\n",
       "      <th>4</th>\n",
       "      <td>Dadu's Sweet Emporio</td>\n",
       "      <td>Baner</td>\n",
       "      <td>4.3</td>\n",
       "      <td>₹50 OFF</td>\n",
       "      <td>4504</td>\n",
       "      <td>Mithai, Street Food, Ice Cream</td>\n",
       "    </tr>\n",
       "    <tr>\n",
       "      <th>...</th>\n",
       "      <td>...</td>\n",
       "      <td>...</td>\n",
       "      <td>...</td>\n",
       "      <td>...</td>\n",
       "      <td>...</td>\n",
       "      <td>...</td>\n",
       "    </tr>\n",
       "    <tr>\n",
       "      <th>1132</th>\n",
       "      <td>WYNKK</td>\n",
       "      <td>Baner</td>\n",
       "      <td>NaN</td>\n",
       "      <td>50% OFF</td>\n",
       "      <td></td>\n",
       "      <td>Bar Food, North Indian, Mughlai, Asian</td>\n",
       "    </tr>\n",
       "    <tr>\n",
       "      <th>1133</th>\n",
       "      <td>Ai Shiwu</td>\n",
       "      <td>Baner</td>\n",
       "      <td>3.6</td>\n",
       "      <td>50% OFF</td>\n",
       "      <td>1146</td>\n",
       "      <td>Chinese, Asian, Thai</td>\n",
       "    </tr>\n",
       "    <tr>\n",
       "      <th>1134</th>\n",
       "      <td>Mumbaian Pav Bhaji</td>\n",
       "      <td>Baner</td>\n",
       "      <td>3.2</td>\n",
       "      <td>50% OFF</td>\n",
       "      <td>46</td>\n",
       "      <td>Street Food</td>\n",
       "    </tr>\n",
       "    <tr>\n",
       "      <th>1135</th>\n",
       "      <td>Shree Datta Bhel</td>\n",
       "      <td>Baner</td>\n",
       "      <td>3.9</td>\n",
       "      <td>50% OFF</td>\n",
       "      <td>15</td>\n",
       "      <td>Street Food</td>\n",
       "    </tr>\n",
       "    <tr>\n",
       "      <th>1136</th>\n",
       "      <td>Eggie's</td>\n",
       "      <td>Baner</td>\n",
       "      <td>3.8</td>\n",
       "      <td>Pro extra 25% OFF</td>\n",
       "      <td>87</td>\n",
       "      <td>North Indian, Fast Food</td>\n",
       "    </tr>\n",
       "  </tbody>\n",
       "</table>\n",
       "<p>1137 rows × 6 columns</p>\n",
       "</div>"
      ],
      "text/plain": [
       "                      Name locality  ratings                off  \\\n",
       "0               McDonald's    Baner      4.1            ₹50 OFF   \n",
       "1               Nawab Asia    Baner      4.1            ₹50 OFF   \n",
       "2                   Mithas    Baner      4.3            ₹50 OFF   \n",
       "3                Anna Idli    Baner      4.2            ₹50 OFF   \n",
       "4     Dadu's Sweet Emporio    Baner      4.3            ₹50 OFF   \n",
       "...                    ...      ...      ...                ...   \n",
       "1132                 WYNKK    Baner      NaN            50% OFF   \n",
       "1133              Ai Shiwu    Baner      3.6            50% OFF   \n",
       "1134    Mumbaian Pav Bhaji    Baner      3.2            50% OFF   \n",
       "1135      Shree Datta Bhel    Baner      3.9            50% OFF   \n",
       "1136               Eggie's    Baner      3.8  Pro extra 25% OFF   \n",
       "\n",
       "     delivery_reviews                                            cuisine  \n",
       "0                9810                       Burger, Fast Food, Beverages  \n",
       "1                3054  North Indian, Chinese, Mughlai, Biryani, Desse...  \n",
       "2                2262                                Mithai, Street Food  \n",
       "3               21800                            South Indian, Beverages  \n",
       "4                4504                     Mithai, Street Food, Ice Cream  \n",
       "...               ...                                                ...  \n",
       "1132                              Bar Food, North Indian, Mughlai, Asian  \n",
       "1133             1146                               Chinese, Asian, Thai  \n",
       "1134               46                                        Street Food  \n",
       "1135               15                                        Street Food  \n",
       "1136               87                            North Indian, Fast Food  \n",
       "\n",
       "[1137 rows x 6 columns]"
      ]
     },
     "execution_count": 18,
     "metadata": {},
     "output_type": "execute_result"
    }
   ],
   "source": [
    "baner_copy"
   ]
  },
  {
   "cell_type": "markdown",
   "metadata": {},
   "source": [
    "### HANDLING BANER DATA SET"
   ]
  },
  {
   "cell_type": "markdown",
   "metadata": {},
   "source": [
    "### Dropping NAN values"
   ]
  },
  {
   "cell_type": "code",
   "execution_count": 19,
   "metadata": {},
   "outputs": [
    {
     "data": {
      "text/html": [
       "<div>\n",
       "<style scoped>\n",
       "    .dataframe tbody tr th:only-of-type {\n",
       "        vertical-align: middle;\n",
       "    }\n",
       "\n",
       "    .dataframe tbody tr th {\n",
       "        vertical-align: top;\n",
       "    }\n",
       "\n",
       "    .dataframe thead th {\n",
       "        text-align: right;\n",
       "    }\n",
       "</style>\n",
       "<table border=\"1\" class=\"dataframe\">\n",
       "  <thead>\n",
       "    <tr style=\"text-align: right;\">\n",
       "      <th></th>\n",
       "      <th>Name</th>\n",
       "      <th>locality</th>\n",
       "      <th>ratings</th>\n",
       "      <th>off</th>\n",
       "      <th>delivery_reviews</th>\n",
       "      <th>cuisine</th>\n",
       "    </tr>\n",
       "  </thead>\n",
       "  <tbody>\n",
       "    <tr>\n",
       "      <th>0</th>\n",
       "      <td>Domino's Pizza</td>\n",
       "      <td>Bavdhan</td>\n",
       "      <td>4.2</td>\n",
       "      <td>Pro extra 15% OFF</td>\n",
       "      <td>6291</td>\n",
       "      <td>Pizza, Fast Food, Desserts, Beverages</td>\n",
       "    </tr>\n",
       "    <tr>\n",
       "      <th>1</th>\n",
       "      <td>Kinara's Maratha Darbar</td>\n",
       "      <td>Bavdhan</td>\n",
       "      <td>3.9</td>\n",
       "      <td>50% OFF</td>\n",
       "      <td>1507</td>\n",
       "      <td>Maharashtrian, Chinese, North Indian, Biryani</td>\n",
       "    </tr>\n",
       "    <tr>\n",
       "      <th>2</th>\n",
       "      <td>Palavi</td>\n",
       "      <td>Bavdhan</td>\n",
       "      <td>4.1</td>\n",
       "      <td>Pro extra 15% OFF</td>\n",
       "      <td>8144</td>\n",
       "      <td>Chinese, Fast Food, North Indian, South Indian...</td>\n",
       "    </tr>\n",
       "    <tr>\n",
       "      <th>3</th>\n",
       "      <td>Giridhar</td>\n",
       "      <td>Bavdhan</td>\n",
       "      <td>4.1</td>\n",
       "      <td>Pro extra 15% OFF</td>\n",
       "      <td>11100</td>\n",
       "      <td>North Indian, South Indian, Maharashtrian</td>\n",
       "    </tr>\n",
       "    <tr>\n",
       "      <th>4</th>\n",
       "      <td>Sujata Mastani</td>\n",
       "      <td>Bavdhan</td>\n",
       "      <td>4.2</td>\n",
       "      <td>Pro extra 10% OFF</td>\n",
       "      <td>132</td>\n",
       "      <td>Beverages, Desserts, Ice Cream</td>\n",
       "    </tr>\n",
       "    <tr>\n",
       "      <th>...</th>\n",
       "      <td>...</td>\n",
       "      <td>...</td>\n",
       "      <td>...</td>\n",
       "      <td>...</td>\n",
       "      <td>...</td>\n",
       "      <td>...</td>\n",
       "    </tr>\n",
       "    <tr>\n",
       "      <th>829</th>\n",
       "      <td>Rolling Bistro</td>\n",
       "      <td>Bavdhan</td>\n",
       "      <td>4.2</td>\n",
       "      <td>50% OFF</td>\n",
       "      <td>168</td>\n",
       "      <td>Fast Food, Burger</td>\n",
       "    </tr>\n",
       "    <tr>\n",
       "      <th>830</th>\n",
       "      <td>Peter's Momo Center</td>\n",
       "      <td>Bavdhan</td>\n",
       "      <td>4.4</td>\n",
       "      <td>50% OFF</td>\n",
       "      <td>497</td>\n",
       "      <td>Momos</td>\n",
       "    </tr>\n",
       "    <tr>\n",
       "      <th>831</th>\n",
       "      <td>Hotel Marathwada</td>\n",
       "      <td>Bavdhan</td>\n",
       "      <td>3.3</td>\n",
       "      <td>50% OFF</td>\n",
       "      <td>175</td>\n",
       "      <td>North Indian, Maharashtrian</td>\n",
       "    </tr>\n",
       "    <tr>\n",
       "      <th>832</th>\n",
       "      <td>D Palace</td>\n",
       "      <td>Bavdhan</td>\n",
       "      <td>3.8</td>\n",
       "      <td>50% OFF</td>\n",
       "      <td>1067</td>\n",
       "      <td>North Indian, Chinese, Seafood, Mughlai, Desserts</td>\n",
       "    </tr>\n",
       "    <tr>\n",
       "      <th>833</th>\n",
       "      <td>Indore Poha And Diet Poha</td>\n",
       "      <td>Bavdhan</td>\n",
       "      <td>3.3</td>\n",
       "      <td>50% OFF</td>\n",
       "      <td>23</td>\n",
       "      <td>Street Food</td>\n",
       "    </tr>\n",
       "  </tbody>\n",
       "</table>\n",
       "<p>617 rows × 6 columns</p>\n",
       "</div>"
      ],
      "text/plain": [
       "                          Name locality  ratings                off  \\\n",
       "0               Domino's Pizza  Bavdhan      4.2  Pro extra 15% OFF   \n",
       "1      Kinara's Maratha Darbar  Bavdhan      3.9            50% OFF   \n",
       "2                       Palavi  Bavdhan      4.1  Pro extra 15% OFF   \n",
       "3                     Giridhar  Bavdhan      4.1  Pro extra 15% OFF   \n",
       "4               Sujata Mastani  Bavdhan      4.2  Pro extra 10% OFF   \n",
       "..                         ...      ...      ...                ...   \n",
       "829             Rolling Bistro  Bavdhan      4.2            50% OFF   \n",
       "830        Peter's Momo Center  Bavdhan      4.4            50% OFF   \n",
       "831           Hotel Marathwada  Bavdhan      3.3            50% OFF   \n",
       "832                   D Palace  Bavdhan      3.8            50% OFF   \n",
       "833  Indore Poha And Diet Poha  Bavdhan      3.3            50% OFF   \n",
       "\n",
       "    delivery_reviews                                            cuisine  \n",
       "0               6291              Pizza, Fast Food, Desserts, Beverages  \n",
       "1               1507      Maharashtrian, Chinese, North Indian, Biryani  \n",
       "2               8144  Chinese, Fast Food, North Indian, South Indian...  \n",
       "3              11100          North Indian, South Indian, Maharashtrian  \n",
       "4                132                     Beverages, Desserts, Ice Cream  \n",
       "..               ...                                                ...  \n",
       "829              168                                  Fast Food, Burger  \n",
       "830              497                                              Momos  \n",
       "831              175                        North Indian, Maharashtrian  \n",
       "832             1067  North Indian, Chinese, Seafood, Mughlai, Desserts  \n",
       "833               23                                        Street Food  \n",
       "\n",
       "[617 rows x 6 columns]"
      ]
     },
     "execution_count": 19,
     "metadata": {},
     "output_type": "execute_result"
    }
   ],
   "source": [
    "bavdhan_ratings"
   ]
  },
  {
   "cell_type": "code",
   "execution_count": 20,
   "metadata": {},
   "outputs": [],
   "source": [
    "baner_ratings = baner_copy.dropna(subset=['ratings','delivery_reviews'])\n",
    "baner_ratings = baner_ratings[baner_ratings.delivery_reviews != '']\n",
    "\n",
    "bavdhan_ratings = bavdhan_copy.dropna(subset=['ratings','delivery_reviews'])\n",
    "bavdhan_ratings = bavdhan_ratings[bavdhan_ratings.delivery_reviews != '']\n",
    "\n",
    "hinjewadi_ratings = hinjewadi_copy.dropna(subset=['ratings','delivery_reviews'])\n",
    "hinjewadi_ratings = hinjewadi_ratings[hinjewadi_ratings.delivery_reviews != '']\n",
    "\n",
    "wakad_ratings = wakad_copy.dropna(subset=['ratings','delivery_reviews'])\n",
    "wakad_ratings = wakad_ratings[wakad_ratings.delivery_reviews != '']"
   ]
  },
  {
   "cell_type": "markdown",
   "metadata": {},
   "source": [
    "### Converting the Values to Integers"
   ]
  },
  {
   "cell_type": "code",
   "execution_count": 21,
   "metadata": {},
   "outputs": [],
   "source": [
    "def clean(x):\n",
    "    try:\n",
    "        return float(x)\n",
    "    except:\n",
    "        return np.NaN\n",
    "baner_ratings['delivery_reviews']  = baner_ratings['delivery_reviews'].apply(clean)\n",
    "bavdhan_ratings['delivery_reviews']  = bavdhan_ratings['delivery_reviews'].apply(clean)\n",
    "hinjewadi_ratings['delivery_reviews']  = hinjewadi_ratings['delivery_reviews'].apply(clean)\n",
    "wakad_ratings['delivery_reviews']  = wakad_ratings['delivery_reviews'].apply(clean)"
   ]
  },
  {
   "cell_type": "markdown",
   "metadata": {},
   "source": [
    "### Converting delivery values to range of 1-5"
   ]
  },
  {
   "cell_type": "code",
   "execution_count": 25,
   "metadata": {},
   "outputs": [
    {
     "data": {
      "text/plain": [
       "Name                                                    Zakkas\n",
       "locality                                                 Baner\n",
       "ratings                                                    4.5\n",
       "delivery_reviews                                         34700\n",
       "cuisine             Wraps, North Indian, Biryani, Healthy Food\n",
       "deliv                                                    86.79\n",
       "dtype: object"
      ]
     },
     "execution_count": 25,
     "metadata": {},
     "output_type": "execute_result"
    }
   ],
   "source": [
    "baner_ratings.max()"
   ]
  },
  {
   "cell_type": "code",
   "execution_count": 26,
   "metadata": {},
   "outputs": [
    {
     "data": {
      "text/plain": [
       "Name                                          Zillionth Bistro\n",
       "locality                                               Bavdhan\n",
       "ratings                                                    4.7\n",
       "delivery_reviews                                         21800\n",
       "cuisine             Wraps, North Indian, Biryani, Healthy Food\n",
       "dtype: object"
      ]
     },
     "execution_count": 26,
     "metadata": {},
     "output_type": "execute_result"
    }
   ],
   "source": [
    "bavdhan_ratings.max()"
   ]
  },
  {
   "cell_type": "code",
   "execution_count": 27,
   "metadata": {},
   "outputs": [
    {
     "data": {
      "text/plain": [
       "Name                                                    Zakkas\n",
       "locality                                             Hinjewadi\n",
       "ratings                                                    4.8\n",
       "delivery_reviews                                         18200\n",
       "cuisine             Wraps, North Indian, Biryani, Healthy Food\n",
       "dtype: object"
      ]
     },
     "execution_count": 27,
     "metadata": {},
     "output_type": "execute_result"
    }
   ],
   "source": [
    "hinjewadi_ratings.max()"
   ]
  },
  {
   "cell_type": "code",
   "execution_count": 28,
   "metadata": {},
   "outputs": [
    {
     "data": {
      "text/plain": [
       "Name                Zakkas\n",
       "locality             Wakad\n",
       "ratings                4.7\n",
       "delivery_reviews     24300\n",
       "cuisine                NaN\n",
       "dtype: object"
      ]
     },
     "execution_count": 28,
     "metadata": {},
     "output_type": "execute_result"
    }
   ],
   "source": [
    "wakad_ratings.max()"
   ]
  },
  {
   "cell_type": "code",
   "execution_count": null,
   "metadata": {},
   "outputs": [],
   "source": []
  },
  {
   "cell_type": "code",
   "execution_count": 29,
   "metadata": {},
   "outputs": [],
   "source": [
    "deliv = []\n",
    "for x in (baner_ratings['delivery_reviews']):\n",
    "    new_value = ( (x - 1.0) / (2000.0 - 1.0) ) * (5.0 - 0.0) + 0.0\n",
    "    new_value = round(new_value,2)\n",
    "    noob = float(new_value)\n",
    "    deliv.append(noob)\n",
    "baner_ratings.reset_index(inplace = True, drop = True)\n",
    "df = pd.DataFrame(deliv,columns=['deliv'])\n",
    "baner_ratings['deliv']= df['deliv']"
   ]
  },
  {
   "cell_type": "code",
   "execution_count": 30,
   "metadata": {},
   "outputs": [],
   "source": [
    "deliv = []\n",
    "for x in (bavdhan_ratings['delivery_reviews']):\n",
    "    new_value = ( (x - 1.0) / (2000.0 - 1.0) ) * (5.0 - 0.0) + 0.0\n",
    "    new_value = round(new_value,2)\n",
    "    noob = float(new_value)\n",
    "    deliv.append(noob)\n",
    "bavdhan_ratings.reset_index(inplace = True, drop = True)\n",
    "df = pd.DataFrame(deliv,columns=['deliv'])\n",
    "bavdhan_ratings['deliv']= df['deliv']"
   ]
  },
  {
   "cell_type": "code",
   "execution_count": 31,
   "metadata": {},
   "outputs": [],
   "source": [
    "deliv = []\n",
    "for x in (hinjewadi_ratings['delivery_reviews']):\n",
    "    new_value = ( (x - 1.0) / (00.0 - 1.0) ) * (5.0 - 0.0) + 0.0\n",
    "    new_value = round(new_value,2)\n",
    "    noob = float(new_value)\n",
    "    deliv.append(noob)\n",
    "hinjewadi_ratings.reset_index(inplace = True, drop = True)\n",
    "df = pd.DataFrame(deliv,columns=['deliv'])\n",
    "hinjewadi_ratings['deliv']= df['deliv']"
   ]
  },
  {
   "cell_type": "code",
   "execution_count": 32,
   "metadata": {},
   "outputs": [],
   "source": [
    "deliv = []\n",
    "for x in (wakad_ratings['delivery_reviews']):\n",
    "    new_value = ( (x - 1.0) / (2000.0 - 1.0) ) * (5.0 - 0.0) + 0.0\n",
    "    new_value = round(new_value,2)\n",
    "    noob = float(new_value)\n",
    "    deliv.append(noob)\n",
    "wakad_ratings.reset_index(inplace = True, drop = True)\n",
    "df = pd.DataFrame(deliv,columns=['deliv'])\n",
    "wakad_ratings['deliv']= df['deliv']"
   ]
  },
  {
   "cell_type": "code",
   "execution_count": null,
   "metadata": {},
   "outputs": [],
   "source": []
  },
  {
   "cell_type": "code",
   "execution_count": null,
   "metadata": {},
   "outputs": [],
   "source": [
    "baner_ratings"
   ]
  },
  {
   "cell_type": "markdown",
   "metadata": {},
   "source": [
    "### Making different sets of data"
   ]
  },
  {
   "cell_type": "code",
   "execution_count": null,
   "metadata": {},
   "outputs": [],
   "source": [
    "above_four =  baner_ratings.loc[(baner_ratings.ratings > 4.0)]\n",
    "above_four.reset_index(inplace = True, drop = True)\n",
    "above_three = baner_ratings.loc[(baner_ratings.ratings >3.0) & (baner_ratings.ratings < 4.0)]\n",
    "above_three.reset_index(inplace = True, drop = True)\n",
    "above_two = baner_ratings.loc[(baner_ratings.ratings >2.0) & (baner_ratings.ratings < 3.0)]\n",
    "above_two.reset_index(inplace = True, drop = True)\n",
    "above_one = baner_ratings.loc[(baner_ratings.ratings >1.0) & (baner_ratings.ratings < 2.0)]\n",
    "above_one.reset_index(inplace = True, drop = True)"
   ]
  },
  {
   "cell_type": "code",
   "execution_count": null,
   "metadata": {},
   "outputs": [],
   "source": [
    "baner_ratings.describe()"
   ]
  },
  {
   "cell_type": "markdown",
   "metadata": {},
   "source": [
    "#### --------------------------------------------------------------------------------------------------------------------------------------------------"
   ]
  },
  {
   "cell_type": "markdown",
   "metadata": {},
   "source": [
    "## HANDLING BAVDHAN DATA SET"
   ]
  },
  {
   "cell_type": "code",
   "execution_count": null,
   "metadata": {},
   "outputs": [],
   "source": [
    "bavdhan_copy.info()"
   ]
  },
  {
   "cell_type": "markdown",
   "metadata": {},
   "source": [
    "## HANDLING HINJEWADI DATA SET"
   ]
  },
  {
   "cell_type": "code",
   "execution_count": null,
   "metadata": {},
   "outputs": [],
   "source": [
    "hinjewadi_copy.info()"
   ]
  },
  {
   "cell_type": "markdown",
   "metadata": {},
   "source": [
    "## HANDLING WAKAD DATA SET"
   ]
  },
  {
   "cell_type": "code",
   "execution_count": null,
   "metadata": {},
   "outputs": [],
   "source": [
    "wakad_copy.info()"
   ]
  },
  {
   "cell_type": "code",
   "execution_count": null,
   "metadata": {},
   "outputs": [],
   "source": []
  },
  {
   "cell_type": "code",
   "execution_count": null,
   "metadata": {},
   "outputs": [],
   "source": [
    "plt.bar(above_four['Name'],above_four['ratings'])\n",
    "plt.bar(above_four['Name'],above_four['ratings'])\n"
   ]
  },
  {
   "cell_type": "code",
   "execution_count": 34,
   "metadata": {},
   "outputs": [
    {
     "data": {
      "image/png": "[encoded data removed]",
      "text/plain": [
       "<Figure size 432x288 with 1 Axes>"
      ]
     },
     "metadata": {
      "needs_background": "light"
     },
     "output_type": "display_data"
    }
   ],
   "source": [
    "x = baner_ratings['Name']\n",
    "y1 = baner_ratings['ratings']\n",
    "y2 = baner_ratings['deliv']\n",
    "\n",
    "\n",
    "plt.bar(x, y1, color='r')\n",
    "plt.bar(x, y2, bottom=y1, color='b')\n",
    "plt.show()"
   ]
  },
  {
   "cell_type": "code",
   "execution_count": null,
   "metadata": {},
   "outputs": [],
   "source": [
    "\n",
    "above_four.plot.bar(stacked =True)\n",
    "labels = [above_four['Name']]\n",
    "men_means = [above_four['ratings']]\n",
    "women_means = [above_four['deliv']]\n",
    "#men_std = [2, 3, 4, 1, 2]\n",
    "#women_std = [3, 5, 2, 3, 3]\n",
    "width = 0.35       # the width of the bars: can also be len(x) sequence\n",
    "​\n",
    "fig, ax = plt.subplots()\n",
    "​\n",
    "ax.bar(labels, men_means, width, label='Men')\n",
    "ax.bar(labels, women_means, width, bottom=men_means,\n",
    "       label='Women')\n",
    "​\n",
    "ax.set_ylabel('Scores')\n",
    "ax.set_title('Scores by group and gender')\n",
    "ax.legend()\n",
    "​\n",
    "plt.show()\n",
    "\n",
    "import matplotlib.pyplot as plt\n",
    "A = [above_four['ratings']]\n",
    "B = [above_four['deliv']]\n",
    "Pos = range(4)\n",
    "plt.bar(Pos, A)\n",
    "plt.bar(Pos, B, bottom = A)\n",
    "plt.show()"
   ]
  },
  {
   "cell_type": "markdown",
   "metadata": {},
   "source": [
    "## Ratings null and Not null count"
   ]
  },
  {
   "cell_type": "markdown",
   "metadata": {},
   "source": [
    "### BANER"
   ]
  },
  {
   "cell_type": "code",
   "execution_count": null,
   "metadata": {},
   "outputs": [],
   "source": [
    "print('Null values in Baner data set:', baner_copy['ratings'].isna().sum())"
   ]
  },
  {
   "cell_type": "code",
   "execution_count": null,
   "metadata": {},
   "outputs": [],
   "source": [
    "baner_copy['ratings'].notnull().sum()"
   ]
  },
  {
   "cell_type": "markdown",
   "metadata": {},
   "source": [
    "### BAVDHAN"
   ]
  },
  {
   "cell_type": "code",
   "execution_count": null,
   "metadata": {},
   "outputs": [],
   "source": [
    "bavdhan_copy['ratings'].isna().sum()"
   ]
  },
  {
   "cell_type": "code",
   "execution_count": null,
   "metadata": {},
   "outputs": [],
   "source": [
    "bavdhan_copy['ratings'].notnull().sum()"
   ]
  },
  {
   "cell_type": "markdown",
   "metadata": {},
   "source": [
    "### HINJEWADI"
   ]
  },
  {
   "cell_type": "code",
   "execution_count": null,
   "metadata": {},
   "outputs": [],
   "source": [
    "hinjewadi_copy['ratings'].isna().sum()"
   ]
  },
  {
   "cell_type": "code",
   "execution_count": null,
   "metadata": {},
   "outputs": [],
   "source": [
    "hinjewadi_copy['ratings'].notnull().sum()"
   ]
  },
  {
   "cell_type": "markdown",
   "metadata": {},
   "source": [
    "### WAKAD"
   ]
  },
  {
   "cell_type": "code",
   "execution_count": null,
   "metadata": {},
   "outputs": [],
   "source": [
    "wakad_copy['ratings'].isna().sum()"
   ]
  },
  {
   "cell_type": "code",
   "execution_count": null,
   "metadata": {},
   "outputs": [],
   "source": [
    "wakad_copy['ratings'].notnull().sum()"
   ]
  },
  {
   "cell_type": "code",
   "execution_count": null,
   "metadata": {},
   "outputs": [],
   "source": [
    "baner_ratings.isna().sum()"
   ]
  },
  {
   "cell_type": "code",
   "execution_count": null,
   "metadata": {},
   "outputs": [],
   "source": [
    "baner_copy.isnull().sum()"
   ]
  },
  {
   "cell_type": "code",
   "execution_count": null,
   "metadata": {},
   "outputs": [],
   "source": []
  }
 ],
 "metadata": {
  "kernelspec": {
   "display_name": "Python 3",
   "language": "python",
   "name": "python3"
  },
  "language_info": {
   "codemirror_mode": {
    "name": "ipython",
    "version": 3
   },
   "file_extension": ".py",
   "mimetype": "text/x-python",
   "name": "python",
   "nbconvert_exporter": "python",
   "pygments_lexer": "ipython3",
   "version": "3.8.5"
  }
 },
 "nbformat": 4,
 "nbformat_minor": 4
}
