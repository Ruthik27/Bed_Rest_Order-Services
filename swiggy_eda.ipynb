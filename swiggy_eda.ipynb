{
 "cells": [
  {
   "cell_type": "markdown",
   "metadata": {},
   "source": []
  },
  {
   "cell_type": "markdown",
   "metadata": {},
   "source": [
    "### Required Libs and Modules"
   ]
  },
  {
   "cell_type": "code",
   "execution_count": 1,
   "metadata": {},
   "outputs": [],
   "source": [
    "import pandas as pd"
   ]
  },
  {
   "cell_type": "markdown",
   "metadata": {},
   "source": [
    "### Reading the csv files and Combining "
   ]
  },
  {
   "cell_type": "code",
   "execution_count": 23,
   "metadata": {},
   "outputs": [],
   "source": [
    "baner = pd.read_csv('data_source/Swiggy_Data_baner.csv')\n",
    "hinjewadi = pd.read_csv('data_source/Swiggy_Data_hinjewadi.csv')\n",
    "hinjewadi_phase3 = pd.read_csv('data_source/Swiggy_Data_hinjewadi_phase3.csv')\n",
    "pcmc = pd.read_csv('data_source/Swiggy_Data_pcmc.csv')\n",
    "wakad = pd.read_csv('data_source/Swiggy_Data_wakad.csv')"
   ]
  },
  {
   "cell_type": "code",
   "execution_count": 24,
   "metadata": {},
   "outputs": [],
   "source": [
    "baner['locality'] = 'Baner'\n",
    "hinjewadi['locality'] = 'Hinjewadi'\n",
    "hinjewadi_phase3['locality'] = 'Hinjewadi_phase3'\n",
    "pcmc['locality'] = 'Pcmc'\n",
    "wakad['locality'] = 'Wakad'"
   ]
  },
  {
   "cell_type": "code",
   "execution_count": 25,
   "metadata": {},
   "outputs": [],
   "source": [
    "combine = pd.concat([baner,hinjewadi,hinjewadi_phase3,pcmc,wakad])\n",
    "combine.reset_index(inplace = True, drop = True)"
   ]
  },
  {
   "cell_type": "code",
   "execution_count": 26,
   "metadata": {},
   "outputs": [],
   "source": [
    "combine=combine.rename(columns = {'details':'url',\n",
    "                                'title':'name',\n",
    "                               'spec':'cuisine',\n",
    "                                'ratt':'details'})"
   ]
  },
  {
   "cell_type": "markdown",
   "metadata": {},
   "source": [
    "### Adding new columns by spliting previous"
   ]
  },
  {
   "cell_type": "code",
   "execution_count": 27,
   "metadata": {},
   "outputs": [],
   "source": [
    "combine['ratings'] =  combine.details.str.split('•').str[0]\n",
    "combine['time'] =  combine.details.str.split('•').str[1]\n",
    "combine['price_for2'] =  combine.details.str.split('•').str[2]"
   ]
  },
  {
   "cell_type": "markdown",
   "metadata": {},
   "source": [
    "### Dropping unrequired columns"
   ]
  },
  {
   "cell_type": "code",
   "execution_count": 28,
   "metadata": {},
   "outputs": [],
   "source": [
    "combine = combine.drop(['url', 'details'], axis = 1)"
   ]
  },
  {
   "cell_type": "markdown",
   "metadata": {},
   "source": [
    "### Filtering and sorting values"
   ]
  },
  {
   "cell_type": "code",
   "execution_count": 29,
   "metadata": {},
   "outputs": [],
   "source": [
    "combine.ratings=combine.ratings.str.replace('[--]','0')\n",
    "combine.price_for2=combine.price_for2.str.replace('[₹,FOR,TWO, , ]','')"
   ]
  },
  {
   "cell_type": "code",
   "execution_count": 30,
   "metadata": {},
   "outputs": [],
   "source": [
    "combine[\"ratings\"]=combine[\"ratings\"].apply(float)\n",
    "combine[\"price_for2\"]=combine[\"price_for2\"].apply(float)"
   ]
  },
  {
   "cell_type": "code",
   "execution_count": 31,
   "metadata": {},
   "outputs": [],
   "source": [
    "combine['name'] = combine['name'].str.title()"
   ]
  },
  {
   "cell_type": "code",
   "execution_count": 32,
   "metadata": {},
   "outputs": [
    {
     "data": {
      "text/html": [
       "<div>\n",
       "<style scoped>\n",
       "    .dataframe tbody tr th:only-of-type {\n",
       "        vertical-align: middle;\n",
       "    }\n",
       "\n",
       "    .dataframe tbody tr th {\n",
       "        vertical-align: top;\n",
       "    }\n",
       "\n",
       "    .dataframe thead th {\n",
       "        text-align: right;\n",
       "    }\n",
       "</style>\n",
       "<table border=\"1\" class=\"dataframe\">\n",
       "  <thead>\n",
       "    <tr style=\"text-align: right;\">\n",
       "      <th></th>\n",
       "      <th>name</th>\n",
       "      <th>cuisine</th>\n",
       "      <th>locality</th>\n",
       "      <th>ratings</th>\n",
       "      <th>time</th>\n",
       "      <th>price_for2</th>\n",
       "    </tr>\n",
       "  </thead>\n",
       "  <tbody>\n",
       "    <tr>\n",
       "      <th>0</th>\n",
       "      <td>Lkd | La Kheer Deli</td>\n",
       "      <td>Desserts</td>\n",
       "      <td>Baner</td>\n",
       "      <td>4.5</td>\n",
       "      <td>-- MINS</td>\n",
       "      <td>200.0</td>\n",
       "    </tr>\n",
       "    <tr>\n",
       "      <th>1</th>\n",
       "      <td>Desi Handi</td>\n",
       "      <td>North Indian, Chinese, Biryani, Snacks, Tandoo...</td>\n",
       "      <td>Baner</td>\n",
       "      <td>3.3</td>\n",
       "      <td>-- MINS</td>\n",
       "      <td>250.0</td>\n",
       "    </tr>\n",
       "    <tr>\n",
       "      <th>2</th>\n",
       "      <td>The Quick Wok</td>\n",
       "      <td>Chinese, Thai</td>\n",
       "      <td>Baner</td>\n",
       "      <td>4.0</td>\n",
       "      <td>-- MINS</td>\n",
       "      <td>300.0</td>\n",
       "    </tr>\n",
       "    <tr>\n",
       "      <th>3</th>\n",
       "      <td>Flavours Of Andhra</td>\n",
       "      <td>Biryani</td>\n",
       "      <td>Baner</td>\n",
       "      <td>3.5</td>\n",
       "      <td>-- MINS</td>\n",
       "      <td>600.0</td>\n",
       "    </tr>\n",
       "    <tr>\n",
       "      <th>4</th>\n",
       "      <td>Godavari Ruchulu</td>\n",
       "      <td>North Indian, Chinese, Beverages, Indian, Biryani</td>\n",
       "      <td>Baner</td>\n",
       "      <td>3.8</td>\n",
       "      <td>-- MINS</td>\n",
       "      <td>600.0</td>\n",
       "    </tr>\n",
       "    <tr>\n",
       "      <th>...</th>\n",
       "      <td>...</td>\n",
       "      <td>...</td>\n",
       "      <td>...</td>\n",
       "      <td>...</td>\n",
       "      <td>...</td>\n",
       "      <td>...</td>\n",
       "    </tr>\n",
       "    <tr>\n",
       "      <th>1458</th>\n",
       "      <td>Royal Aromas Biryani</td>\n",
       "      <td>Biryani, Indian</td>\n",
       "      <td>Wakad</td>\n",
       "      <td>0.0</td>\n",
       "      <td>-- MINS</td>\n",
       "      <td>200.0</td>\n",
       "    </tr>\n",
       "    <tr>\n",
       "      <th>1459</th>\n",
       "      <td>Paan Aroma</td>\n",
       "      <td>Paan</td>\n",
       "      <td>Wakad</td>\n",
       "      <td>0.0</td>\n",
       "      <td>-- MINS</td>\n",
       "      <td>100.0</td>\n",
       "    </tr>\n",
       "    <tr>\n",
       "      <th>1460</th>\n",
       "      <td>The Chinese Delight By Tiffina</td>\n",
       "      <td>Asian, Chinese</td>\n",
       "      <td>Wakad</td>\n",
       "      <td>0.0</td>\n",
       "      <td>-- MINS</td>\n",
       "      <td>400.0</td>\n",
       "    </tr>\n",
       "    <tr>\n",
       "      <th>1461</th>\n",
       "      <td>Masterchef</td>\n",
       "      <td>Indian, Biryani, Beverages, Desserts</td>\n",
       "      <td>Wakad</td>\n",
       "      <td>0.0</td>\n",
       "      <td>-- MINS</td>\n",
       "      <td>250.0</td>\n",
       "    </tr>\n",
       "    <tr>\n",
       "      <th>1462</th>\n",
       "      <td>Aab O Daana</td>\n",
       "      <td>Mughlai</td>\n",
       "      <td>Wakad</td>\n",
       "      <td>0.0</td>\n",
       "      <td>-- MINS</td>\n",
       "      <td>400.0</td>\n",
       "    </tr>\n",
       "  </tbody>\n",
       "</table>\n",
       "<p>1463 rows × 6 columns</p>\n",
       "</div>"
      ],
      "text/plain": [
       "                                name  \\\n",
       "0                Lkd | La Kheer Deli   \n",
       "1                         Desi Handi   \n",
       "2                      The Quick Wok   \n",
       "3                 Flavours Of Andhra   \n",
       "4                   Godavari Ruchulu   \n",
       "...                              ...   \n",
       "1458            Royal Aromas Biryani   \n",
       "1459                      Paan Aroma   \n",
       "1460  The Chinese Delight By Tiffina   \n",
       "1461                      Masterchef   \n",
       "1462                     Aab O Daana   \n",
       "\n",
       "                                                cuisine locality  ratings  \\\n",
       "0                                              Desserts    Baner      4.5   \n",
       "1     North Indian, Chinese, Biryani, Snacks, Tandoo...    Baner      3.3   \n",
       "2                                         Chinese, Thai    Baner      4.0   \n",
       "3                                               Biryani    Baner      3.5   \n",
       "4     North Indian, Chinese, Beverages, Indian, Biryani    Baner      3.8   \n",
       "...                                                 ...      ...      ...   \n",
       "1458                                    Biryani, Indian    Wakad      0.0   \n",
       "1459                                               Paan    Wakad      0.0   \n",
       "1460                                     Asian, Chinese    Wakad      0.0   \n",
       "1461               Indian, Biryani, Beverages, Desserts    Wakad      0.0   \n",
       "1462                                            Mughlai    Wakad      0.0   \n",
       "\n",
       "         time  price_for2  \n",
       "0     -- MINS       200.0  \n",
       "1     -- MINS       250.0  \n",
       "2     -- MINS       300.0  \n",
       "3     -- MINS       600.0  \n",
       "4     -- MINS       600.0  \n",
       "...       ...         ...  \n",
       "1458  -- MINS       200.0  \n",
       "1459  -- MINS       100.0  \n",
       "1460  -- MINS       400.0  \n",
       "1461  -- MINS       250.0  \n",
       "1462  -- MINS       400.0  \n",
       "\n",
       "[1463 rows x 6 columns]"
      ]
     },
     "execution_count": 32,
     "metadata": {},
     "output_type": "execute_result"
    }
   ],
   "source": [
    "combine"
   ]
  },
  {
   "cell_type": "code",
   "execution_count": 14,
   "metadata": {},
   "outputs": [
    {
     "name": "stdout",
     "output_type": "stream",
     "text": [
      "<class 'pandas.core.frame.DataFrame'>\n",
      "RangeIndex: 1463 entries, 0 to 1462\n",
      "Data columns (total 6 columns):\n",
      " #   Column      Non-Null Count  Dtype  \n",
      "---  ------      --------------  -----  \n",
      " 0   name        1463 non-null   object \n",
      " 1   cuisine     1463 non-null   object \n",
      " 2   locality    1463 non-null   object \n",
      " 3   ratings     1463 non-null   float64\n",
      " 4   time        1463 non-null   object \n",
      " 5   price_for2  1463 non-null   float64\n",
      "dtypes: float64(2), object(4)\n",
      "memory usage: 68.7+ KB\n"
     ]
    }
   ],
   "source": [
    "combine.info()"
   ]
  },
  {
   "cell_type": "code",
   "execution_count": 22,
   "metadata": {},
   "outputs": [
    {
     "data": {
      "text/html": [
       "<div>\n",
       "<style scoped>\n",
       "    .dataframe tbody tr th:only-of-type {\n",
       "        vertical-align: middle;\n",
       "    }\n",
       "\n",
       "    .dataframe tbody tr th {\n",
       "        vertical-align: top;\n",
       "    }\n",
       "\n",
       "    .dataframe thead th {\n",
       "        text-align: right;\n",
       "    }\n",
       "</style>\n",
       "<table border=\"1\" class=\"dataframe\">\n",
       "  <thead>\n",
       "    <tr style=\"text-align: right;\">\n",
       "      <th></th>\n",
       "      <th>name</th>\n",
       "      <th>cuisine</th>\n",
       "      <th>locality</th>\n",
       "      <th>ratings</th>\n",
       "      <th>time</th>\n",
       "      <th>price_for2</th>\n",
       "    </tr>\n",
       "  </thead>\n",
       "  <tbody>\n",
       "    <tr>\n",
       "      <th>count</th>\n",
       "      <td>1463</td>\n",
       "      <td>1463</td>\n",
       "      <td>1463</td>\n",
       "      <td>1463.000000</td>\n",
       "      <td>1463</td>\n",
       "      <td>1463.000000</td>\n",
       "    </tr>\n",
       "    <tr>\n",
       "      <th>unique</th>\n",
       "      <td>1238</td>\n",
       "      <td>643</td>\n",
       "      <td>5</td>\n",
       "      <td>NaN</td>\n",
       "      <td>1</td>\n",
       "      <td>NaN</td>\n",
       "    </tr>\n",
       "    <tr>\n",
       "      <th>top</th>\n",
       "      <td>Khadda Kombdi</td>\n",
       "      <td>Indian</td>\n",
       "      <td>Baner</td>\n",
       "      <td>NaN</td>\n",
       "      <td>-- MINS</td>\n",
       "      <td>NaN</td>\n",
       "    </tr>\n",
       "    <tr>\n",
       "      <th>freq</th>\n",
       "      <td>6</td>\n",
       "      <td>109</td>\n",
       "      <td>473</td>\n",
       "      <td>NaN</td>\n",
       "      <td>1463</td>\n",
       "      <td>NaN</td>\n",
       "    </tr>\n",
       "    <tr>\n",
       "      <th>mean</th>\n",
       "      <td>NaN</td>\n",
       "      <td>NaN</td>\n",
       "      <td>NaN</td>\n",
       "      <td>1.743267</td>\n",
       "      <td>NaN</td>\n",
       "      <td>302.660971</td>\n",
       "    </tr>\n",
       "    <tr>\n",
       "      <th>std</th>\n",
       "      <td>NaN</td>\n",
       "      <td>NaN</td>\n",
       "      <td>NaN</td>\n",
       "      <td>2.008060</td>\n",
       "      <td>NaN</td>\n",
       "      <td>156.800949</td>\n",
       "    </tr>\n",
       "    <tr>\n",
       "      <th>min</th>\n",
       "      <td>NaN</td>\n",
       "      <td>NaN</td>\n",
       "      <td>NaN</td>\n",
       "      <td>0.000000</td>\n",
       "      <td>NaN</td>\n",
       "      <td>80.000000</td>\n",
       "    </tr>\n",
       "    <tr>\n",
       "      <th>25%</th>\n",
       "      <td>NaN</td>\n",
       "      <td>NaN</td>\n",
       "      <td>NaN</td>\n",
       "      <td>0.000000</td>\n",
       "      <td>NaN</td>\n",
       "      <td>200.000000</td>\n",
       "    </tr>\n",
       "    <tr>\n",
       "      <th>50%</th>\n",
       "      <td>NaN</td>\n",
       "      <td>NaN</td>\n",
       "      <td>NaN</td>\n",
       "      <td>0.000000</td>\n",
       "      <td>NaN</td>\n",
       "      <td>300.000000</td>\n",
       "    </tr>\n",
       "    <tr>\n",
       "      <th>75%</th>\n",
       "      <td>NaN</td>\n",
       "      <td>NaN</td>\n",
       "      <td>NaN</td>\n",
       "      <td>4.000000</td>\n",
       "      <td>NaN</td>\n",
       "      <td>350.000000</td>\n",
       "    </tr>\n",
       "    <tr>\n",
       "      <th>max</th>\n",
       "      <td>NaN</td>\n",
       "      <td>NaN</td>\n",
       "      <td>NaN</td>\n",
       "      <td>4.900000</td>\n",
       "      <td>NaN</td>\n",
       "      <td>1600.000000</td>\n",
       "    </tr>\n",
       "  </tbody>\n",
       "</table>\n",
       "</div>"
      ],
      "text/plain": [
       "                 name cuisine locality      ratings     time   price_for2\n",
       "count            1463    1463     1463  1463.000000     1463  1463.000000\n",
       "unique           1238     643        5          NaN        1          NaN\n",
       "top     Khadda Kombdi  Indian    Baner          NaN  -- MINS          NaN\n",
       "freq                6     109      473          NaN     1463          NaN\n",
       "mean              NaN     NaN      NaN     1.743267      NaN   302.660971\n",
       "std               NaN     NaN      NaN     2.008060      NaN   156.800949\n",
       "min               NaN     NaN      NaN     0.000000      NaN    80.000000\n",
       "25%               NaN     NaN      NaN     0.000000      NaN   200.000000\n",
       "50%               NaN     NaN      NaN     0.000000      NaN   300.000000\n",
       "75%               NaN     NaN      NaN     4.000000      NaN   350.000000\n",
       "max               NaN     NaN      NaN     4.900000      NaN  1600.000000"
      ]
     },
     "execution_count": 22,
     "metadata": {},
     "output_type": "execute_result"
    }
   ],
   "source": [
    "combine.describe(include = 'all')"
   ]
  },
  {
   "cell_type": "code",
   "execution_count": null,
   "metadata": {},
   "outputs": [],
   "source": []
  }
 ],
 "metadata": {
  "kernelspec": {
   "display_name": "Python 3",
   "language": "python",
   "name": "python3"
  },
  "language_info": {
   "codemirror_mode": {
    "name": "ipython",
    "version": 3
   },
   "file_extension": ".py",
   "mimetype": "text/x-python",
   "name": "python",
   "nbconvert_exporter": "python",
   "pygments_lexer": "ipython3",
   "version": "3.8.5"
  },
  "papermill": {
   "duration": 50.802971,
   "end_time": "2021-01-01T18:53:51.561827",
   "environment_variables": {},
   "exception": null,
   "input_path": "__notebook__.ipynb",
   "output_path": "__notebook__.ipynb",
   "parameters": {},
   "start_time": "2021-01-01T18:53:00.758856",
   "version": "2.1.0"
  }
 },
 "nbformat": 4,
 "nbformat_minor": 4
}
